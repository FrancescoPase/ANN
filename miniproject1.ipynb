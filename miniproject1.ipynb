{
 "cells": [
  {
   "cell_type": "markdown",
   "metadata": {},
   "source": [
    "# Miniproject 1: Image Classification\n",
    "\n",
    "## Introduction\n",
    "\n",
    "### Important dates:\n",
    "\n",
    "- Project release: Friday, 15th March 2019\n",
    "- **Submission deadline**: Monday, 29th April 2019, 11:59 pm\n",
    "\n",
    "### Description\n",
    "\n",
    "One of the deepest traditions in learning about deep learning is to first [tackle the exciting problem of MNIST classification](http://yann.lecun.com/exdb/mnist/). [The MNIST database](https://en.wikipedia.org/wiki/MNIST_database) (Modified National Institute of Standards and Technology database) is a large database of handwritten digits that is commonly used as a first test for new classification algorithms. \n",
    "We follow this tradition to investigate the performance of artificial neural networks of different complexity on MNIST. However, since MNIST is too easy for accessing the full power of modern machine learning algorithms (see e.g. [this post](https://twitter.com/goodfellow_ian/status/852591106655043584)) we will extend our analysis to the recently introduced, harder [Fashion-MNIST dataset](https://github.com/zalandoresearch/fashion-mnist).\n",
    "\n",
    "\n",
    "### Prerequisites\n",
    "\n",
    "- You should have a running installation of [tensorflow](https://www.tensorflow.org/install/) and [keras](https://keras.io/). Feel free to gain inspiration from the [Keras example directory](https://github.com/keras-team/keras/tree/master/examples) for your implementations.\n",
    "- You should know the concepts \"multilayer perceptron\", \"stochastic gradient descent with minibatches\", \"convolutional neural network\", \"training and validation data\", \"overfitting\" and \"early stopping\".\n",
    "\n",
    "### What you will learn\n",
    "\n",
    "- You will learn how to define feedforward neural networks in keras and fit them to data.\n",
    "- You will be guided through a prototyping procedure for the application of deep learning to a specific domain.\n",
    "- You will get in contact with concepts discussed later in the lecture, like \"regularization\", \"batch normalization\" and \"convolutional networks\".\n",
    "- You will gain some experience on the influence of network architecture, optimizer and regularization choices on the goodness of fit.\n",
    "- You will learn to be more patient :) Some fits may take your computer quite a bit of time; run them over night (or on an external server).\n",
    "\n",
    "### Evaluation criteria\n",
    "\n",
    "The evaluation is (mostly) based on the figures you submit and your answer sentences. Provide clear and concise answers respecting the indicated maximum length (answers to the questions should be below the line that says \"Answer to question ...\").\n",
    "\n",
    "**The submitted notebook must be run by you!** We will only do random tests of your code and not re-run the full notebook. There will be fraud detection sessions at the end of the semester.\n",
    "\n",
    "### Your names\n",
    "\n",
    "**Before you start**: please enter your full name(s) in the field below."
   ]
  },
  {
   "cell_type": "code",
   "execution_count": 1,
   "metadata": {
    "ExecuteTime": {
     "end_time": "2019-04-29T09:43:29.093508Z",
     "start_time": "2019-04-29T09:43:29.090717Z"
    }
   },
   "outputs": [],
   "source": [
    "student1 = \"Francesco Pase\"\n",
    "student2 = \"Murat  Topak\""
   ]
  },
  {
   "cell_type": "markdown",
   "metadata": {
    "ExecuteTime": {
     "end_time": "2018-02-22T21:52:59.697375Z",
     "start_time": "2018-02-22T21:52:59.689443Z"
    }
   },
   "source": [
    "## Some helper functions\n",
    "\n",
    "For your convenience we provide here some functions to preprocess the data and plot the results later. Simply run the following cells with `Shift-Enter`.\n",
    "\n",
    "### Dependencies and constants"
   ]
  },
  {
   "cell_type": "code",
   "execution_count": 8,
   "metadata": {
    "ExecuteTime": {
     "end_time": "2019-04-29T15:09:27.203977Z",
     "start_time": "2019-04-29T15:09:27.185223Z"
    }
   },
   "outputs": [],
   "source": [
    "%matplotlib inline\n",
    "\n",
    "import numpy as np\n",
    "import time\n",
    "import matplotlib.pyplot as plt\n",
    "import scipy.io\n",
    "\n",
    "import keras\n",
    "from keras import regularizers\n",
    "from keras.models import Sequential\n",
    "from keras.layers import Dense, Conv2D, MaxPooling2D, Dropout, Flatten, BatchNormalization, Activation\n",
    "from keras.optimizers import SGD, Adam"
   ]
  },
  {
   "cell_type": "markdown",
   "metadata": {},
   "source": [
    "### Plotting"
   ]
  },
  {
   "cell_type": "code",
   "execution_count": 3,
   "metadata": {
    "ExecuteTime": {
     "end_time": "2019-04-29T15:08:57.958161Z",
     "start_time": "2019-04-29T15:08:57.926363Z"
    }
   },
   "outputs": [],
   "source": [
    "def plot_some_samples(x, y = [], yhat = [], select_from = [], \n",
    "                      ncols = 6, nrows = 4, xdim = 28, ydim = 28,\n",
    "                      label_mapping = range(10)):\n",
    "    \"\"\"plot some input vectors as grayscale images (optionally together with their assigned or predicted labels).\n",
    "    \n",
    "    x is an NxD - dimensional array, where D is the length of an input vector and N is the number of samples.\n",
    "    Out of the N samples, ncols x nrows indices are randomly selected from the list select_from (if it is empty, select_from becomes range(N)).\n",
    "    \n",
    "    Keyword arguments:\n",
    "    y             -- corresponding labels to plot in green below each image.\n",
    "    yhat          -- corresponding predicted labels to plot in red below each image.\n",
    "    select_from   -- list of indices from which to select the images.\n",
    "    ncols, nrows  -- number of columns and rows to plot.\n",
    "    xdim, ydim    -- number of pixels of the images in x- and y-directionù.\n",
    "    label_mapping -- map labels to digits.\n",
    "    \n",
    "    \"\"\"\n",
    "    fig, ax = plt.subplots(nrows, ncols)\n",
    "    if len(select_from) == 0:\n",
    "        select_from = range(x.shape[0])\n",
    "    indices = np.random.choice(select_from, size = min(ncols * nrows, len(select_from)), replace = False)\n",
    "    for i, ind in enumerate(indices):\n",
    "        thisax = ax[i//ncols,i%ncols]\n",
    "        thisax.matshow(x[ind].reshape(xdim, ydim), cmap='gray')\n",
    "        thisax.set_axis_off()\n",
    "        if len(y) != 0:\n",
    "            j = y[ind] if type(y[ind]) != np.ndarray else y[ind].argmax()\n",
    "            thisax.text(0, 0, (label_mapping[j]+1)%10, color='green', \n",
    "                                                       verticalalignment='top',\n",
    "                                                       transform=thisax.transAxes)\n",
    "        if len(yhat) != 0:\n",
    "            k = yhat[ind] if type(yhat[ind]) != np.ndarray else yhat[ind].argmax()\n",
    "            thisax.text(1, 0, (label_mapping[k]+1)%10, color='red',\n",
    "                                             verticalalignment='top',\n",
    "                                             horizontalalignment='right',\n",
    "                                             transform=thisax.transAxes)\n",
    "    return fig\n",
    "\n",
    "def prepare_standardplot(title, xlabel):\n",
    "    fig, (ax1, ax2) = plt.subplots(1, 2, figsize=(12,6))\n",
    "    fig.suptitle(title)\n",
    "    ax1.set_ylabel('categorical cross entropy')\n",
    "    ax1.set_xlabel(xlabel)\n",
    "    ax1.set_yscale('log')\n",
    "    ax2.set_ylabel('accuracy [% correct]')\n",
    "    ax2.set_xlabel(xlabel)\n",
    "    return fig, ax1, ax2\n",
    "\n",
    "def finalize_standardplot(fig, ax1, ax2):\n",
    "    ax1handles, ax1labels = ax1.get_legend_handles_labels()\n",
    "    if len(ax1labels) > 0:\n",
    "        ax1.legend(ax1handles, ax1labels)\n",
    "    ax2handles, ax2labels = ax2.get_legend_handles_labels()\n",
    "    if len(ax2labels) > 0:\n",
    "        ax2.legend(ax2handles, ax2labels)\n",
    "    fig.tight_layout()\n",
    "    plt.subplots_adjust(top=0.9)\n",
    "\n",
    "def plot_history(history, title):\n",
    "    fig, ax1, ax2 = prepare_standardplot(title, 'epoch')\n",
    "    ax1.plot(history.history['loss'], label = \"training\")\n",
    "    ax1.plot(history.history['val_loss'], label = \"validation\")\n",
    "    ax2.plot(history.history['acc'], label = \"training\")\n",
    "    ax2.plot(history.history['val_acc'], label = \"validation\")\n",
    "    finalize_standardplot(fig, ax1, ax2)\n",
    "    \n",
    "    return fig\n"
   ]
  },
  {
   "cell_type": "markdown",
   "metadata": {},
   "source": [
    "## Exercise 1: Data import and visualization (4 points)\n",
    "\n",
    "### Description\n",
    "\n",
    "### Loading the data\n",
    "\n",
    "The datasets we use in this project (MNIST, Fashion-MNIST) consists of grayscale images with 28x28 pixels. Keras comes with a convenient in-built [data importer](https://keras.io/datasets/) for common datasets.\n",
    "\n",
    "1. As a warm-up exercise, use this importer to (down-)load the MNIST and Fashion-MNIST dataset. Assign useful variables to test & train images and labels for both datasets respectively. (2 pts)\n",
    "2. Use the corresponding plotting function defined above to plot some samples of the two datasets. What do the green digits at the bottom left of each image indicate? (1 sentence max.) (2 pts)\n",
    "\n",
    "The low resolution (and grayscale) of the images certainly misses some information that could be helpful for classifying the images. However, since the data has lower dimensionality due to the low resolution, the fitting procedures converge faster. This is an advantage in situations like here (or generally when prototyping), were we want to try many different things without having to wait too long for computations to finish.\n",
    "\n"
   ]
  },
  {
   "cell_type": "markdown",
   "metadata": {},
   "source": [
    "### Solution"
   ]
  },
  {
   "cell_type": "code",
   "execution_count": 4,
   "metadata": {
    "ExecuteTime": {
     "end_time": "2019-04-29T15:09:03.396704Z",
     "start_time": "2019-04-29T15:09:01.114710Z"
    }
   },
   "outputs": [
    {
     "data": {
      "image/png": "[encoded data removed]",
      "text/plain": [
       "<Figure size 432x288 with 24 Axes>"
      ]
     },
     "metadata": {
      "needs_background": "light"
     },
     "output_type": "display_data"
    },
    {
     "data": {
      "image/png": "[encoded data removed]",
      "text/plain": [
       "<Figure size 432x288 with 24 Axes>"
      ]
     },
     "metadata": {
      "needs_background": "light"
     },
     "output_type": "display_data"
    }
   ],
   "source": [
    "from keras.datasets import mnist\n",
    "from keras.datasets import fashion_mnist\n",
    "\n",
    "(x_train, y_train), (x_test, y_test) =  mnist.load_data()\n",
    "(x_fashion_train, y_fashion_train), (x_fashion_test, y_fashion_test) = fashion_mnist.load_data()\n",
    "\n",
    "plot_some_samples(x_train, y_train)\n",
    "plot_some_samples(x_fashion_train, y_fashion_train);"
   ]
  },
  {
   "cell_type": "markdown",
   "metadata": {},
   "source": [
    "Answer to question 2:"
   ]
  },
  {
   "cell_type": "markdown",
   "metadata": {},
   "source": [
    "The green digits are the labels of the plotted input vectors."
   ]
  },
  {
   "cell_type": "markdown",
   "metadata": {},
   "source": [
    "**Data pre-processing**: To prepare for fitting we transform the labels to one hot coding, i.e. for 5 classes, label 2 becomes the vector [0, 0, 1, 0, 0] (python uses 0-indexing). Furthermore we reshape (flatten) the input images to input vectors and rescale the data into the range [0,1]."
   ]
  },
  {
   "cell_type": "code",
   "execution_count": 5,
   "metadata": {
    "ExecuteTime": {
     "end_time": "2019-04-29T15:09:03.554702Z",
     "start_time": "2019-04-29T15:09:03.548247Z"
    }
   },
   "outputs": [],
   "source": [
    "y_train = keras.utils.to_categorical(y_train)\n",
    "y_test = keras.utils.to_categorical(y_test)\n",
    "\n",
    "y_fashion_train = keras.utils.to_categorical(y_fashion_train)\n",
    "y_fashion_test = keras.utils.to_categorical(y_fashion_test)"
   ]
  },
  {
   "cell_type": "code",
   "execution_count": 6,
   "metadata": {
    "ExecuteTime": {
     "end_time": "2019-04-29T15:09:04.377052Z",
     "start_time": "2019-04-29T15:09:03.942421Z"
    }
   },
   "outputs": [],
   "source": [
    "x_train = x_train.reshape(x_train.shape[0], x_train.shape[1]*x_train.shape[2])/np.max(x_train)\n",
    "x_test = x_test.reshape(x_test.shape[0], x_test.shape[1]*x_test.shape[2])/np.max(x_test)\n",
    "\n",
    "x_fashion_train = x_fashion_train.reshape(x_fashion_train.shape[0], x_fashion_train.shape[1]*x_fashion_train.shape[2])/np.max(x_fashion_train)\n",
    "x_fashion_test = x_fashion_test.reshape(x_fashion_test.shape[0], x_fashion_test.shape[1]*x_fashion_test.shape[2])/np.max(x_fashion_test)"
   ]
  },
  {
   "cell_type": "markdown",
   "metadata": {},
   "source": [
    "## Exercise 2: No hidden layer (10 points)\n",
    "\n",
    "### Description\n",
    "\n",
    "Define and fit a model without a hidden layer (since we will use multi-layer models later in this project, you can define a general constructor function for models with an arbitrary number of hidden layers already at this point). (1 pt for each step)\n",
    "\n",
    "1. Use the softmax activation for the output layer.\n",
    "2. Use the categorical_crossentropy loss.\n",
    "3. Add the accuracy metric to the metrics.\n",
    "4. Choose stochastic gradient descent for the optimizer.\n",
    "5. Choose a minibatch size of 128.\n",
    "6. Fit for as many epochs as needed to see no further decrease in the validation loss.\n",
    "7. Plot the output of the fitting procedure (a history object) using the function plot_history defined above.\n",
    "8. Determine the indices of all test images that are misclassified by the fitted model and plot some of them using the function \n",
    "   `plot_some_samples(x_test, y_test, yhat_test, error_indices)`. Explain the green and red digits at the bottom of each image.\n",
    "9. Repeat the above steps for fitting the network to the Fashion-MNIST dataset.\n",
    "\n",
    "\n",
    "Hints:\n",
    "* Read the keras docs, in particular [Getting started with the Keras Sequential model](https://keras.io/getting-started/sequential-model-guide/).\n",
    "* Have a look at the keras [examples](https://github.com/keras-team/keras/tree/master/examples), e.g. [mnist_mlp](https://github.com/keras-team/keras/blob/master/examples/mnist_mlp.py)."
   ]
  },
  {
   "cell_type": "markdown",
   "metadata": {},
   "source": [
    "### Solution"
   ]
  },
  {
   "cell_type": "code",
   "execution_count": 7,
   "metadata": {
    "ExecuteTime": {
     "end_time": "2019-04-29T15:09:12.751057Z",
     "start_time": "2019-04-29T15:09:10.031457Z"
    }
   },
   "outputs": [
    {
     "name": "stdout",
     "output_type": "stream",
     "text": [
      "Train on 48000 samples, validate on 12000 samples\n",
      "Epoch 1/50\n",
      "48000/48000 [==============================] - 1s 15us/step - loss: 1.4006 - acc: 0.6606 - val_loss: 0.8972 - val_acc: 0.8237\n",
      "Epoch 2/50\n",
      "48000/48000 [==============================] - 1s 14us/step - loss: 0.7955 - acc: 0.8279 - val_loss: 0.6571 - val_acc: 0.8588\n",
      "Epoch 3/50\n",
      "48000/48000 [==============================] - 1s 15us/step - loss: 0.6444 - acc: 0.8505 - val_loss: 0.5618 - val_acc: 0.8722\n",
      "Epoch 4/50\n",
      "13824/48000 [=======>......................] - ETA: 0s - loss: 0.5905 - acc: 0.8591"
     ]
    },
    {
     "ename": "KeyboardInterrupt",
     "evalue": "",
     "output_type": "error",
     "traceback": [
      "\u001b[0;31m---------------------------------------------------------------------------\u001b[0m",
      "\u001b[0;31mKeyboardInterrupt\u001b[0m                         Traceback (most recent call last)",
      "\u001b[0;32m<ipython-input-7-bd172c139217>\u001b[0m in \u001b[0;36m<module>\u001b[0;34m\u001b[0m\n\u001b[1;32m      9\u001b[0m \u001b[0;34m\u001b[0m\u001b[0m\n\u001b[1;32m     10\u001b[0m \u001b[0mmodel\u001b[0m\u001b[0;34m.\u001b[0m\u001b[0mcompile\u001b[0m\u001b[0;34m(\u001b[0m\u001b[0moptimizer\u001b[0m\u001b[0;34m=\u001b[0m\u001b[0;34m'sgd'\u001b[0m\u001b[0;34m,\u001b[0m \u001b[0mloss\u001b[0m\u001b[0;34m=\u001b[0m\u001b[0;34m'categorical_crossentropy'\u001b[0m\u001b[0;34m,\u001b[0m \u001b[0mmetrics\u001b[0m\u001b[0;34m=\u001b[0m\u001b[0;34m[\u001b[0m\u001b[0;34m'accuracy'\u001b[0m\u001b[0;34m]\u001b[0m\u001b[0;34m)\u001b[0m\u001b[0;34m\u001b[0m\u001b[0;34m\u001b[0m\u001b[0m\n\u001b[0;32m---> 11\u001b[0;31m \u001b[0mhistory\u001b[0m \u001b[0;34m=\u001b[0m \u001b[0mmodel\u001b[0m\u001b[0;34m.\u001b[0m\u001b[0mfit\u001b[0m\u001b[0;34m(\u001b[0m\u001b[0mx_train\u001b[0m\u001b[0;34m,\u001b[0m \u001b[0my_train\u001b[0m\u001b[0;34m,\u001b[0m \u001b[0mbatch_size\u001b[0m\u001b[0;34m=\u001b[0m\u001b[0;36m128\u001b[0m\u001b[0;34m,\u001b[0m \u001b[0mepochs\u001b[0m\u001b[0;34m=\u001b[0m\u001b[0;36m50\u001b[0m\u001b[0;34m,\u001b[0m \u001b[0mvalidation_split\u001b[0m\u001b[0;34m=\u001b[0m\u001b[0;36m0.2\u001b[0m\u001b[0;34m,\u001b[0m \u001b[0mverbose\u001b[0m\u001b[0;34m=\u001b[0m\u001b[0;36m1\u001b[0m\u001b[0;34m)\u001b[0m\u001b[0;34m\u001b[0m\u001b[0;34m\u001b[0m\u001b[0m\n\u001b[0m\u001b[1;32m     12\u001b[0m \u001b[0;34m\u001b[0m\u001b[0m\n\u001b[1;32m     13\u001b[0m \u001b[0;34m\u001b[0m\u001b[0m\n",
      "\u001b[0;32m~/miniconda3/envs/cs456/lib/python3.6/site-packages/keras/engine/training.py\u001b[0m in \u001b[0;36mfit\u001b[0;34m(self, x, y, batch_size, epochs, verbose, callbacks, validation_split, validation_data, shuffle, class_weight, sample_weight, initial_epoch, steps_per_epoch, validation_steps, **kwargs)\u001b[0m\n\u001b[1;32m   1037\u001b[0m                                         \u001b[0minitial_epoch\u001b[0m\u001b[0;34m=\u001b[0m\u001b[0minitial_epoch\u001b[0m\u001b[0;34m,\u001b[0m\u001b[0;34m\u001b[0m\u001b[0;34m\u001b[0m\u001b[0m\n\u001b[1;32m   1038\u001b[0m                                         \u001b[0msteps_per_epoch\u001b[0m\u001b[0;34m=\u001b[0m\u001b[0msteps_per_epoch\u001b[0m\u001b[0;34m,\u001b[0m\u001b[0;34m\u001b[0m\u001b[0;34m\u001b[0m\u001b[0m\n\u001b[0;32m-> 1039\u001b[0;31m                                         validation_steps=validation_steps)\n\u001b[0m\u001b[1;32m   1040\u001b[0m \u001b[0;34m\u001b[0m\u001b[0m\n\u001b[1;32m   1041\u001b[0m     def evaluate(self, x=None, y=None,\n",
      "\u001b[0;32m~/miniconda3/envs/cs456/lib/python3.6/site-packages/keras/engine/training_arrays.py\u001b[0m in \u001b[0;36mfit_loop\u001b[0;34m(model, f, ins, out_labels, batch_size, epochs, verbose, callbacks, val_f, val_ins, shuffle, callback_metrics, initial_epoch, steps_per_epoch, validation_steps)\u001b[0m\n\u001b[1;32m    197\u001b[0m                     \u001b[0mins_batch\u001b[0m\u001b[0;34m[\u001b[0m\u001b[0mi\u001b[0m\u001b[0;34m]\u001b[0m \u001b[0;34m=\u001b[0m \u001b[0mins_batch\u001b[0m\u001b[0;34m[\u001b[0m\u001b[0mi\u001b[0m\u001b[0;34m]\u001b[0m\u001b[0;34m.\u001b[0m\u001b[0mtoarray\u001b[0m\u001b[0;34m(\u001b[0m\u001b[0;34m)\u001b[0m\u001b[0;34m\u001b[0m\u001b[0;34m\u001b[0m\u001b[0m\n\u001b[1;32m    198\u001b[0m \u001b[0;34m\u001b[0m\u001b[0m\n\u001b[0;32m--> 199\u001b[0;31m                 \u001b[0mouts\u001b[0m \u001b[0;34m=\u001b[0m \u001b[0mf\u001b[0m\u001b[0;34m(\u001b[0m\u001b[0mins_batch\u001b[0m\u001b[0;34m)\u001b[0m\u001b[0;34m\u001b[0m\u001b[0;34m\u001b[0m\u001b[0m\n\u001b[0m\u001b[1;32m    200\u001b[0m                 \u001b[0mouts\u001b[0m \u001b[0;34m=\u001b[0m \u001b[0mto_list\u001b[0m\u001b[0;34m(\u001b[0m\u001b[0mouts\u001b[0m\u001b[0;34m)\u001b[0m\u001b[0;34m\u001b[0m\u001b[0;34m\u001b[0m\u001b[0m\n\u001b[1;32m    201\u001b[0m                 \u001b[0;32mfor\u001b[0m \u001b[0ml\u001b[0m\u001b[0;34m,\u001b[0m \u001b[0mo\u001b[0m \u001b[0;32min\u001b[0m \u001b[0mzip\u001b[0m\u001b[0;34m(\u001b[0m\u001b[0mout_labels\u001b[0m\u001b[0;34m,\u001b[0m \u001b[0mouts\u001b[0m\u001b[0;34m)\u001b[0m\u001b[0;34m:\u001b[0m\u001b[0;34m\u001b[0m\u001b[0;34m\u001b[0m\u001b[0m\n",
      "\u001b[0;32m~/miniconda3/envs/cs456/lib/python3.6/site-packages/keras/backend/tensorflow_backend.py\u001b[0m in \u001b[0;36m__call__\u001b[0;34m(self, inputs)\u001b[0m\n\u001b[1;32m   2713\u001b[0m                 \u001b[0;32mreturn\u001b[0m \u001b[0mself\u001b[0m\u001b[0;34m.\u001b[0m\u001b[0m_legacy_call\u001b[0m\u001b[0;34m(\u001b[0m\u001b[0minputs\u001b[0m\u001b[0;34m)\u001b[0m\u001b[0;34m\u001b[0m\u001b[0;34m\u001b[0m\u001b[0m\n\u001b[1;32m   2714\u001b[0m \u001b[0;34m\u001b[0m\u001b[0m\n\u001b[0;32m-> 2715\u001b[0;31m             \u001b[0;32mreturn\u001b[0m \u001b[0mself\u001b[0m\u001b[0;34m.\u001b[0m\u001b[0m_call\u001b[0m\u001b[0;34m(\u001b[0m\u001b[0minputs\u001b[0m\u001b[0;34m)\u001b[0m\u001b[0;34m\u001b[0m\u001b[0;34m\u001b[0m\u001b[0m\n\u001b[0m\u001b[1;32m   2716\u001b[0m         \u001b[0;32melse\u001b[0m\u001b[0;34m:\u001b[0m\u001b[0;34m\u001b[0m\u001b[0;34m\u001b[0m\u001b[0m\n\u001b[1;32m   2717\u001b[0m             \u001b[0;32mif\u001b[0m \u001b[0mpy_any\u001b[0m\u001b[0;34m(\u001b[0m\u001b[0mis_tensor\u001b[0m\u001b[0;34m(\u001b[0m\u001b[0mx\u001b[0m\u001b[0;34m)\u001b[0m \u001b[0;32mfor\u001b[0m \u001b[0mx\u001b[0m \u001b[0;32min\u001b[0m \u001b[0minputs\u001b[0m\u001b[0;34m)\u001b[0m\u001b[0;34m:\u001b[0m\u001b[0;34m\u001b[0m\u001b[0;34m\u001b[0m\u001b[0m\n",
      "\u001b[0;32m~/miniconda3/envs/cs456/lib/python3.6/site-packages/keras/backend/tensorflow_backend.py\u001b[0m in \u001b[0;36m_call\u001b[0;34m(self, inputs)\u001b[0m\n\u001b[1;32m   2653\u001b[0m                 array_vals.append(\n\u001b[1;32m   2654\u001b[0m                     np.asarray(value,\n\u001b[0;32m-> 2655\u001b[0;31m                                dtype=tf.as_dtype(tensor.dtype).as_numpy_dtype))\n\u001b[0m\u001b[1;32m   2656\u001b[0m         \u001b[0;32mif\u001b[0m \u001b[0mself\u001b[0m\u001b[0;34m.\u001b[0m\u001b[0mfeed_dict\u001b[0m\u001b[0;34m:\u001b[0m\u001b[0;34m\u001b[0m\u001b[0;34m\u001b[0m\u001b[0m\n\u001b[1;32m   2657\u001b[0m             \u001b[0;32mfor\u001b[0m \u001b[0mkey\u001b[0m \u001b[0;32min\u001b[0m \u001b[0msorted\u001b[0m\u001b[0;34m(\u001b[0m\u001b[0mself\u001b[0m\u001b[0;34m.\u001b[0m\u001b[0mfeed_dict\u001b[0m\u001b[0;34m.\u001b[0m\u001b[0mkeys\u001b[0m\u001b[0;34m(\u001b[0m\u001b[0;34m)\u001b[0m\u001b[0;34m)\u001b[0m\u001b[0;34m:\u001b[0m\u001b[0;34m\u001b[0m\u001b[0;34m\u001b[0m\u001b[0m\n",
      "\u001b[0;32m~/miniconda3/envs/cs456/lib/python3.6/site-packages/numpy/core/numeric.py\u001b[0m in \u001b[0;36masarray\u001b[0;34m(a, dtype, order)\u001b[0m\n\u001b[1;32m    536\u001b[0m \u001b[0;34m\u001b[0m\u001b[0m\n\u001b[1;32m    537\u001b[0m     \"\"\"\n\u001b[0;32m--> 538\u001b[0;31m     \u001b[0;32mreturn\u001b[0m \u001b[0marray\u001b[0m\u001b[0;34m(\u001b[0m\u001b[0ma\u001b[0m\u001b[0;34m,\u001b[0m \u001b[0mdtype\u001b[0m\u001b[0;34m,\u001b[0m \u001b[0mcopy\u001b[0m\u001b[0;34m=\u001b[0m\u001b[0;32mFalse\u001b[0m\u001b[0;34m,\u001b[0m \u001b[0morder\u001b[0m\u001b[0;34m=\u001b[0m\u001b[0morder\u001b[0m\u001b[0;34m)\u001b[0m\u001b[0;34m\u001b[0m\u001b[0;34m\u001b[0m\u001b[0m\n\u001b[0m\u001b[1;32m    539\u001b[0m \u001b[0;34m\u001b[0m\u001b[0m\n\u001b[1;32m    540\u001b[0m \u001b[0;34m\u001b[0m\u001b[0m\n",
      "\u001b[0;31mKeyboardInterrupt\u001b[0m: "
     ]
    }
   ],
   "source": [
    "#MNIST\n",
    "\n",
    "model = Sequential()\n",
    "model.add(Dense(10, input_dim = 784, activation='softmax'))\n",
    "\n",
    "\n",
    "model.compile(optimizer='sgd', loss='categorical_crossentropy', metrics=['accuracy'])\n",
    "history = model.fit(x_train, y_train, batch_size=128, epochs=50, validation_split=0.2, verbose=1)\n",
    "\n",
    "\n",
    "pred = model.predict(x_test)\n",
    "y_hat_test = np.argmax(pred, axis=1)\n",
    "y_truth = np.argmax(y_test, axis=1)\n",
    "err_indices = (y_hat_test != y_truth).nonzero()\n",
    "\n",
    "plot_history(history, 'MNIST');\n",
    "plot_some_samples(x_test, y_test, y_hat_test, err_indices[0]);\n",
    "\n"
   ]
  },
  {
   "cell_type": "code",
   "execution_count": null,
   "metadata": {
    "ExecuteTime": {
     "end_time": "2019-04-27T12:57:30.814520Z",
     "start_time": "2019-04-27T12:56:54.716374Z"
    }
   },
   "outputs": [],
   "source": [
    "#MNIST FASHION\n",
    "model = Sequential()\n",
    "model.add(Dense(10, input_dim = 784, activation='softmax'))\n",
    "\n",
    "\n",
    "model.compile(optimizer='sgd', loss='categorical_crossentropy', metrics=['accuracy'])\n",
    "history = model.fit(x_fashion_train, y_fashion_train, batch_size=128, epochs=50, validation_split=0.2, verbose=1)\n",
    "\n",
    "\n",
    "pred = model.predict(x_fashion_test)\n",
    "y_hat_fashion_test = np.argmax(pred, axis=1)\n",
    "y_fashion_truth = np.argmax(y_fashion_test, axis=1)\n",
    "err_indices = (y_hat_fashion_test != y_fashion_truth).nonzero()\n",
    "\n",
    "plot_history(history, 'Fashion-MNIST');\n",
    "plot_some_samples(x_fashion_test, y_fashion_test, y_hat_fashion_test, err_indices[0]);"
   ]
  },
  {
   "cell_type": "markdown",
   "metadata": {},
   "source": [
    "Answer to question 8:"
   ]
  },
  {
   "cell_type": "markdown",
   "metadata": {},
   "source": [
    "They are both labels, the green being the true label, and the red being the predicted label. For example, in the MNIST dataset, we see a lot of 8,9,0 are misclassified. This makes sense since those 3 numbers highly resemble each other in terms of their shape and drawing. Of course, we can try to fine-tune the model or simply retrieve more data to reduce these mispredictions."
   ]
  },
  {
   "cell_type": "markdown",
   "metadata": {},
   "source": [
    "## Exercise 3: One hidden layer, different optizimizers & overfitting (10 points)\n",
    "\n",
    "### Description\n",
    "\n",
    "Train a network with one hidden layer and compare different optimizers.\n",
    "\n",
    "1. Use one hidden layer with 128 units and the 'relu' activation. Use the [summary method](https://keras.io/models/about-keras-models/) to display your model in a compact way. (1 pt)\n",
    "2. Fit the model for 50 epochs with different learning rates of stochastic gradient descent (SGD). (1pt)\n",
    "3. Replace the stochastic gradient descent optimizer with the [Adam optimizer](https://keras.io/optimizers/#adam). (1pt)\n",
    "4. Plot the learning curves of SGD with a reasonable learning rate (i.e. in the range [0.01,0.1]) together with the learning curves of Adam in the same figure. Take care of a reasonable labeling of the curves in the plot. (2pts)\n",
    "5. Answer the questions below. (4pts)\n",
    "6. Run the network (using the Adam optimizer) on the Fashion-MNIST dataset and plot the learning curves using the plot_history function defined above. (1pt)"
   ]
  },
  {
   "cell_type": "markdown",
   "metadata": {},
   "source": [
    "### Solution"
   ]
  },
  {
   "cell_type": "code",
   "execution_count": 10,
   "metadata": {
    "ExecuteTime": {
     "end_time": "2019-04-29T15:09:51.921818Z",
     "start_time": "2019-04-29T15:09:51.911353Z"
    }
   },
   "outputs": [],
   "source": [
    "from keras import optimizers\n"
   ]
  },
  {
   "cell_type": "code",
   "execution_count": null,
   "metadata": {
    "ExecuteTime": {
     "end_time": "2019-04-27T10:42:09.255181Z",
     "start_time": "2019-04-27T10:40:11.523933Z"
    }
   },
   "outputs": [],
   "source": [
    "\n",
    "\n",
    "model = Sequential()\n",
    "model.add(Dense(128, input_dim = 784, activation='relu'))\n",
    "model.add(Dense(10, activation='softmax'))\n",
    "\n",
    "model.summary()\n",
    "\n",
    "\n",
    "available_lr = [0.0001, 0.05, 0.9 ]\n",
    "histories = []\n",
    "for alr in available_lr:\n",
    "    sgd = optimizers.SGD(lr = alr)\n",
    "    model.compile(optimizer = sgd, loss = 'categorical_crossentropy', metrics = ['accuracy'])\n",
    "    history = model.fit(x_fashion_train, y_fashion_train, batch_size = 128, epochs = 50, validation_split = 0.2, verbose=1)\n",
    "    histories.append(history)\n"
   ]
  },
  {
   "cell_type": "code",
   "execution_count": 12,
   "metadata": {
    "ExecuteTime": {
     "end_time": "2019-04-29T15:10:12.051923Z",
     "start_time": "2019-04-29T15:10:12.030380Z"
    },
    "scrolled": true
   },
   "outputs": [],
   "source": [
    "def comparisonSGD_plot(histories, labels, title):\n",
    "    fig, ax1, ax2 = prepare_standardplot(title, \"epochs\")\n",
    "    linestyles = [':', '--', '-', ':']\n",
    "    for (history,lbl, lstyle) in zip(histories, labels, linestyles):\n",
    "        ax1.plot(history.history['loss'], label= str(lbl) + ' training', linestyle=lstyle)\n",
    "        ax1.plot(history.history['val_loss'], label= str(lbl) + ' validation', linestyle=lstyle)\n",
    "        ax2.plot(history.history['acc'], label= str(lbl) + ' training', linestyle=lstyle)\n",
    "        ax2.plot(history.history['val_acc'], label= str(lbl) + ' validation', linestyle=lstyle)\n",
    "\n",
    "    fig.suptitle(title, x=0.8)\n",
    "    ax2handles, ax2labels = ax2.get_legend_handles_labels()\n",
    "    if len(ax2labels) > 0:\n",
    "        ax2.legend(ax2handles, ax2labels, loc='upper right', bbox_to_anchor=(0.5, -0.2), ncol=3)\n",
    "    plt.subplots_adjust(right=1.5)\n",
    "    #fig.tight_layout()\n",
    "    return fig\n"
   ]
  },
  {
   "cell_type": "code",
   "execution_count": null,
   "metadata": {},
   "outputs": [],
   "source": [
    "comparisonSGD_plot(histories, available_lr, 'VARIOUS LRs');"
   ]
  },
  {
   "cell_type": "code",
   "execution_count": 13,
   "metadata": {
    "ExecuteTime": {
     "end_time": "2019-04-29T15:10:19.956349Z",
     "start_time": "2019-04-29T15:10:19.924880Z"
    }
   },
   "outputs": [],
   "source": [
    "# This plotting routine might help you ...\n",
    "\n",
    "def comparison_plot(history_sgd, history_adam, label1, label2, title):\n",
    "    fig, ax1, ax2 = prepare_standardplot(title, \"epochs\")\n",
    "    ax1.plot(history_sgd.history['loss'], label=label1 + ' training')\n",
    "    ax1.plot(history_sgd.history['val_loss'], label=label1 + ' validation')\n",
    "    ax1.plot(history_adam.history['loss'], label=label2 + ' training')\n",
    "    ax1.plot(history_adam.history['val_loss'], label=label2 + ' validation')\n",
    "    ax2.plot(history_sgd.history['acc'], label=label1 + ' training')\n",
    "    ax2.plot(history_sgd.history['val_acc'], label=label1 + ' validation')\n",
    "    ax2.plot(history_adam.history['acc'], label=label2 + ' training')\n",
    "    ax2.plot(history_adam.history['val_acc'], label=label2 + ' validation')\n",
    "    finalize_standardplot(fig, ax1, ax2)\n",
    "    return fig\n",
    "\n",
    "\n"
   ]
  },
  {
   "cell_type": "code",
   "execution_count": null,
   "metadata": {
    "ExecuteTime": {
     "end_time": "2019-04-27T14:01:17.661326Z",
     "start_time": "2019-04-27T14:01:13.922074Z"
    }
   },
   "outputs": [],
   "source": [
    "model = Sequential()\n",
    "model.add(Dense(128, input_dim = 784, activation='relu'))\n",
    "model.add(Dense(10, activation='softmax'))\n",
    "\n",
    "#model.summary()\n",
    "\n",
    "sgd = optimizers.SGD(lr = 0.01)\n",
    "model.compile(optimizer = sgd, loss = 'categorical_crossentropy', metrics = ['accuracy'])\n",
    "historySGD = model.fit(x_train, y_train, batch_size = 128, epochs = 50, validation_split = 0.2, verbose=1)\n",
    "\n",
    "adam = optimizers.Adam(lr = 0.01)\n",
    "model.compile(optimizer=adam, loss = 'categorical_crossentropy', metrics = ['accuracy'])\n",
    "historyAdam = model.fit(x_train, y_train, batch_size = 128, epochs = 50, validation_split = 0.2, verbose=1)\n",
    "\n",
    "\n",
    "_ = comparison_plot(historySGD, historyAdam, 'SGD', 'Adam', 'SGD vs Adam with lr=0.01');"
   ]
  },
  {
   "cell_type": "code",
   "execution_count": null,
   "metadata": {
    "ExecuteTime": {
     "end_time": "2019-04-24T07:28:58.951423Z",
     "start_time": "2019-04-24T07:27:34.912705Z"
    }
   },
   "outputs": [],
   "source": [
    "model = Sequential()\n",
    "model.add(Dense(128, input_dim = 784, activation='relu'))\n",
    "model.add(Dense(10, activation='softmax'))\n",
    "\n",
    "\n",
    "adam = optimizers.Adam(lr = 0.01)\n",
    "model.compile(optimizer=adam, loss = 'categorical_crossentropy', metrics = ['accuracy'])\n",
    "historyAdam = model.fit(x_fashion_train, y_fashion_train, batch_size = 128, epochs = 50, validation_split = 0.2, verbose=1)\n",
    "plot_history(historyAdam, 'Adam on Fashion-MNIST');"
   ]
  },
  {
   "cell_type": "markdown",
   "metadata": {},
   "source": [
    "**Question**: What happens if the learning rate of SGD is A) very large B) very small? Please answer A) and B) with one full sentence each (double click this markdown cell to edit).\n",
    "\n",
    "**Answer**:\n",
    "\n",
    "A) In the first figure, we see that the model follows a fluctuated learning curve as opposed to the optimal learning rate as at each step it is likely to end up missing the local optimum due to high learning rate.\n",
    "\n",
    "B) Again from the first figure we conclude that the model tends to underperform, meaning that it does not achieve the best it can due to low learning rate as at each step the weights tend to stay the same because of the low learning rate\n",
    "\n",
    "**Question**: At which epoch (approximately) does the Adam optimizer start to overfit (on MNIST)? Please answer with one full sentence.\n",
    "\n",
    "**Answer**: From the red curve in the last figure, we see the loss on validation set starts to increase at around epoch 5-10, indicating a possible overfit.\n",
    "\n",
    "**Question**: Explain the qualitative difference between the loss curves and the accuracy curves with respect to signs of overfitting. Please answer with at most 3 full sentences.\n",
    "\n",
    "TOOOOOOOOOOOOOOOOOOOOOOOOOOOO DOOOOOOOOOOOOOOOOOOO\n",
    "\n",
    "**Answer**: We decided to analyze Adam experiment. The first difference is that validation Loss and Accuracy curves present different behaviours , so while the Loss one goes up above the training Loss, the Accuracy curve doesn't change much over time. This is most likely the case because while overfitting, the errors in the misclassified validation samples icrease but the prectentage of right and wrong predictions remained the same."
   ]
  },
  {
   "cell_type": "code",
   "execution_count": null,
   "metadata": {},
   "outputs": [],
   "source": []
  },
  {
   "cell_type": "markdown",
   "metadata": {},
   "source": [
    "## Exercise 4: Model performance as a function of number of hidden neurons (8 points)\n",
    "\n",
    "### Description\n",
    "\n",
    "Investigate how the best validation loss and accuracy depends on the number of hidden neurons in a single layer.\n",
    "\n",
    "1. Fit a reasonable number of models (e.g. 5) with different hidden layer sizes (between 10 and 1000 hidden neurons) to the MNIST dataset. You may use the Adam optimizer and a meaningful number of epochs (overfitting!). (3 pts)\n",
    "2. Plot the best validation loss and accuracy versus the number of hidden neurons. Is the observed trend in accordance with the [general approximation theorem](https://en.wikipedia.org/wiki/Universal_approximation_theorem)? If not, what might be practical reasons for the deviation? (2 sentences max.) (3 pts)\n",
    "3. Repeat steps 1. & 2. for the Fashion-MNIST dataset. (2 pts)\n",
    "\n",
    "In this exercise we fit each model only for one initialization and random seed. In practice one would collect some statistics (e.g. 25-, 50-, 75-percentiles) for each layer size by fitting each model several times with different initializations and the random seeds. You may also want to do this here. It is a good exercise, but not mandatory as it takes quite a bit of computation time.\n",
    "\n",
    "### Solution"
   ]
  },
  {
   "cell_type": "code",
   "execution_count": null,
   "metadata": {
    "ExecuteTime": {
     "end_time": "2019-04-27T14:01:21.905545Z",
     "start_time": "2019-04-27T14:01:21.884138Z"
    }
   },
   "outputs": [],
   "source": [
    "\n",
    "def comparison_layer(histories,num_units, title):\n",
    "    fig, ax1, ax2 = prepare_standardplot(title, \"# of units\")\n",
    "    best_val_losses = [min(history.history['val_loss']) for history in histories]\n",
    "    best_val_accs = [max(history.history['val_acc']) for history in histories]\n",
    "\n",
    "    ax1.plot(num_units, best_val_losses, marker='o', linestyle='--')\n",
    "\n",
    "    ax2.plot(num_units, best_val_accs, marker='o', linestyle='--')\n",
    "\n",
    "    finalize_standardplot(fig, ax1, ax2)\n",
    "    ax2.set_ylim([0.9,1])\n",
    "    ax1.set_ylim([0.1,0.3])\n",
    "    return fig\n"
   ]
  },
  {
   "cell_type": "code",
   "execution_count": null,
   "metadata": {
    "ExecuteTime": {
     "end_time": "2019-04-24T07:33:41.835242Z",
     "start_time": "2019-04-24T07:30:11.552857Z"
    }
   },
   "outputs": [],
   "source": [
    "\n",
    "\n",
    "\n",
    "\n",
    "num_units = [10, 20, 40, 80, 160, 320, 640, 1000]\n",
    "histories = []\n",
    "for u in num_units:\n",
    "    model = Sequential()\n",
    "    model.add(Dense(u, input_dim = 784, activation='relu'))\n",
    "    model.add(Dense(10, activation='softmax'))\n",
    "    adam = optimizers.Adam(lr = 0.01)\n",
    "    model.compile(optimizer = adam, loss = 'categorical_crossentropy', metrics = ['accuracy'])\n",
    "    history = model.fit(x_train, y_train, batch_size = 128, epochs = 10, validation_split = 0.2, verbose=1)\n",
    "    histories.append(history)\n",
    "\n",
    "\n"
   ]
  },
  {
   "cell_type": "code",
   "execution_count": null,
   "metadata": {
    "ExecuteTime": {
     "end_time": "2019-04-24T07:33:42.280177Z",
     "start_time": "2019-04-24T07:33:41.850938Z"
    }
   },
   "outputs": [],
   "source": [
    "comparison_layer(histories, num_units, 'Loss and Accuracy vs. # of Units');\n"
   ]
  },
  {
   "cell_type": "markdown",
   "metadata": {},
   "source": [
    "Answer to question 2:"
   ]
  },
  {
   "cell_type": "markdown",
   "metadata": {},
   "source": [
    "Indeed, the figures are in accordance with the general approximation theorem although through the end we see an upward trend in the loss plot. This is also expected since the data is 784-d but we even tried 1000 units, so it is most likely we overfitted in that area."
   ]
  },
  {
   "cell_type": "markdown",
   "metadata": {},
   "source": [
    "## Exercise 5: Going deeper: tricks and regularization (8 points)\n",
    "\n",
    "### Description\n",
    "\n",
    "Adding hidden layers to a deep network does not necessarily lead to a straight-forward improvement of performance. Overfitting can be counteracted with regularization and dropout. Batch normalization is supposed to mainly speed up convergence. Since the MNIST dataset is almost perfectly solved already by a one-hidden-layer network we use the Fashion-MNIST dataset in this exercise.\n",
    "\n",
    "1. Add one or two hidden layers with 50 hidden neurons (each) and train the network for a sufficiently long time (at least 100 epochs). Since deep models are very expressive you will most probably encounter overfitting. Try to improve the best validation scores of the model (even if it is only a minor improvement) by experimenting with batch_normalization layers, dropout layers and l1- and l2-regularization on weights (kernels) and biases. (4 pts)\n",
    "2. After you have found good settings, plot the learning curves for both models, naive (=no tricks/regularization) and tuned (=tricks + regularized), preferably together in a comparison plot. Discuss your results; refer to the model performance with only 1 hidden layer. (2 sentences max.) (2pts)\n",
    "3. Fit your best performing (probably regularized deep) model also to MNIST for having a reference for the next exercise. Plot the resulting learning curves. (2 pts)\n",
    "\n",
    "### Solution"
   ]
  },
  {
   "cell_type": "code",
   "execution_count": 10,
   "metadata": {
    "ExecuteTime": {
     "end_time": "2019-04-29T09:47:41.546426Z",
     "start_time": "2019-04-29T09:45:19.647819Z"
    }
   },
   "outputs": [
    {
     "name": "stdout",
     "output_type": "stream",
     "text": [
      "Train on 48000 samples, validate on 12000 samples\n",
      "Epoch 1/100\n",
      "48000/48000 [==============================] - 1s 28us/step - loss: 0.6531 - acc: 0.7750 - val_loss: 0.4823 - val_acc: 0.8343\n",
      "Epoch 2/100\n",
      "48000/48000 [==============================] - 1s 28us/step - loss: 0.4489 - acc: 0.8439 - val_loss: 0.4272 - val_acc: 0.8517\n",
      "Epoch 3/100\n",
      "48000/48000 [==============================] - 1s 28us/step - loss: 0.4082 - acc: 0.8573 - val_loss: 0.4069 - val_acc: 0.8571\n",
      "Epoch 4/100\n",
      "48000/48000 [==============================] - 1s 31us/step - loss: 0.3797 - acc: 0.8671 - val_loss: 0.4052 - val_acc: 0.8563\n",
      "Epoch 5/100\n",
      "48000/48000 [==============================] - 2s 32us/step - loss: 0.3641 - acc: 0.8719 - val_loss: 0.3953 - val_acc: 0.8622\n",
      "Epoch 6/100\n",
      "48000/48000 [==============================] - 2s 33us/step - loss: 0.3497 - acc: 0.8751 - val_loss: 0.3698 - val_acc: 0.8695\n",
      "Epoch 7/100\n",
      "48000/48000 [==============================] - 1s 30us/step - loss: 0.3339 - acc: 0.8809 - val_loss: 0.3614 - val_acc: 0.8724\n",
      "Epoch 8/100\n",
      "48000/48000 [==============================] - 2s 32us/step - loss: 0.3250 - acc: 0.8839 - val_loss: 0.3709 - val_acc: 0.8708\n",
      "Epoch 9/100\n",
      "48000/48000 [==============================] - 2s 32us/step - loss: 0.3192 - acc: 0.8847 - val_loss: 0.3868 - val_acc: 0.8587\n",
      "Epoch 10/100\n",
      "48000/48000 [==============================] - 2s 32us/step - loss: 0.3090 - acc: 0.8901 - val_loss: 0.3429 - val_acc: 0.8786\n",
      "Epoch 11/100\n",
      "48000/48000 [==============================] - 1s 29us/step - loss: 0.3003 - acc: 0.8915 - val_loss: 0.3455 - val_acc: 0.8790\n",
      "Epoch 12/100\n",
      "48000/48000 [==============================] - 1s 31us/step - loss: 0.2957 - acc: 0.8926 - val_loss: 0.3442 - val_acc: 0.8784\n",
      "Epoch 13/100\n",
      "48000/48000 [==============================] - 2s 32us/step - loss: 0.2876 - acc: 0.8954 - val_loss: 0.3414 - val_acc: 0.8798\n",
      "Epoch 14/100\n",
      "48000/48000 [==============================] - 2s 32us/step - loss: 0.2832 - acc: 0.8974 - val_loss: 0.3393 - val_acc: 0.8770\n",
      "Epoch 15/100\n",
      "48000/48000 [==============================] - 2s 32us/step - loss: 0.2765 - acc: 0.9002 - val_loss: 0.3345 - val_acc: 0.8837\n",
      "Epoch 16/100\n",
      "48000/48000 [==============================] - 1s 31us/step - loss: 0.2710 - acc: 0.9025 - val_loss: 0.3331 - val_acc: 0.8825\n",
      "Epoch 17/100\n",
      "48000/48000 [==============================] - 2s 32us/step - loss: 0.2653 - acc: 0.9028 - val_loss: 0.3363 - val_acc: 0.8793\n",
      "Epoch 18/100\n",
      "48000/48000 [==============================] - 2s 33us/step - loss: 0.2610 - acc: 0.9053 - val_loss: 0.3393 - val_acc: 0.8805\n",
      "Epoch 19/100\n",
      "48000/48000 [==============================] - 2s 33us/step - loss: 0.2587 - acc: 0.9055 - val_loss: 0.3334 - val_acc: 0.8846\n",
      "Epoch 20/100\n",
      "48000/48000 [==============================] - 2s 31us/step - loss: 0.2532 - acc: 0.9087 - val_loss: 0.3299 - val_acc: 0.8851\n",
      "Epoch 21/100\n",
      "48000/48000 [==============================] - 2s 33us/step - loss: 0.2496 - acc: 0.9095 - val_loss: 0.3379 - val_acc: 0.8829\n",
      "Epoch 22/100\n",
      "48000/48000 [==============================] - 2s 32us/step - loss: 0.2460 - acc: 0.9104 - val_loss: 0.3499 - val_acc: 0.8796\n",
      "Epoch 23/100\n",
      "48000/48000 [==============================] - 2s 33us/step - loss: 0.2424 - acc: 0.9109 - val_loss: 0.3314 - val_acc: 0.8847\n",
      "Epoch 24/100\n",
      "48000/48000 [==============================] - 2s 32us/step - loss: 0.2384 - acc: 0.9145 - val_loss: 0.3339 - val_acc: 0.8839\n",
      "Epoch 25/100\n",
      "48000/48000 [==============================] - 2s 34us/step - loss: 0.2360 - acc: 0.9142 - val_loss: 0.3429 - val_acc: 0.8790\n",
      "Epoch 26/100\n",
      "48000/48000 [==============================] - 2s 32us/step - loss: 0.2329 - acc: 0.9149 - val_loss: 0.3235 - val_acc: 0.8863\n",
      "Epoch 27/100\n",
      "48000/48000 [==============================] - 2s 32us/step - loss: 0.2291 - acc: 0.9171 - val_loss: 0.3270 - val_acc: 0.8863\n",
      "Epoch 28/100\n",
      "48000/48000 [==============================] - 2s 31us/step - loss: 0.2267 - acc: 0.9183 - val_loss: 0.3304 - val_acc: 0.8842\n",
      "Epoch 29/100\n",
      "48000/48000 [==============================] - 2s 32us/step - loss: 0.2211 - acc: 0.9206 - val_loss: 0.3225 - val_acc: 0.8893\n",
      "Epoch 30/100\n",
      "48000/48000 [==============================] - 2s 32us/step - loss: 0.2192 - acc: 0.9209 - val_loss: 0.3398 - val_acc: 0.8833\n",
      "Epoch 31/100\n",
      "48000/48000 [==============================] - 2s 33us/step - loss: 0.2184 - acc: 0.9207 - val_loss: 0.3387 - val_acc: 0.8817\n",
      "Epoch 32/100\n",
      "48000/48000 [==============================] - 2s 32us/step - loss: 0.2141 - acc: 0.9229 - val_loss: 0.3319 - val_acc: 0.8858\n",
      "Epoch 33/100\n",
      "48000/48000 [==============================] - 2s 32us/step - loss: 0.2119 - acc: 0.9228 - val_loss: 0.3295 - val_acc: 0.8868\n",
      "Epoch 34/100\n",
      "48000/48000 [==============================] - 2s 33us/step - loss: 0.2085 - acc: 0.9249 - val_loss: 0.3471 - val_acc: 0.8834\n",
      "Epoch 35/100\n",
      "48000/48000 [==============================] - 2s 34us/step - loss: 0.2068 - acc: 0.9253 - val_loss: 0.3404 - val_acc: 0.8852\n",
      "Epoch 36/100\n",
      "48000/48000 [==============================] - 2s 35us/step - loss: 0.2021 - acc: 0.9264 - val_loss: 0.3380 - val_acc: 0.8837\n",
      "Epoch 37/100\n",
      "48000/48000 [==============================] - 1s 21us/step - loss: 0.2026 - acc: 0.9257 - val_loss: 0.3449 - val_acc: 0.8851\n",
      "Epoch 38/100\n",
      "48000/48000 [==============================] - 1s 31us/step - loss: 0.1987 - acc: 0.9292 - val_loss: 0.3407 - val_acc: 0.8851\n",
      "Epoch 39/100\n",
      "48000/48000 [==============================] - 2s 34us/step - loss: 0.1978 - acc: 0.9270 - val_loss: 0.3340 - val_acc: 0.8861\n",
      "Epoch 40/100\n",
      "48000/48000 [==============================] - 2s 32us/step - loss: 0.1986 - acc: 0.9276 - val_loss: 0.3507 - val_acc: 0.8832\n",
      "Epoch 41/100\n",
      "48000/48000 [==============================] - 1s 29us/step - loss: 0.1931 - acc: 0.9300 - val_loss: 0.3475 - val_acc: 0.8833\n",
      "Epoch 42/100\n",
      "48000/48000 [==============================] - 1s 29us/step - loss: 0.1894 - acc: 0.9316 - val_loss: 0.3568 - val_acc: 0.8814\n",
      "Epoch 43/100\n",
      "48000/48000 [==============================] - 2s 33us/step - loss: 0.1872 - acc: 0.9323 - val_loss: 0.3404 - val_acc: 0.8851\n",
      "Epoch 44/100\n",
      "48000/48000 [==============================] - 2s 36us/step - loss: 0.1863 - acc: 0.9337 - val_loss: 0.3520 - val_acc: 0.8823\n",
      "Epoch 45/100\n",
      "48000/48000 [==============================] - 2s 34us/step - loss: 0.1832 - acc: 0.9349 - val_loss: 0.3567 - val_acc: 0.8811\n",
      "Epoch 46/100\n",
      "48000/48000 [==============================] - 1s 30us/step - loss: 0.1853 - acc: 0.9324 - val_loss: 0.3666 - val_acc: 0.8794\n",
      "Epoch 47/100\n",
      "48000/48000 [==============================] - 1s 28us/step - loss: 0.1837 - acc: 0.9342 - val_loss: 0.3435 - val_acc: 0.8894\n",
      "Epoch 48/100\n",
      "48000/48000 [==============================] - 1s 30us/step - loss: 0.1784 - acc: 0.9359 - val_loss: 0.3560 - val_acc: 0.8834\n",
      "Epoch 49/100\n",
      "48000/48000 [==============================] - 1s 30us/step - loss: 0.1770 - acc: 0.9364 - val_loss: 0.3518 - val_acc: 0.8876\n",
      "Epoch 50/100\n",
      "48000/48000 [==============================] - 1s 31us/step - loss: 0.1748 - acc: 0.9365 - val_loss: 0.3483 - val_acc: 0.8873\n",
      "Epoch 51/100\n",
      "48000/48000 [==============================] - 2s 31us/step - loss: 0.1741 - acc: 0.9364 - val_loss: 0.3520 - val_acc: 0.8858\n",
      "Epoch 52/100\n",
      "48000/48000 [==============================] - 1s 30us/step - loss: 0.1728 - acc: 0.9374 - val_loss: 0.3578 - val_acc: 0.8836\n",
      "Epoch 53/100\n",
      "48000/48000 [==============================] - 2s 34us/step - loss: 0.1730 - acc: 0.9369 - val_loss: 0.3685 - val_acc: 0.8843\n",
      "Epoch 54/100\n",
      "48000/48000 [==============================] - 1s 29us/step - loss: 0.1685 - acc: 0.9383 - val_loss: 0.3622 - val_acc: 0.8874\n",
      "Epoch 55/100\n",
      "48000/48000 [==============================] - 2s 34us/step - loss: 0.1693 - acc: 0.9386 - val_loss: 0.3629 - val_acc: 0.8864\n",
      "Epoch 56/100\n",
      "48000/48000 [==============================] - 1s 31us/step - loss: 0.1637 - acc: 0.9404 - val_loss: 0.3634 - val_acc: 0.8847\n",
      "Epoch 57/100\n",
      "48000/48000 [==============================] - 1s 30us/step - loss: 0.1660 - acc: 0.9396 - val_loss: 0.3700 - val_acc: 0.8865\n",
      "Epoch 58/100\n",
      "48000/48000 [==============================] - 1s 29us/step - loss: 0.1634 - acc: 0.9411 - val_loss: 0.3668 - val_acc: 0.8863\n",
      "Epoch 59/100\n"
     ]
    },
    {
     "name": "stdout",
     "output_type": "stream",
     "text": [
      "48000/48000 [==============================] - 1s 20us/step - loss: 0.1606 - acc: 0.9419 - val_loss: 0.3661 - val_acc: 0.8859\n",
      "Epoch 60/100\n",
      "48000/48000 [==============================] - 1s 21us/step - loss: 0.1569 - acc: 0.9444 - val_loss: 0.3657 - val_acc: 0.8862\n",
      "Epoch 61/100\n",
      "48000/48000 [==============================] - 1s 20us/step - loss: 0.1581 - acc: 0.9432 - val_loss: 0.3741 - val_acc: 0.8852\n",
      "Epoch 62/100\n",
      "48000/48000 [==============================] - 1s 19us/step - loss: 0.1555 - acc: 0.9446 - val_loss: 0.3732 - val_acc: 0.8846\n",
      "Epoch 63/100\n",
      "48000/48000 [==============================] - 1s 19us/step - loss: 0.1573 - acc: 0.9436 - val_loss: 0.3874 - val_acc: 0.8842\n",
      "Epoch 64/100\n",
      "48000/48000 [==============================] - 1s 20us/step - loss: 0.1537 - acc: 0.9446 - val_loss: 0.3722 - val_acc: 0.8872\n",
      "Epoch 65/100\n",
      "48000/48000 [==============================] - 1s 19us/step - loss: 0.1528 - acc: 0.9450 - val_loss: 0.3854 - val_acc: 0.8813\n",
      "Epoch 66/100\n",
      "48000/48000 [==============================] - 1s 19us/step - loss: 0.1527 - acc: 0.9442 - val_loss: 0.3840 - val_acc: 0.8825\n",
      "Epoch 67/100\n",
      "48000/48000 [==============================] - 1s 20us/step - loss: 0.1524 - acc: 0.9446 - val_loss: 0.3850 - val_acc: 0.8842\n",
      "Epoch 68/100\n",
      "48000/48000 [==============================] - 1s 19us/step - loss: 0.1498 - acc: 0.9454 - val_loss: 0.3877 - val_acc: 0.8832\n",
      "Epoch 69/100\n",
      "48000/48000 [==============================] - 1s 20us/step - loss: 0.1448 - acc: 0.9478 - val_loss: 0.3898 - val_acc: 0.8837\n",
      "Epoch 70/100\n",
      "48000/48000 [==============================] - 1s 19us/step - loss: 0.1478 - acc: 0.9469 - val_loss: 0.3991 - val_acc: 0.8831\n",
      "Epoch 71/100\n",
      "48000/48000 [==============================] - 1s 20us/step - loss: 0.1488 - acc: 0.9456 - val_loss: 0.4001 - val_acc: 0.8817\n",
      "Epoch 72/100\n",
      "48000/48000 [==============================] - 1s 19us/step - loss: 0.1422 - acc: 0.9494 - val_loss: 0.3946 - val_acc: 0.8854\n",
      "Epoch 73/100\n",
      "48000/48000 [==============================] - 2s 36us/step - loss: 0.1432 - acc: 0.9489 - val_loss: 0.3929 - val_acc: 0.8826\n",
      "Epoch 74/100\n",
      "48000/48000 [==============================] - 1s 29us/step - loss: 0.1399 - acc: 0.9498 - val_loss: 0.4016 - val_acc: 0.8822\n",
      "Epoch 75/100\n",
      "48000/48000 [==============================] - 1s 31us/step - loss: 0.1423 - acc: 0.9494 - val_loss: 0.4101 - val_acc: 0.8816\n",
      "Epoch 76/100\n",
      "48000/48000 [==============================] - 1s 30us/step - loss: 0.1402 - acc: 0.9498 - val_loss: 0.4249 - val_acc: 0.8785\n",
      "Epoch 77/100\n",
      "48000/48000 [==============================] - 1s 29us/step - loss: 0.1382 - acc: 0.9508 - val_loss: 0.4143 - val_acc: 0.8819\n",
      "Epoch 78/100\n",
      "48000/48000 [==============================] - 1s 30us/step - loss: 0.1376 - acc: 0.9510 - val_loss: 0.4116 - val_acc: 0.8813\n",
      "Epoch 79/100\n",
      "48000/48000 [==============================] - 1s 30us/step - loss: 0.1357 - acc: 0.9516 - val_loss: 0.4087 - val_acc: 0.8831\n",
      "Epoch 80/100\n",
      "48000/48000 [==============================] - 1s 28us/step - loss: 0.1333 - acc: 0.9529 - val_loss: 0.4201 - val_acc: 0.8823\n",
      "Epoch 81/100\n",
      "48000/48000 [==============================] - 1s 30us/step - loss: 0.1315 - acc: 0.9528 - val_loss: 0.4281 - val_acc: 0.8794\n",
      "Epoch 82/100\n",
      "48000/48000 [==============================] - 1s 31us/step - loss: 0.1319 - acc: 0.9524 - val_loss: 0.4112 - val_acc: 0.8837\n",
      "Epoch 83/100\n",
      "48000/48000 [==============================] - 1s 30us/step - loss: 0.1305 - acc: 0.9536 - val_loss: 0.4255 - val_acc: 0.8804\n",
      "Epoch 84/100\n",
      "48000/48000 [==============================] - 1s 30us/step - loss: 0.1295 - acc: 0.9528 - val_loss: 0.4255 - val_acc: 0.8828\n",
      "Epoch 85/100\n",
      "48000/48000 [==============================] - 1s 29us/step - loss: 0.1312 - acc: 0.9536 - val_loss: 0.4180 - val_acc: 0.8805\n",
      "Epoch 86/100\n",
      "48000/48000 [==============================] - 1s 29us/step - loss: 0.1285 - acc: 0.9546 - val_loss: 0.4170 - val_acc: 0.8816\n",
      "Epoch 87/100\n",
      "48000/48000 [==============================] - 1s 31us/step - loss: 0.1245 - acc: 0.9568 - val_loss: 0.4276 - val_acc: 0.8822\n",
      "Epoch 88/100\n",
      "48000/48000 [==============================] - 1s 30us/step - loss: 0.1270 - acc: 0.9549 - val_loss: 0.4373 - val_acc: 0.8778\n",
      "Epoch 89/100\n",
      "48000/48000 [==============================] - 1s 30us/step - loss: 0.1251 - acc: 0.9553 - val_loss: 0.4652 - val_acc: 0.8760\n",
      "Epoch 90/100\n",
      "48000/48000 [==============================] - 1s 31us/step - loss: 0.1236 - acc: 0.9551 - val_loss: 0.4320 - val_acc: 0.8826\n",
      "Epoch 91/100\n",
      "48000/48000 [==============================] - 2s 31us/step - loss: 0.1224 - acc: 0.9568 - val_loss: 0.4486 - val_acc: 0.8774\n",
      "Epoch 92/100\n",
      "48000/48000 [==============================] - 1s 30us/step - loss: 0.1224 - acc: 0.9564 - val_loss: 0.4397 - val_acc: 0.8807\n",
      "Epoch 93/100\n",
      "48000/48000 [==============================] - 1s 29us/step - loss: 0.1216 - acc: 0.9569 - val_loss: 0.4423 - val_acc: 0.8810\n",
      "Epoch 94/100\n",
      "48000/48000 [==============================] - 2s 32us/step - loss: 0.1217 - acc: 0.9567 - val_loss: 0.4536 - val_acc: 0.8805\n",
      "Epoch 95/100\n",
      "48000/48000 [==============================] - 1s 29us/step - loss: 0.1199 - acc: 0.9576 - val_loss: 0.4472 - val_acc: 0.8775\n",
      "Epoch 96/100\n",
      "48000/48000 [==============================] - 1s 30us/step - loss: 0.1176 - acc: 0.9574 - val_loss: 0.4455 - val_acc: 0.8820\n",
      "Epoch 97/100\n",
      "48000/48000 [==============================] - 2s 33us/step - loss: 0.1185 - acc: 0.9575 - val_loss: 0.4533 - val_acc: 0.8809\n",
      "Epoch 98/100\n",
      "48000/48000 [==============================] - 2s 32us/step - loss: 0.1177 - acc: 0.9582 - val_loss: 0.4526 - val_acc: 0.8793\n",
      "Epoch 99/100\n",
      "48000/48000 [==============================] - 1s 30us/step - loss: 0.1157 - acc: 0.9584 - val_loss: 0.4475 - val_acc: 0.8815\n",
      "Epoch 100/100\n",
      "48000/48000 [==============================] - 1s 31us/step - loss: 0.1171 - acc: 0.9579 - val_loss: 0.4741 - val_acc: 0.8742\n"
     ]
    }
   ],
   "source": [
    "#Standard Model - No Tricks\n",
    "histories = dict()\n",
    "model = Sequential()\n",
    "model.add(Dense(50, input_dim = 784, activation='relu'))\n",
    "\n",
    "model.add(Dense(10, activation='softmax'))\n",
    "adam = optimizers.Adam(lr = 0.001)\n",
    "model.compile(optimizer = adam, loss = 'categorical_crossentropy', metrics = ['accuracy'])\n",
    "history = model.fit(x_fashion_train, y_fashion_train, batch_size = 128, epochs = 100, validation_split = 0.2, verbose=1)\n",
    "histories[\"NoTrick\"] = history\n"
   ]
  },
  {
   "cell_type": "code",
   "execution_count": 11,
   "metadata": {
    "ExecuteTime": {
     "end_time": "2019-04-29T09:50:35.071882Z",
     "start_time": "2019-04-29T09:47:58.774184Z"
    }
   },
   "outputs": [
    {
     "name": "stdout",
     "output_type": "stream",
     "text": [
      "Train on 48000 samples, validate on 12000 samples\n",
      "Epoch 1/100\n",
      "48000/48000 [==============================] - 2s 37us/step - loss: 0.7591 - acc: 0.8041 - val_loss: 0.6190 - val_acc: 0.8233\n",
      "Epoch 2/100\n",
      "48000/48000 [==============================] - 1s 25us/step - loss: 0.5176 - acc: 0.8564 - val_loss: 0.4864 - val_acc: 0.8511\n",
      "Epoch 3/100\n",
      "48000/48000 [==============================] - 1s 24us/step - loss: 0.4364 - acc: 0.8711 - val_loss: 0.4323 - val_acc: 0.8616\n",
      "Epoch 4/100\n",
      "48000/48000 [==============================] - 1s 25us/step - loss: 0.3915 - acc: 0.8800 - val_loss: 0.4291 - val_acc: 0.8618\n",
      "Epoch 5/100\n",
      "48000/48000 [==============================] - 1s 26us/step - loss: 0.3615 - acc: 0.8854 - val_loss: 0.3964 - val_acc: 0.8723\n",
      "Epoch 6/100\n",
      "48000/48000 [==============================] - 2s 36us/step - loss: 0.3367 - acc: 0.8911 - val_loss: 0.3729 - val_acc: 0.8770\n",
      "Epoch 7/100\n",
      "48000/48000 [==============================] - 1s 31us/step - loss: 0.3213 - acc: 0.8942 - val_loss: 0.3777 - val_acc: 0.8778\n",
      "Epoch 8/100\n",
      "48000/48000 [==============================] - 2s 32us/step - loss: 0.3024 - acc: 0.9009 - val_loss: 0.4012 - val_acc: 0.8694\n",
      "Epoch 9/100\n",
      "48000/48000 [==============================] - 2s 37us/step - loss: 0.2882 - acc: 0.9038 - val_loss: 0.3925 - val_acc: 0.8643\n",
      "Epoch 10/100\n",
      "48000/48000 [==============================] - 2s 43us/step - loss: 0.2783 - acc: 0.9058 - val_loss: 0.3542 - val_acc: 0.8766\n",
      "Epoch 11/100\n",
      "48000/48000 [==============================] - 2s 39us/step - loss: 0.2679 - acc: 0.9100 - val_loss: 0.3766 - val_acc: 0.8692\n",
      "Epoch 12/100\n",
      "48000/48000 [==============================] - 2s 32us/step - loss: 0.2602 - acc: 0.9110 - val_loss: 0.4146 - val_acc: 0.8572\n",
      "Epoch 13/100\n",
      "48000/48000 [==============================] - 1s 25us/step - loss: 0.2518 - acc: 0.9137 - val_loss: 0.3776 - val_acc: 0.8721\n",
      "Epoch 14/100\n",
      "48000/48000 [==============================] - 1s 29us/step - loss: 0.2433 - acc: 0.9163 - val_loss: 0.4114 - val_acc: 0.8624\n",
      "Epoch 15/100\n",
      "48000/48000 [==============================] - 2s 43us/step - loss: 0.2357 - acc: 0.9191 - val_loss: 0.4032 - val_acc: 0.8667\n",
      "Epoch 16/100\n",
      "48000/48000 [==============================] - 2s 41us/step - loss: 0.2316 - acc: 0.9202 - val_loss: 0.4006 - val_acc: 0.8672\n",
      "Epoch 17/100\n",
      "48000/48000 [==============================] - 2s 45us/step - loss: 0.2238 - acc: 0.9219 - val_loss: 0.4809 - val_acc: 0.8404\n",
      "Epoch 18/100\n",
      "48000/48000 [==============================] - 2s 43us/step - loss: 0.2186 - acc: 0.9241 - val_loss: 0.3695 - val_acc: 0.8757\n",
      "Epoch 19/100\n",
      "48000/48000 [==============================] - 2s 41us/step - loss: 0.2150 - acc: 0.9250 - val_loss: 0.3780 - val_acc: 0.8758\n",
      "Epoch 20/100\n",
      "48000/48000 [==============================] - 2s 45us/step - loss: 0.2054 - acc: 0.9301 - val_loss: 0.3791 - val_acc: 0.8750\n",
      "Epoch 21/100\n",
      "48000/48000 [==============================] - 2s 33us/step - loss: 0.2008 - acc: 0.9298 - val_loss: 0.4041 - val_acc: 0.8685\n",
      "Epoch 22/100\n",
      "48000/48000 [==============================] - 1s 26us/step - loss: 0.2002 - acc: 0.9311 - val_loss: 0.3933 - val_acc: 0.8698\n",
      "Epoch 23/100\n",
      "48000/48000 [==============================] - 1s 25us/step - loss: 0.1944 - acc: 0.9328 - val_loss: 0.3671 - val_acc: 0.8797\n",
      "Epoch 24/100\n",
      "48000/48000 [==============================] - 1s 29us/step - loss: 0.1903 - acc: 0.9342 - val_loss: 0.3866 - val_acc: 0.8710\n",
      "Epoch 25/100\n",
      "48000/48000 [==============================] - 2s 45us/step - loss: 0.1894 - acc: 0.9332 - val_loss: 0.3978 - val_acc: 0.8751\n",
      "Epoch 26/100\n",
      "48000/48000 [==============================] - 2s 45us/step - loss: 0.1805 - acc: 0.9378 - val_loss: 0.4760 - val_acc: 0.8475\n",
      "Epoch 27/100\n",
      "48000/48000 [==============================] - 2s 44us/step - loss: 0.1778 - acc: 0.9375 - val_loss: 0.3720 - val_acc: 0.8802\n",
      "Epoch 28/100\n",
      "48000/48000 [==============================] - 2s 47us/step - loss: 0.1747 - acc: 0.9389 - val_loss: 0.4103 - val_acc: 0.8723\n",
      "Epoch 29/100\n",
      "48000/48000 [==============================] - 2s 42us/step - loss: 0.1735 - acc: 0.9393 - val_loss: 0.3744 - val_acc: 0.8818\n",
      "Epoch 30/100\n",
      "48000/48000 [==============================] - 2s 41us/step - loss: 0.1689 - acc: 0.9408 - val_loss: 0.5210 - val_acc: 0.8447\n",
      "Epoch 31/100\n",
      "48000/48000 [==============================] - 2s 33us/step - loss: 0.1690 - acc: 0.9411 - val_loss: 0.4132 - val_acc: 0.8721\n",
      "Epoch 32/100\n",
      "48000/48000 [==============================] - 2s 47us/step - loss: 0.1648 - acc: 0.9421 - val_loss: 0.3932 - val_acc: 0.8798\n",
      "Epoch 33/100\n",
      "48000/48000 [==============================] - 2s 43us/step - loss: 0.1600 - acc: 0.9441 - val_loss: 0.4190 - val_acc: 0.8672\n",
      "Epoch 34/100\n",
      "48000/48000 [==============================] - 2s 42us/step - loss: 0.1606 - acc: 0.9438 - val_loss: 0.5075 - val_acc: 0.8545\n",
      "Epoch 35/100\n",
      "48000/48000 [==============================] - 2s 44us/step - loss: 0.1541 - acc: 0.9468 - val_loss: 0.4465 - val_acc: 0.8643\n",
      "Epoch 36/100\n",
      "48000/48000 [==============================] - 2s 43us/step - loss: 0.1558 - acc: 0.9450 - val_loss: 0.4114 - val_acc: 0.8761\n",
      "Epoch 37/100\n",
      "48000/48000 [==============================] - 1s 25us/step - loss: 0.1524 - acc: 0.9464 - val_loss: 0.4617 - val_acc: 0.8621\n",
      "Epoch 38/100\n",
      "48000/48000 [==============================] - 2s 32us/step - loss: 0.1493 - acc: 0.9476 - val_loss: 0.4197 - val_acc: 0.8691\n",
      "Epoch 39/100\n",
      "48000/48000 [==============================] - 2s 40us/step - loss: 0.1455 - acc: 0.9490 - val_loss: 0.4719 - val_acc: 0.8575\n",
      "Epoch 40/100\n",
      "48000/48000 [==============================] - 2s 39us/step - loss: 0.1466 - acc: 0.9486 - val_loss: 0.4170 - val_acc: 0.8734\n",
      "Epoch 41/100\n",
      "48000/48000 [==============================] - 2s 37us/step - loss: 0.1431 - acc: 0.9506 - val_loss: 0.4346 - val_acc: 0.8670\n",
      "Epoch 42/100\n",
      "48000/48000 [==============================] - 2s 36us/step - loss: 0.1404 - acc: 0.9509 - val_loss: 0.3940 - val_acc: 0.8822\n",
      "Epoch 43/100\n",
      "48000/48000 [==============================] - 2s 38us/step - loss: 0.1418 - acc: 0.9498 - val_loss: 0.4554 - val_acc: 0.8699\n",
      "Epoch 44/100\n",
      "48000/48000 [==============================] - 2s 40us/step - loss: 0.1389 - acc: 0.9507 - val_loss: 0.4137 - val_acc: 0.8761\n",
      "Epoch 45/100\n",
      "48000/48000 [==============================] - 2s 37us/step - loss: 0.1367 - acc: 0.9518 - val_loss: 0.4769 - val_acc: 0.8633\n",
      "Epoch 46/100\n",
      "48000/48000 [==============================] - 2s 37us/step - loss: 0.1351 - acc: 0.9529 - val_loss: 0.4645 - val_acc: 0.8627\n",
      "Epoch 47/100\n",
      "48000/48000 [==============================] - 2s 37us/step - loss: 0.1328 - acc: 0.9530 - val_loss: 0.4751 - val_acc: 0.8654\n",
      "Epoch 48/100\n",
      "48000/48000 [==============================] - 2s 38us/step - loss: 0.1293 - acc: 0.9550 - val_loss: 0.4915 - val_acc: 0.8636\n",
      "Epoch 49/100\n",
      "48000/48000 [==============================] - 2s 40us/step - loss: 0.1310 - acc: 0.9534 - val_loss: 0.4538 - val_acc: 0.8663\n",
      "Epoch 50/100\n",
      "48000/48000 [==============================] - 2s 41us/step - loss: 0.1256 - acc: 0.9555 - val_loss: 0.4542 - val_acc: 0.8663\n",
      "Epoch 51/100\n",
      "48000/48000 [==============================] - 2s 39us/step - loss: 0.1257 - acc: 0.9560 - val_loss: 0.4417 - val_acc: 0.8702\n",
      "Epoch 52/100\n",
      "48000/48000 [==============================] - 2s 38us/step - loss: 0.1229 - acc: 0.9574 - val_loss: 0.4546 - val_acc: 0.8743\n",
      "Epoch 53/100\n",
      "48000/48000 [==============================] - 2s 37us/step - loss: 0.1246 - acc: 0.9562 - val_loss: 0.4683 - val_acc: 0.8720\n",
      "Epoch 54/100\n",
      "48000/48000 [==============================] - 2s 38us/step - loss: 0.1212 - acc: 0.9570 - val_loss: 0.5352 - val_acc: 0.8522\n",
      "Epoch 55/100\n",
      "48000/48000 [==============================] - 2s 38us/step - loss: 0.1195 - acc: 0.9583 - val_loss: 0.4780 - val_acc: 0.8668\n",
      "Epoch 56/100\n",
      "48000/48000 [==============================] - 2s 37us/step - loss: 0.1191 - acc: 0.9578 - val_loss: 0.6330 - val_acc: 0.8524\n",
      "Epoch 57/100\n",
      "48000/48000 [==============================] - 2s 38us/step - loss: 0.1169 - acc: 0.9591 - val_loss: 0.4847 - val_acc: 0.8651\n",
      "Epoch 58/100\n",
      "48000/48000 [==============================] - 2s 37us/step - loss: 0.1136 - acc: 0.9611 - val_loss: 0.4737 - val_acc: 0.8708\n",
      "Epoch 59/100\n"
     ]
    },
    {
     "name": "stdout",
     "output_type": "stream",
     "text": [
      "48000/48000 [==============================] - 1s 25us/step - loss: 0.1138 - acc: 0.9613 - val_loss: 0.4835 - val_acc: 0.8681\n",
      "Epoch 60/100\n",
      "48000/48000 [==============================] - 1s 25us/step - loss: 0.1106 - acc: 0.9621 - val_loss: 0.5087 - val_acc: 0.8623\n",
      "Epoch 61/100\n",
      "48000/48000 [==============================] - 1s 24us/step - loss: 0.1116 - acc: 0.9607 - val_loss: 0.5076 - val_acc: 0.8648\n",
      "Epoch 62/100\n",
      "48000/48000 [==============================] - 1s 24us/step - loss: 0.1102 - acc: 0.9608 - val_loss: 0.5410 - val_acc: 0.8511\n",
      "Epoch 63/100\n",
      "48000/48000 [==============================] - 1s 24us/step - loss: 0.1110 - acc: 0.9621 - val_loss: 0.4617 - val_acc: 0.8678\n",
      "Epoch 64/100\n",
      "48000/48000 [==============================] - 1s 25us/step - loss: 0.1083 - acc: 0.9625 - val_loss: 0.4864 - val_acc: 0.8671\n",
      "Epoch 65/100\n",
      "48000/48000 [==============================] - 1s 24us/step - loss: 0.1086 - acc: 0.9636 - val_loss: 0.4729 - val_acc: 0.8758\n",
      "Epoch 66/100\n",
      "48000/48000 [==============================] - 1s 24us/step - loss: 0.1059 - acc: 0.9626 - val_loss: 0.4884 - val_acc: 0.8678\n",
      "Epoch 67/100\n",
      "48000/48000 [==============================] - 1s 25us/step - loss: 0.1047 - acc: 0.9625 - val_loss: 0.4915 - val_acc: 0.8708\n",
      "Epoch 68/100\n",
      "48000/48000 [==============================] - 1s 24us/step - loss: 0.1064 - acc: 0.9630 - val_loss: 0.4798 - val_acc: 0.8712\n",
      "Epoch 69/100\n",
      "48000/48000 [==============================] - 1s 25us/step - loss: 0.1035 - acc: 0.9641 - val_loss: 0.4844 - val_acc: 0.8665\n",
      "Epoch 70/100\n",
      "48000/48000 [==============================] - 1s 25us/step - loss: 0.1016 - acc: 0.9642 - val_loss: 0.4933 - val_acc: 0.8711\n",
      "Epoch 71/100\n",
      "48000/48000 [==============================] - 2s 46us/step - loss: 0.1011 - acc: 0.9642 - val_loss: 0.5178 - val_acc: 0.8625\n",
      "Epoch 72/100\n",
      "48000/48000 [==============================] - 2s 39us/step - loss: 0.0996 - acc: 0.9656 - val_loss: 0.4946 - val_acc: 0.8701\n",
      "Epoch 73/100\n",
      "48000/48000 [==============================] - 2s 39us/step - loss: 0.1021 - acc: 0.9634 - val_loss: 0.5254 - val_acc: 0.8614\n",
      "Epoch 74/100\n",
      "48000/48000 [==============================] - 2s 34us/step - loss: 0.1006 - acc: 0.9646 - val_loss: 0.5038 - val_acc: 0.8699\n",
      "Epoch 75/100\n",
      "48000/48000 [==============================] - 1s 25us/step - loss: 0.0948 - acc: 0.9671 - val_loss: 0.5345 - val_acc: 0.8663\n",
      "Epoch 76/100\n",
      "48000/48000 [==============================] - 1s 24us/step - loss: 0.0966 - acc: 0.9660 - val_loss: 0.4816 - val_acc: 0.8738\n",
      "Epoch 77/100\n",
      "48000/48000 [==============================] - 1s 25us/step - loss: 0.0965 - acc: 0.9654 - val_loss: 0.5587 - val_acc: 0.8620\n",
      "Epoch 78/100\n",
      "48000/48000 [==============================] - 1s 24us/step - loss: 0.0927 - acc: 0.9672 - val_loss: 0.5212 - val_acc: 0.8677\n",
      "Epoch 79/100\n",
      "48000/48000 [==============================] - 1s 24us/step - loss: 0.0934 - acc: 0.9675 - val_loss: 0.5406 - val_acc: 0.8615\n",
      "Epoch 80/100\n",
      "48000/48000 [==============================] - 1s 24us/step - loss: 0.0931 - acc: 0.9670 - val_loss: 0.5517 - val_acc: 0.8666\n",
      "Epoch 81/100\n",
      "48000/48000 [==============================] - 1s 24us/step - loss: 0.0913 - acc: 0.9688 - val_loss: 0.5428 - val_acc: 0.8593\n",
      "Epoch 82/100\n",
      "48000/48000 [==============================] - 1s 24us/step - loss: 0.0908 - acc: 0.9694 - val_loss: 0.6557 - val_acc: 0.8442\n",
      "Epoch 83/100\n",
      "48000/48000 [==============================] - 1s 24us/step - loss: 0.0931 - acc: 0.9672 - val_loss: 0.5632 - val_acc: 0.8585\n",
      "Epoch 84/100\n",
      "48000/48000 [==============================] - 1s 24us/step - loss: 0.0880 - acc: 0.9702 - val_loss: 0.5847 - val_acc: 0.8619\n",
      "Epoch 85/100\n",
      "48000/48000 [==============================] - 1s 24us/step - loss: 0.0895 - acc: 0.9683 - val_loss: 0.5547 - val_acc: 0.8592\n",
      "Epoch 86/100\n",
      "48000/48000 [==============================] - 1s 24us/step - loss: 0.0855 - acc: 0.9710 - val_loss: 0.6257 - val_acc: 0.8489\n",
      "Epoch 87/100\n",
      "48000/48000 [==============================] - 1s 24us/step - loss: 0.0845 - acc: 0.9705 - val_loss: 0.6068 - val_acc: 0.8559\n",
      "Epoch 88/100\n",
      "48000/48000 [==============================] - 1s 25us/step - loss: 0.0904 - acc: 0.9681 - val_loss: 0.5063 - val_acc: 0.8731\n",
      "Epoch 89/100\n",
      "48000/48000 [==============================] - 1s 24us/step - loss: 0.0865 - acc: 0.9696 - val_loss: 0.5394 - val_acc: 0.8688\n",
      "Epoch 90/100\n",
      "48000/48000 [==============================] - 1s 24us/step - loss: 0.0867 - acc: 0.9692 - val_loss: 0.5812 - val_acc: 0.8568\n",
      "Epoch 91/100\n",
      "48000/48000 [==============================] - 1s 26us/step - loss: 0.0829 - acc: 0.9716 - val_loss: 0.5551 - val_acc: 0.8657\n",
      "Epoch 92/100\n",
      "48000/48000 [==============================] - 1s 25us/step - loss: 0.0900 - acc: 0.9676 - val_loss: 0.5364 - val_acc: 0.8676\n",
      "Epoch 93/100\n",
      "48000/48000 [==============================] - 1s 25us/step - loss: 0.0852 - acc: 0.9697 - val_loss: 0.5699 - val_acc: 0.8638\n",
      "Epoch 94/100\n",
      "48000/48000 [==============================] - 1s 24us/step - loss: 0.0820 - acc: 0.9719 - val_loss: 0.5686 - val_acc: 0.8672\n",
      "Epoch 95/100\n",
      "48000/48000 [==============================] - 1s 24us/step - loss: 0.0831 - acc: 0.9710 - val_loss: 0.6206 - val_acc: 0.8532\n",
      "Epoch 96/100\n",
      "48000/48000 [==============================] - 1s 25us/step - loss: 0.0819 - acc: 0.9712 - val_loss: 0.5767 - val_acc: 0.8626\n",
      "Epoch 97/100\n",
      "48000/48000 [==============================] - 1s 24us/step - loss: 0.0844 - acc: 0.9706 - val_loss: 0.5456 - val_acc: 0.8698\n",
      "Epoch 98/100\n",
      "48000/48000 [==============================] - 1s 25us/step - loss: 0.0807 - acc: 0.9711 - val_loss: 0.5785 - val_acc: 0.8645\n",
      "Epoch 99/100\n",
      "48000/48000 [==============================] - 1s 25us/step - loss: 0.0820 - acc: 0.9716 - val_loss: 0.5525 - val_acc: 0.8681\n",
      "Epoch 100/100\n",
      "48000/48000 [==============================] - 1s 24us/step - loss: 0.0785 - acc: 0.9731 - val_loss: 0.5797 - val_acc: 0.8610\n"
     ]
    }
   ],
   "source": [
    "#Batch Normalization, Speed convergence, overfitting amplified\n",
    "\n",
    "model = Sequential()\n",
    "model.add(Dense(50, input_dim = 784, activation='linear'))\n",
    "model.add(BatchNormalization(axis=-1, momentum=0.99, epsilon=0.00001))\n",
    "model.add(Activation('relu'))\n",
    "\n",
    "model.add(Dense(10, activation='linear'))\n",
    "model.add(BatchNormalization(axis=-1, momentum=0.99, epsilon=0.00001))\n",
    "model.add(Activation('softmax'))\n",
    "adam = optimizers.Adam(lr = 0.001)\n",
    "model.compile(optimizer = adam, loss = 'categorical_crossentropy', metrics = ['accuracy'])\n",
    "history = model.fit(x_fashion_train, y_fashion_train, batch_size = 128, epochs = 100, validation_split = 0.2, verbose=1)\n",
    "histories[\"BatchNorm\"] = history\n",
    "\n",
    "\n"
   ]
  },
  {
   "cell_type": "code",
   "execution_count": 40,
   "metadata": {
    "ExecuteTime": {
     "end_time": "2019-04-29T12:13:22.469430Z",
     "start_time": "2019-04-29T12:10:19.629921Z"
    }
   },
   "outputs": [
    {
     "name": "stdout",
     "output_type": "stream",
     "text": [
      "Train on 48000 samples, validate on 12000 samples\n",
      "Epoch 1/100\n",
      "48000/48000 [==============================] - 3s 64us/step - loss: 0.9884 - acc: 0.7433 - val_loss: 0.6499 - val_acc: 0.8311\n",
      "Epoch 2/100\n",
      "48000/48000 [==============================] - 2s 35us/step - loss: 0.7290 - acc: 0.8055 - val_loss: 0.5612 - val_acc: 0.8445\n",
      "Epoch 3/100\n",
      "48000/48000 [==============================] - 2s 36us/step - loss: 0.6399 - acc: 0.8179 - val_loss: 0.5007 - val_acc: 0.8520\n",
      "Epoch 4/100\n",
      "48000/48000 [==============================] - 2s 40us/step - loss: 0.5918 - acc: 0.8269 - val_loss: 0.4647 - val_acc: 0.8550\n",
      "Epoch 5/100\n",
      "48000/48000 [==============================] - 2s 39us/step - loss: 0.5564 - acc: 0.8322 - val_loss: 0.4636 - val_acc: 0.8580\n",
      "Epoch 6/100\n",
      "48000/48000 [==============================] - 2s 39us/step - loss: 0.5357 - acc: 0.8352 - val_loss: 0.4312 - val_acc: 0.8572\n",
      "Epoch 7/100\n",
      "48000/48000 [==============================] - 2s 44us/step - loss: 0.5173 - acc: 0.8378 - val_loss: 0.4156 - val_acc: 0.8615\n",
      "Epoch 8/100\n",
      "48000/48000 [==============================] - 2s 33us/step - loss: 0.5009 - acc: 0.8393 - val_loss: 0.4038 - val_acc: 0.8657\n",
      "Epoch 9/100\n",
      "48000/48000 [==============================] - 2s 33us/step - loss: 0.4883 - acc: 0.8424 - val_loss: 0.3987 - val_acc: 0.8634\n",
      "Epoch 10/100\n",
      "48000/48000 [==============================] - 2s 33us/step - loss: 0.4772 - acc: 0.8439 - val_loss: 0.3960 - val_acc: 0.8593\n",
      "Epoch 11/100\n",
      "48000/48000 [==============================] - 2s 32us/step - loss: 0.4701 - acc: 0.8451 - val_loss: 0.3867 - val_acc: 0.8671\n",
      "Epoch 12/100\n",
      "48000/48000 [==============================] - 2s 32us/step - loss: 0.4629 - acc: 0.8468 - val_loss: 0.3918 - val_acc: 0.8614\n",
      "Epoch 13/100\n",
      "48000/48000 [==============================] - 2s 38us/step - loss: 0.4509 - acc: 0.8488 - val_loss: 0.3884 - val_acc: 0.8602\n",
      "Epoch 14/100\n",
      "48000/48000 [==============================] - 2s 35us/step - loss: 0.4509 - acc: 0.8477 - val_loss: 0.3665 - val_acc: 0.8676\n",
      "Epoch 15/100\n",
      "48000/48000 [==============================] - 2s 33us/step - loss: 0.4410 - acc: 0.8509 - val_loss: 0.3805 - val_acc: 0.8681\n",
      "Epoch 16/100\n",
      "48000/48000 [==============================] - 2s 45us/step - loss: 0.4351 - acc: 0.8521 - val_loss: 0.3697 - val_acc: 0.8710\n",
      "Epoch 17/100\n",
      "48000/48000 [==============================] - 2s 44us/step - loss: 0.4309 - acc: 0.8536 - val_loss: 0.3596 - val_acc: 0.8722\n",
      "Epoch 18/100\n",
      "48000/48000 [==============================] - 2s 39us/step - loss: 0.4252 - acc: 0.8544 - val_loss: 0.3571 - val_acc: 0.8728\n",
      "Epoch 19/100\n",
      "48000/48000 [==============================] - 2s 36us/step - loss: 0.4237 - acc: 0.8545 - val_loss: 0.3577 - val_acc: 0.8728\n",
      "Epoch 20/100\n",
      "48000/48000 [==============================] - 2s 35us/step - loss: 0.4188 - acc: 0.8568 - val_loss: 0.3827 - val_acc: 0.8633\n",
      "Epoch 21/100\n",
      "48000/48000 [==============================] - 2s 35us/step - loss: 0.4202 - acc: 0.8554 - val_loss: 0.3644 - val_acc: 0.8701\n",
      "Epoch 22/100\n",
      "48000/48000 [==============================] - 2s 37us/step - loss: 0.4150 - acc: 0.8570 - val_loss: 0.3564 - val_acc: 0.8717\n",
      "Epoch 23/100\n",
      "48000/48000 [==============================] - 2s 42us/step - loss: 0.4102 - acc: 0.8587 - val_loss: 0.3517 - val_acc: 0.8744\n",
      "Epoch 24/100\n",
      "48000/48000 [==============================] - 2s 39us/step - loss: 0.4048 - acc: 0.8582 - val_loss: 0.3585 - val_acc: 0.8718\n",
      "Epoch 25/100\n",
      "48000/48000 [==============================] - 2s 42us/step - loss: 0.4050 - acc: 0.8605 - val_loss: 0.3553 - val_acc: 0.8741\n",
      "Epoch 26/100\n",
      "48000/48000 [==============================] - 2s 40us/step - loss: 0.4024 - acc: 0.8601 - val_loss: 0.3591 - val_acc: 0.8714\n",
      "Epoch 27/100\n",
      "48000/48000 [==============================] - 2s 38us/step - loss: 0.4028 - acc: 0.8594 - val_loss: 0.3567 - val_acc: 0.8725\n",
      "Epoch 28/100\n",
      "48000/48000 [==============================] - 2s 39us/step - loss: 0.3965 - acc: 0.8608 - val_loss: 0.3677 - val_acc: 0.8688\n",
      "Epoch 29/100\n",
      "48000/48000 [==============================] - 2s 42us/step - loss: 0.3925 - acc: 0.8616 - val_loss: 0.3554 - val_acc: 0.8712\n",
      "Epoch 30/100\n",
      "48000/48000 [==============================] - 2s 38us/step - loss: 0.3966 - acc: 0.8612 - val_loss: 0.3550 - val_acc: 0.8765\n",
      "Epoch 31/100\n",
      "48000/48000 [==============================] - 2s 45us/step - loss: 0.3951 - acc: 0.8600 - val_loss: 0.3612 - val_acc: 0.8717\n",
      "Epoch 32/100\n",
      "48000/48000 [==============================] - 2s 41us/step - loss: 0.3923 - acc: 0.8609 - val_loss: 0.3493 - val_acc: 0.8760\n",
      "Epoch 33/100\n",
      "48000/48000 [==============================] - 2s 42us/step - loss: 0.3878 - acc: 0.8619 - val_loss: 0.3475 - val_acc: 0.8751\n",
      "Epoch 34/100\n",
      "48000/48000 [==============================] - 2s 38us/step - loss: 0.3855 - acc: 0.8649 - val_loss: 0.3569 - val_acc: 0.8705\n",
      "Epoch 35/100\n",
      "48000/48000 [==============================] - 2s 44us/step - loss: 0.3869 - acc: 0.8637 - val_loss: 0.3469 - val_acc: 0.8773\n",
      "Epoch 36/100\n",
      "48000/48000 [==============================] - 2s 38us/step - loss: 0.3862 - acc: 0.8620 - val_loss: 0.3491 - val_acc: 0.8781\n",
      "Epoch 37/100\n",
      "48000/48000 [==============================] - 2s 34us/step - loss: 0.3827 - acc: 0.8653 - val_loss: 0.3503 - val_acc: 0.8733\n",
      "Epoch 38/100\n",
      "48000/48000 [==============================] - 2s 34us/step - loss: 0.3777 - acc: 0.8675 - val_loss: 0.3519 - val_acc: 0.8761\n",
      "Epoch 39/100\n",
      "48000/48000 [==============================] - 2s 32us/step - loss: 0.3832 - acc: 0.8637 - val_loss: 0.3469 - val_acc: 0.8782\n",
      "Epoch 40/100\n",
      "48000/48000 [==============================] - 1s 30us/step - loss: 0.3799 - acc: 0.8653 - val_loss: 0.3529 - val_acc: 0.8728\n",
      "Epoch 41/100\n",
      "48000/48000 [==============================] - 1s 31us/step - loss: 0.3790 - acc: 0.8659 - val_loss: 0.3518 - val_acc: 0.8755\n",
      "Epoch 42/100\n",
      "48000/48000 [==============================] - 1s 31us/step - loss: 0.3755 - acc: 0.8652 - val_loss: 0.3447 - val_acc: 0.8767\n",
      "Epoch 43/100\n",
      "48000/48000 [==============================] - 2s 31us/step - loss: 0.3760 - acc: 0.8658 - val_loss: 0.3569 - val_acc: 0.8753\n",
      "Epoch 44/100\n",
      "48000/48000 [==============================] - 2s 31us/step - loss: 0.3736 - acc: 0.8662 - val_loss: 0.3522 - val_acc: 0.8744\n",
      "Epoch 45/100\n",
      "48000/48000 [==============================] - 1s 31us/step - loss: 0.3725 - acc: 0.8667 - val_loss: 0.3504 - val_acc: 0.8758\n",
      "Epoch 46/100\n",
      "48000/48000 [==============================] - 2s 38us/step - loss: 0.3694 - acc: 0.8680 - val_loss: 0.3649 - val_acc: 0.8698\n",
      "Epoch 47/100\n",
      "48000/48000 [==============================] - 2s 33us/step - loss: 0.3646 - acc: 0.8695 - val_loss: 0.3516 - val_acc: 0.8740\n",
      "Epoch 48/100\n",
      "48000/48000 [==============================] - 2s 33us/step - loss: 0.3708 - acc: 0.8667 - val_loss: 0.3573 - val_acc: 0.8718\n",
      "Epoch 49/100\n",
      "48000/48000 [==============================] - 2s 32us/step - loss: 0.3671 - acc: 0.8687 - val_loss: 0.3548 - val_acc: 0.8772\n",
      "Epoch 50/100\n",
      "48000/48000 [==============================] - 2s 34us/step - loss: 0.3647 - acc: 0.8688 - val_loss: 0.3493 - val_acc: 0.8782\n",
      "Epoch 51/100\n",
      "48000/48000 [==============================] - 2s 41us/step - loss: 0.3659 - acc: 0.8683 - val_loss: 0.3481 - val_acc: 0.8784\n",
      "Epoch 52/100\n",
      "48000/48000 [==============================] - 2s 49us/step - loss: 0.3642 - acc: 0.8699 - val_loss: 0.3478 - val_acc: 0.8779\n",
      "Epoch 53/100\n",
      "48000/48000 [==============================] - 2s 45us/step - loss: 0.3615 - acc: 0.8698 - val_loss: 0.3439 - val_acc: 0.8780\n",
      "Epoch 54/100\n",
      "48000/48000 [==============================] - 2s 44us/step - loss: 0.3591 - acc: 0.8704 - val_loss: 0.3457 - val_acc: 0.8780\n",
      "Epoch 55/100\n",
      "48000/48000 [==============================] - 2s 37us/step - loss: 0.3571 - acc: 0.8697 - val_loss: 0.3492 - val_acc: 0.8756\n",
      "Epoch 56/100\n",
      "48000/48000 [==============================] - 2s 37us/step - loss: 0.3638 - acc: 0.8676 - val_loss: 0.3491 - val_acc: 0.8786\n",
      "Epoch 57/100\n",
      "48000/48000 [==============================] - 2s 37us/step - loss: 0.3570 - acc: 0.8707 - val_loss: 0.3467 - val_acc: 0.8776\n",
      "Epoch 58/100\n",
      "48000/48000 [==============================] - 2s 41us/step - loss: 0.3591 - acc: 0.8698 - val_loss: 0.3555 - val_acc: 0.8710\n",
      "Epoch 59/100\n"
     ]
    },
    {
     "name": "stdout",
     "output_type": "stream",
     "text": [
      "48000/48000 [==============================] - 2s 38us/step - loss: 0.3578 - acc: 0.8696 - val_loss: 0.3540 - val_acc: 0.8720\n",
      "Epoch 60/100\n",
      "48000/48000 [==============================] - 2s 41us/step - loss: 0.3565 - acc: 0.8706 - val_loss: 0.3419 - val_acc: 0.8788\n",
      "Epoch 61/100\n",
      "48000/48000 [==============================] - 2s 39us/step - loss: 0.3609 - acc: 0.8689 - val_loss: 0.3479 - val_acc: 0.8753\n",
      "Epoch 62/100\n",
      "48000/48000 [==============================] - 2s 38us/step - loss: 0.3569 - acc: 0.8704 - val_loss: 0.3492 - val_acc: 0.8755\n",
      "Epoch 63/100\n",
      "48000/48000 [==============================] - 2s 38us/step - loss: 0.3539 - acc: 0.8715 - val_loss: 0.3516 - val_acc: 0.8761\n",
      "Epoch 64/100\n",
      "48000/48000 [==============================] - 2s 39us/step - loss: 0.3556 - acc: 0.8710 - val_loss: 0.3544 - val_acc: 0.8736\n",
      "Epoch 65/100\n",
      "48000/48000 [==============================] - 2s 40us/step - loss: 0.3513 - acc: 0.8736 - val_loss: 0.3558 - val_acc: 0.8765\n",
      "Epoch 66/100\n",
      "48000/48000 [==============================] - 2s 38us/step - loss: 0.3513 - acc: 0.8724 - val_loss: 0.3487 - val_acc: 0.8774\n",
      "Epoch 67/100\n",
      "48000/48000 [==============================] - 2s 40us/step - loss: 0.3514 - acc: 0.8727 - val_loss: 0.3595 - val_acc: 0.8733\n",
      "Epoch 68/100\n",
      "48000/48000 [==============================] - 2s 36us/step - loss: 0.3517 - acc: 0.8715 - val_loss: 0.3555 - val_acc: 0.8732\n",
      "Epoch 69/100\n",
      "48000/48000 [==============================] - 2s 37us/step - loss: 0.3498 - acc: 0.8719 - val_loss: 0.3500 - val_acc: 0.8761\n",
      "Epoch 70/100\n",
      "48000/48000 [==============================] - 2s 38us/step - loss: 0.3505 - acc: 0.8720 - val_loss: 0.3450 - val_acc: 0.8772\n",
      "Epoch 71/100\n",
      "48000/48000 [==============================] - 2s 35us/step - loss: 0.3495 - acc: 0.8729 - val_loss: 0.3610 - val_acc: 0.8752\n",
      "Epoch 72/100\n",
      "48000/48000 [==============================] - 2s 36us/step - loss: 0.3496 - acc: 0.8717 - val_loss: 0.3560 - val_acc: 0.8741\n",
      "Epoch 73/100\n",
      "48000/48000 [==============================] - 2s 37us/step - loss: 0.3453 - acc: 0.8737 - val_loss: 0.3504 - val_acc: 0.8761\n",
      "Epoch 74/100\n",
      "48000/48000 [==============================] - 2s 37us/step - loss: 0.3479 - acc: 0.8741 - val_loss: 0.3483 - val_acc: 0.8768\n",
      "Epoch 75/100\n",
      "48000/48000 [==============================] - 2s 36us/step - loss: 0.3462 - acc: 0.8745 - val_loss: 0.3460 - val_acc: 0.8776\n",
      "Epoch 76/100\n",
      "48000/48000 [==============================] - 2s 35us/step - loss: 0.3430 - acc: 0.8745 - val_loss: 0.3517 - val_acc: 0.8783\n",
      "Epoch 77/100\n",
      "48000/48000 [==============================] - 2s 37us/step - loss: 0.3486 - acc: 0.8728 - val_loss: 0.3705 - val_acc: 0.8672\n",
      "Epoch 78/100\n",
      "48000/48000 [==============================] - 2s 40us/step - loss: 0.3447 - acc: 0.8735 - val_loss: 0.3584 - val_acc: 0.8753\n",
      "Epoch 79/100\n",
      "48000/48000 [==============================] - 2s 41us/step - loss: 0.3461 - acc: 0.8729 - val_loss: 0.3469 - val_acc: 0.8772\n",
      "Epoch 80/100\n",
      "48000/48000 [==============================] - 2s 37us/step - loss: 0.3411 - acc: 0.8764 - val_loss: 0.3516 - val_acc: 0.8758\n",
      "Epoch 81/100\n",
      "48000/48000 [==============================] - 2s 38us/step - loss: 0.3422 - acc: 0.8737 - val_loss: 0.3523 - val_acc: 0.8782\n",
      "Epoch 82/100\n",
      "48000/48000 [==============================] - 2s 38us/step - loss: 0.3440 - acc: 0.8758 - val_loss: 0.3536 - val_acc: 0.8760\n",
      "Epoch 83/100\n",
      "48000/48000 [==============================] - 2s 37us/step - loss: 0.3373 - acc: 0.8767 - val_loss: 0.3584 - val_acc: 0.8745\n",
      "Epoch 84/100\n",
      "48000/48000 [==============================] - 2s 37us/step - loss: 0.3400 - acc: 0.8768 - val_loss: 0.3473 - val_acc: 0.8790\n",
      "Epoch 85/100\n",
      "48000/48000 [==============================] - 2s 37us/step - loss: 0.3416 - acc: 0.8755 - val_loss: 0.3534 - val_acc: 0.8779\n",
      "Epoch 86/100\n",
      "48000/48000 [==============================] - 2s 38us/step - loss: 0.3401 - acc: 0.8749 - val_loss: 0.3554 - val_acc: 0.8763\n",
      "Epoch 87/100\n",
      "48000/48000 [==============================] - 2s 38us/step - loss: 0.3406 - acc: 0.8755 - val_loss: 0.3589 - val_acc: 0.8765\n",
      "Epoch 88/100\n",
      "48000/48000 [==============================] - 2s 35us/step - loss: 0.3384 - acc: 0.8770 - val_loss: 0.3741 - val_acc: 0.8728\n",
      "Epoch 89/100\n",
      "48000/48000 [==============================] - 2s 37us/step - loss: 0.3406 - acc: 0.8761 - val_loss: 0.3584 - val_acc: 0.8755\n",
      "Epoch 90/100\n",
      "48000/48000 [==============================] - 2s 37us/step - loss: 0.3397 - acc: 0.8766 - val_loss: 0.3487 - val_acc: 0.8773\n",
      "Epoch 91/100\n",
      "48000/48000 [==============================] - 2s 37us/step - loss: 0.3373 - acc: 0.8756 - val_loss: 0.3516 - val_acc: 0.8762\n",
      "Epoch 92/100\n",
      "48000/48000 [==============================] - 2s 40us/step - loss: 0.3340 - acc: 0.8783 - val_loss: 0.3532 - val_acc: 0.8750\n",
      "Epoch 93/100\n",
      "48000/48000 [==============================] - 2s 42us/step - loss: 0.3335 - acc: 0.8783 - val_loss: 0.3489 - val_acc: 0.8792\n",
      "Epoch 94/100\n",
      "48000/48000 [==============================] - 2s 39us/step - loss: 0.3419 - acc: 0.8721 - val_loss: 0.3578 - val_acc: 0.8726\n",
      "Epoch 95/100\n",
      "48000/48000 [==============================] - 2s 41us/step - loss: 0.3358 - acc: 0.8765 - val_loss: 0.3498 - val_acc: 0.8777\n",
      "Epoch 96/100\n",
      "48000/48000 [==============================] - 2s 40us/step - loss: 0.3376 - acc: 0.8771 - val_loss: 0.3601 - val_acc: 0.8732\n",
      "Epoch 97/100\n",
      "48000/48000 [==============================] - 2s 40us/step - loss: 0.3359 - acc: 0.8745 - val_loss: 0.3583 - val_acc: 0.8753\n",
      "Epoch 98/100\n",
      "48000/48000 [==============================] - 2s 43us/step - loss: 0.3335 - acc: 0.8773 - val_loss: 0.3587 - val_acc: 0.8737\n",
      "Epoch 99/100\n",
      "48000/48000 [==============================] - 2s 37us/step - loss: 0.3321 - acc: 0.8768 - val_loss: 0.3522 - val_acc: 0.8820\n",
      "Epoch 100/100\n",
      "48000/48000 [==============================] - 2s 38us/step - loss: 0.3338 - acc: 0.8770 - val_loss: 0.3585 - val_acc: 0.8726\n"
     ]
    }
   ],
   "source": [
    "#Dropout + Batch Normalization, Best model found, Best Loss\n",
    "\n",
    "model = Sequential()\n",
    "model.add(Dense(50, input_dim = 784, activation='linear'))\n",
    "model.add(BatchNormalization())\n",
    "model.add(Activation('relu'))\n",
    "model.add(Dropout(rate=0.45))\n",
    "\n",
    "\n",
    "\n",
    "model.add(Dense(10, activation='linear'))\n",
    "model.add(BatchNormalization())\n",
    "model.add(Activation('softmax'))\n",
    "adam = optimizers.Adam(lr = 0.001)\n",
    "model.compile(optimizer = adam, loss = 'categorical_crossentropy', metrics = ['accuracy'])\n",
    "history = model.fit(x_fashion_train, y_fashion_train, batch_size = 128, epochs = 100, validation_split = 0.2, verbose=1)\n",
    "\n",
    "\n",
    "\n",
    "histories[\"Dropout\"] = history\n",
    "\n",
    "\n"
   ]
  },
  {
   "cell_type": "code",
   "execution_count": 33,
   "metadata": {
    "ExecuteTime": {
     "end_time": "2019-04-29T12:00:33.392029Z",
     "start_time": "2019-04-29T11:58:11.981326Z"
    }
   },
   "outputs": [
    {
     "name": "stdout",
     "output_type": "stream",
     "text": [
      "Train on 48000 samples, validate on 12000 samples\n",
      "Epoch 1/100\n",
      "48000/48000 [==============================] - 3s 59us/step - loss: 1.3818 - acc: 0.7661 - val_loss: 0.9414 - val_acc: 0.8152\n",
      "Epoch 2/100\n",
      "48000/48000 [==============================] - 2s 35us/step - loss: 0.8522 - acc: 0.8158 - val_loss: 0.8008 - val_acc: 0.8172\n",
      "Epoch 3/100\n",
      "48000/48000 [==============================] - 2s 33us/step - loss: 0.7691 - acc: 0.8174 - val_loss: 0.7470 - val_acc: 0.8231\n",
      "Epoch 4/100\n",
      "48000/48000 [==============================] - 1s 30us/step - loss: 0.7258 - acc: 0.8218 - val_loss: 0.7073 - val_acc: 0.8243\n",
      "Epoch 5/100\n",
      "48000/48000 [==============================] - 2s 31us/step - loss: 0.6992 - acc: 0.8267 - val_loss: 0.6912 - val_acc: 0.8249\n",
      "Epoch 6/100\n",
      "48000/48000 [==============================] - 1s 28us/step - loss: 0.6868 - acc: 0.8277 - val_loss: 0.6782 - val_acc: 0.8305\n",
      "Epoch 7/100\n",
      "48000/48000 [==============================] - 1s 28us/step - loss: 0.6713 - acc: 0.8294 - val_loss: 0.6749 - val_acc: 0.8267\n",
      "Epoch 8/100\n",
      "48000/48000 [==============================] - 1s 25us/step - loss: 0.6556 - acc: 0.8332 - val_loss: 0.6432 - val_acc: 0.8378\n",
      "Epoch 9/100\n",
      "48000/48000 [==============================] - 1s 27us/step - loss: 0.6486 - acc: 0.8326 - val_loss: 0.6481 - val_acc: 0.8356\n",
      "Epoch 10/100\n",
      "48000/48000 [==============================] - 1s 29us/step - loss: 0.6408 - acc: 0.8346 - val_loss: 0.6431 - val_acc: 0.8354\n",
      "Epoch 11/100\n",
      "48000/48000 [==============================] - 1s 27us/step - loss: 0.6292 - acc: 0.8380 - val_loss: 0.6460 - val_acc: 0.8293\n",
      "Epoch 12/100\n",
      "48000/48000 [==============================] - 1s 29us/step - loss: 0.6241 - acc: 0.8386 - val_loss: 0.6292 - val_acc: 0.8352\n",
      "Epoch 13/100\n",
      "48000/48000 [==============================] - 1s 27us/step - loss: 0.6181 - acc: 0.8397 - val_loss: 0.6327 - val_acc: 0.8311\n",
      "Epoch 14/100\n",
      "48000/48000 [==============================] - 1s 26us/step - loss: 0.6114 - acc: 0.8417 - val_loss: 0.6296 - val_acc: 0.8359\n",
      "Epoch 15/100\n",
      "48000/48000 [==============================] - 1s 27us/step - loss: 0.6106 - acc: 0.8411 - val_loss: 0.6043 - val_acc: 0.8439\n",
      "Epoch 16/100\n",
      "48000/48000 [==============================] - 1s 28us/step - loss: 0.6032 - acc: 0.8443 - val_loss: 0.5972 - val_acc: 0.8421\n",
      "Epoch 17/100\n",
      "48000/48000 [==============================] - 1s 27us/step - loss: 0.5946 - acc: 0.8454 - val_loss: 0.5929 - val_acc: 0.8483\n",
      "Epoch 18/100\n",
      "48000/48000 [==============================] - 1s 26us/step - loss: 0.5928 - acc: 0.8463 - val_loss: 0.5891 - val_acc: 0.8461\n",
      "Epoch 19/100\n",
      "48000/48000 [==============================] - 1s 28us/step - loss: 0.5880 - acc: 0.8466 - val_loss: 0.6024 - val_acc: 0.8414\n",
      "Epoch 20/100\n",
      "48000/48000 [==============================] - 1s 27us/step - loss: 0.5843 - acc: 0.8481 - val_loss: 0.5899 - val_acc: 0.8416\n",
      "Epoch 21/100\n",
      "48000/48000 [==============================] - 1s 29us/step - loss: 0.5854 - acc: 0.8460 - val_loss: 0.5785 - val_acc: 0.8474\n",
      "Epoch 22/100\n",
      "48000/48000 [==============================] - 1s 27us/step - loss: 0.5755 - acc: 0.8486 - val_loss: 0.5754 - val_acc: 0.8500\n",
      "Epoch 23/100\n",
      "48000/48000 [==============================] - 1s 29us/step - loss: 0.5723 - acc: 0.8501 - val_loss: 0.5784 - val_acc: 0.8483\n",
      "Epoch 24/100\n",
      "48000/48000 [==============================] - 1s 27us/step - loss: 0.5722 - acc: 0.8501 - val_loss: 0.5844 - val_acc: 0.8431\n",
      "Epoch 25/100\n",
      "48000/48000 [==============================] - 1s 27us/step - loss: 0.5672 - acc: 0.8504 - val_loss: 0.5881 - val_acc: 0.8464\n",
      "Epoch 26/100\n",
      "48000/48000 [==============================] - 1s 26us/step - loss: 0.5665 - acc: 0.8507 - val_loss: 0.6478 - val_acc: 0.8259\n",
      "Epoch 27/100\n",
      "48000/48000 [==============================] - 1s 27us/step - loss: 0.5670 - acc: 0.8503 - val_loss: 0.5668 - val_acc: 0.8508\n",
      "Epoch 28/100\n",
      "48000/48000 [==============================] - 1s 27us/step - loss: 0.5577 - acc: 0.8538 - val_loss: 0.5762 - val_acc: 0.8482\n",
      "Epoch 29/100\n",
      "48000/48000 [==============================] - 1s 26us/step - loss: 0.5577 - acc: 0.8542 - val_loss: 0.5590 - val_acc: 0.8549\n",
      "Epoch 30/100\n",
      "48000/48000 [==============================] - 1s 26us/step - loss: 0.5560 - acc: 0.8533 - val_loss: 0.5721 - val_acc: 0.8432\n",
      "Epoch 31/100\n",
      "48000/48000 [==============================] - 1s 28us/step - loss: 0.5567 - acc: 0.8515 - val_loss: 0.5514 - val_acc: 0.8552\n",
      "Epoch 32/100\n",
      "48000/48000 [==============================] - 1s 26us/step - loss: 0.5494 - acc: 0.8546 - val_loss: 0.5611 - val_acc: 0.8490\n",
      "Epoch 33/100\n",
      "48000/48000 [==============================] - 1s 29us/step - loss: 0.5507 - acc: 0.8540 - val_loss: 0.5723 - val_acc: 0.8482\n",
      "Epoch 34/100\n",
      "48000/48000 [==============================] - 1s 28us/step - loss: 0.5481 - acc: 0.8536 - val_loss: 0.5681 - val_acc: 0.8467\n",
      "Epoch 35/100\n",
      "48000/48000 [==============================] - 1s 30us/step - loss: 0.5466 - acc: 0.8538 - val_loss: 0.5727 - val_acc: 0.8454\n",
      "Epoch 36/100\n",
      "48000/48000 [==============================] - 1s 30us/step - loss: 0.5445 - acc: 0.8555 - val_loss: 0.5844 - val_acc: 0.8377\n",
      "Epoch 37/100\n",
      "48000/48000 [==============================] - 1s 26us/step - loss: 0.5448 - acc: 0.8558 - val_loss: 0.5683 - val_acc: 0.8452\n",
      "Epoch 38/100\n",
      "48000/48000 [==============================] - 2s 39us/step - loss: 0.5436 - acc: 0.8548 - val_loss: 0.5423 - val_acc: 0.8548\n",
      "Epoch 39/100\n",
      "48000/48000 [==============================] - 2s 47us/step - loss: 0.5410 - acc: 0.8550 - val_loss: 0.5607 - val_acc: 0.8446\n",
      "Epoch 40/100\n",
      "48000/48000 [==============================] - 1s 29us/step - loss: 0.5353 - acc: 0.8584 - val_loss: 0.5678 - val_acc: 0.8469\n",
      "Epoch 41/100\n",
      "48000/48000 [==============================] - 1s 25us/step - loss: 0.5371 - acc: 0.8567 - val_loss: 0.5749 - val_acc: 0.8463\n",
      "Epoch 42/100\n",
      "48000/48000 [==============================] - 1s 26us/step - loss: 0.5378 - acc: 0.8562 - val_loss: 0.5686 - val_acc: 0.8474\n",
      "Epoch 43/100\n",
      "48000/48000 [==============================] - 2s 35us/step - loss: 0.5333 - acc: 0.8577 - val_loss: 0.5604 - val_acc: 0.8473\n",
      "Epoch 44/100\n",
      "48000/48000 [==============================] - 2s 38us/step - loss: 0.5354 - acc: 0.8575 - val_loss: 0.5432 - val_acc: 0.8542\n",
      "Epoch 45/100\n",
      "48000/48000 [==============================] - 1s 31us/step - loss: 0.5340 - acc: 0.8580 - val_loss: 0.5410 - val_acc: 0.8547\n",
      "Epoch 46/100\n",
      "48000/48000 [==============================] - 1s 26us/step - loss: 0.5297 - acc: 0.8584 - val_loss: 0.5710 - val_acc: 0.8434\n",
      "Epoch 47/100\n",
      "48000/48000 [==============================] - 1s 28us/step - loss: 0.5309 - acc: 0.8583 - val_loss: 0.5534 - val_acc: 0.8519\n",
      "Epoch 48/100\n",
      "48000/48000 [==============================] - 2s 38us/step - loss: 0.5321 - acc: 0.8579 - val_loss: 0.5621 - val_acc: 0.8466\n",
      "Epoch 49/100\n",
      "48000/48000 [==============================] - 1s 26us/step - loss: 0.5322 - acc: 0.8579 - val_loss: 0.5483 - val_acc: 0.8500\n",
      "Epoch 50/100\n",
      "48000/48000 [==============================] - 1s 26us/step - loss: 0.5291 - acc: 0.8592 - val_loss: 0.5429 - val_acc: 0.8548\n",
      "Epoch 51/100\n",
      "48000/48000 [==============================] - 1s 26us/step - loss: 0.5300 - acc: 0.8578 - val_loss: 0.5463 - val_acc: 0.8525\n",
      "Epoch 52/100\n",
      "48000/48000 [==============================] - 1s 25us/step - loss: 0.5253 - acc: 0.8596 - val_loss: 0.5360 - val_acc: 0.8576\n",
      "Epoch 53/100\n",
      "48000/48000 [==============================] - 1s 26us/step - loss: 0.5248 - acc: 0.8597 - val_loss: 0.5342 - val_acc: 0.8543\n",
      "Epoch 54/100\n",
      "48000/48000 [==============================] - 1s 26us/step - loss: 0.5232 - acc: 0.8590 - val_loss: 0.5619 - val_acc: 0.8451\n",
      "Epoch 55/100\n",
      "48000/48000 [==============================] - 1s 25us/step - loss: 0.5250 - acc: 0.8591 - val_loss: 0.5283 - val_acc: 0.8576\n",
      "Epoch 56/100\n",
      "48000/48000 [==============================] - 1s 25us/step - loss: 0.5210 - acc: 0.8604 - val_loss: 0.5496 - val_acc: 0.8477\n",
      "Epoch 57/100\n",
      "48000/48000 [==============================] - 1s 25us/step - loss: 0.5192 - acc: 0.8624 - val_loss: 0.5718 - val_acc: 0.8412\n",
      "Epoch 58/100\n",
      "48000/48000 [==============================] - 1s 25us/step - loss: 0.5274 - acc: 0.8576 - val_loss: 0.5528 - val_acc: 0.8448\n",
      "Epoch 59/100\n"
     ]
    },
    {
     "name": "stdout",
     "output_type": "stream",
     "text": [
      "48000/48000 [==============================] - 2s 38us/step - loss: 0.5217 - acc: 0.8615 - val_loss: 0.5361 - val_acc: 0.8558\n",
      "Epoch 60/100\n",
      "48000/48000 [==============================] - 1s 25us/step - loss: 0.5209 - acc: 0.8591 - val_loss: 0.5468 - val_acc: 0.8505\n",
      "Epoch 61/100\n",
      "48000/48000 [==============================] - 1s 29us/step - loss: 0.5224 - acc: 0.8597 - val_loss: 0.5473 - val_acc: 0.8471\n",
      "Epoch 62/100\n",
      "48000/48000 [==============================] - 1s 26us/step - loss: 0.5190 - acc: 0.8608 - val_loss: 0.5401 - val_acc: 0.8537\n",
      "Epoch 63/100\n",
      "48000/48000 [==============================] - 2s 31us/step - loss: 0.5136 - acc: 0.8625 - val_loss: 0.5426 - val_acc: 0.8503\n",
      "Epoch 64/100\n",
      "48000/48000 [==============================] - 1s 31us/step - loss: 0.5178 - acc: 0.8605 - val_loss: 0.5266 - val_acc: 0.8568\n",
      "Epoch 65/100\n",
      "48000/48000 [==============================] - 2s 34us/step - loss: 0.5130 - acc: 0.8619 - val_loss: 0.5439 - val_acc: 0.8524\n",
      "Epoch 66/100\n",
      "48000/48000 [==============================] - 2s 33us/step - loss: 0.5160 - acc: 0.8604 - val_loss: 0.5925 - val_acc: 0.8285\n",
      "Epoch 67/100\n",
      "48000/48000 [==============================] - 2s 32us/step - loss: 0.5169 - acc: 0.8614 - val_loss: 0.5358 - val_acc: 0.8562\n",
      "Epoch 68/100\n",
      "48000/48000 [==============================] - 2s 32us/step - loss: 0.5226 - acc: 0.8586 - val_loss: 0.5516 - val_acc: 0.8458\n",
      "Epoch 69/100\n",
      "48000/48000 [==============================] - 1s 30us/step - loss: 0.5212 - acc: 0.8594 - val_loss: 0.5368 - val_acc: 0.8560\n",
      "Epoch 70/100\n",
      "48000/48000 [==============================] - 2s 32us/step - loss: 0.5179 - acc: 0.8615 - val_loss: 0.5404 - val_acc: 0.8515\n",
      "Epoch 71/100\n",
      "48000/48000 [==============================] - 2s 32us/step - loss: 0.5166 - acc: 0.8597 - val_loss: 0.5698 - val_acc: 0.8373\n",
      "Epoch 72/100\n",
      "48000/48000 [==============================] - 2s 31us/step - loss: 0.5127 - acc: 0.8619 - val_loss: 0.5233 - val_acc: 0.8562\n",
      "Epoch 73/100\n",
      "48000/48000 [==============================] - 2s 33us/step - loss: 0.5117 - acc: 0.8630 - val_loss: 0.5586 - val_acc: 0.8447\n",
      "Epoch 74/100\n",
      "48000/48000 [==============================] - 2s 32us/step - loss: 0.5130 - acc: 0.8622 - val_loss: 0.5364 - val_acc: 0.8555\n",
      "Epoch 75/100\n",
      "48000/48000 [==============================] - 1s 30us/step - loss: 0.5054 - acc: 0.8647 - val_loss: 0.5193 - val_acc: 0.8596\n",
      "Epoch 76/100\n",
      "48000/48000 [==============================] - 2s 39us/step - loss: 0.5157 - acc: 0.8596 - val_loss: 0.5590 - val_acc: 0.8452\n",
      "Epoch 77/100\n",
      "48000/48000 [==============================] - 1s 29us/step - loss: 0.5123 - acc: 0.8619 - val_loss: 0.5388 - val_acc: 0.8549\n",
      "Epoch 78/100\n",
      "48000/48000 [==============================] - 1s 30us/step - loss: 0.5129 - acc: 0.8606 - val_loss: 0.5403 - val_acc: 0.8534\n",
      "Epoch 79/100\n",
      "48000/48000 [==============================] - 1s 28us/step - loss: 0.5067 - acc: 0.8632 - val_loss: 0.5526 - val_acc: 0.8465\n",
      "Epoch 80/100\n",
      "48000/48000 [==============================] - 2s 32us/step - loss: 0.5111 - acc: 0.8615 - val_loss: 0.5468 - val_acc: 0.8447\n",
      "Epoch 81/100\n",
      "48000/48000 [==============================] - 1s 29us/step - loss: 0.5046 - acc: 0.8632 - val_loss: 0.5288 - val_acc: 0.8551\n",
      "Epoch 82/100\n",
      "48000/48000 [==============================] - 1s 27us/step - loss: 0.5098 - acc: 0.8624 - val_loss: 0.5207 - val_acc: 0.8584\n",
      "Epoch 83/100\n",
      "48000/48000 [==============================] - 1s 25us/step - loss: 0.5069 - acc: 0.8625 - val_loss: 0.5371 - val_acc: 0.8457\n",
      "Epoch 84/100\n",
      "48000/48000 [==============================] - 1s 26us/step - loss: 0.5060 - acc: 0.8630 - val_loss: 0.5240 - val_acc: 0.8548\n",
      "Epoch 85/100\n",
      "48000/48000 [==============================] - 2s 33us/step - loss: 0.5059 - acc: 0.8633 - val_loss: 0.5365 - val_acc: 0.8567\n",
      "Epoch 86/100\n",
      "48000/48000 [==============================] - 2s 34us/step - loss: 0.5057 - acc: 0.8618 - val_loss: 0.5435 - val_acc: 0.8507\n",
      "Epoch 87/100\n",
      "48000/48000 [==============================] - 1s 28us/step - loss: 0.5095 - acc: 0.8624 - val_loss: 0.5407 - val_acc: 0.8528\n",
      "Epoch 88/100\n",
      "48000/48000 [==============================] - 1s 29us/step - loss: 0.5106 - acc: 0.8625 - val_loss: 0.5324 - val_acc: 0.8552\n",
      "Epoch 89/100\n",
      "48000/48000 [==============================] - 1s 28us/step - loss: 0.5102 - acc: 0.8622 - val_loss: 0.5274 - val_acc: 0.8565\n",
      "Epoch 90/100\n",
      "48000/48000 [==============================] - 1s 31us/step - loss: 0.5010 - acc: 0.8662 - val_loss: 0.5298 - val_acc: 0.8535\n",
      "Epoch 91/100\n",
      "48000/48000 [==============================] - 2s 40us/step - loss: 0.5062 - acc: 0.8640 - val_loss: 0.5296 - val_acc: 0.8558\n",
      "Epoch 92/100\n",
      "48000/48000 [==============================] - 1s 25us/step - loss: 0.5045 - acc: 0.8637 - val_loss: 0.5300 - val_acc: 0.8570\n",
      "Epoch 93/100\n",
      "48000/48000 [==============================] - 1s 25us/step - loss: 0.5052 - acc: 0.8634 - val_loss: 0.5290 - val_acc: 0.8530\n",
      "Epoch 94/100\n",
      "48000/48000 [==============================] - 1s 25us/step - loss: 0.5061 - acc: 0.8629 - val_loss: 0.5180 - val_acc: 0.8591\n",
      "Epoch 95/100\n",
      "48000/48000 [==============================] - 1s 26us/step - loss: 0.5015 - acc: 0.8648 - val_loss: 0.5299 - val_acc: 0.8578\n",
      "Epoch 96/100\n",
      "48000/48000 [==============================] - 1s 30us/step - loss: 0.5038 - acc: 0.8641 - val_loss: 0.5200 - val_acc: 0.8570\n",
      "Epoch 97/100\n",
      "48000/48000 [==============================] - 1s 29us/step - loss: 0.5010 - acc: 0.8631 - val_loss: 0.5089 - val_acc: 0.8588\n",
      "Epoch 98/100\n",
      "48000/48000 [==============================] - 1s 27us/step - loss: 0.5036 - acc: 0.8636 - val_loss: 0.5231 - val_acc: 0.8578\n",
      "Epoch 99/100\n",
      "48000/48000 [==============================] - 1s 26us/step - loss: 0.5048 - acc: 0.8638 - val_loss: 0.5231 - val_acc: 0.8569\n",
      "Epoch 100/100\n",
      "48000/48000 [==============================] - 1s 25us/step - loss: 0.5001 - acc: 0.8645 - val_loss: 0.5187 - val_acc: 0.8573\n"
     ]
    }
   ],
   "source": [
    "#L1 Normalization, less overfitting but not best Accuracy\n",
    "model = Sequential()\n",
    "\n",
    "model.add(Dense(50, input_dim = 784, activation='relu', kernel_regularizer= regularizers.l1(0.0009), bias_regularizer = regularizers.l1(0.0009)))\n",
    "model.add(Dense(10, activation='softmax'))\n",
    "adam = optimizers.Adam(lr = 0.001)\n",
    "model.compile(optimizer = adam, loss = 'categorical_crossentropy', metrics = ['accuracy'])\n",
    "history = model.fit(x_fashion_train, y_fashion_train, batch_size = 128, epochs = 100, validation_split = 0.2, verbose=1)\n",
    "histories[\"L1-Norm\"] = history\n",
    "\n",
    "\n"
   ]
  },
  {
   "cell_type": "code",
   "execution_count": 35,
   "metadata": {
    "ExecuteTime": {
     "end_time": "2019-04-29T12:05:10.857347Z",
     "start_time": "2019-04-29T12:02:41.223013Z"
    }
   },
   "outputs": [
    {
     "name": "stdout",
     "output_type": "stream",
     "text": [
      "Train on 48000 samples, validate on 12000 samples\n",
      "Epoch 1/100\n",
      "48000/48000 [==============================] - 2s 50us/step - loss: 0.9243 - acc: 0.7819 - val_loss: 0.6816 - val_acc: 0.8257\n",
      "Epoch 2/100\n",
      "48000/48000 [==============================] - 1s 30us/step - loss: 0.6316 - acc: 0.8325 - val_loss: 0.5865 - val_acc: 0.8410\n",
      "Epoch 3/100\n",
      "48000/48000 [==============================] - 2s 34us/step - loss: 0.5766 - acc: 0.8394 - val_loss: 0.5676 - val_acc: 0.8373\n",
      "Epoch 4/100\n",
      "48000/48000 [==============================] - 2s 39us/step - loss: 0.5528 - acc: 0.8428 - val_loss: 0.5554 - val_acc: 0.8377\n",
      "Epoch 5/100\n",
      "48000/48000 [==============================] - 1s 29us/step - loss: 0.5353 - acc: 0.8459 - val_loss: 0.5277 - val_acc: 0.8481\n",
      "Epoch 6/100\n",
      "48000/48000 [==============================] - 1s 30us/step - loss: 0.5184 - acc: 0.8511 - val_loss: 0.5155 - val_acc: 0.8497\n",
      "Epoch 7/100\n",
      "48000/48000 [==============================] - 2s 33us/step - loss: 0.5130 - acc: 0.8508 - val_loss: 0.5219 - val_acc: 0.8468\n",
      "Epoch 8/100\n",
      "48000/48000 [==============================] - 1s 28us/step - loss: 0.5082 - acc: 0.8514 - val_loss: 0.5180 - val_acc: 0.8442\n",
      "Epoch 9/100\n",
      "48000/48000 [==============================] - 1s 27us/step - loss: 0.5008 - acc: 0.8534 - val_loss: 0.5134 - val_acc: 0.8487\n",
      "Epoch 10/100\n",
      "48000/48000 [==============================] - 1s 27us/step - loss: 0.4961 - acc: 0.8544 - val_loss: 0.4904 - val_acc: 0.8537\n",
      "Epoch 11/100\n",
      "48000/48000 [==============================] - 1s 26us/step - loss: 0.4867 - acc: 0.8567 - val_loss: 0.5043 - val_acc: 0.8506\n",
      "Epoch 12/100\n",
      "48000/48000 [==============================] - 1s 28us/step - loss: 0.4821 - acc: 0.8596 - val_loss: 0.4732 - val_acc: 0.8606\n",
      "Epoch 13/100\n",
      "48000/48000 [==============================] - 1s 27us/step - loss: 0.4809 - acc: 0.8581 - val_loss: 0.4869 - val_acc: 0.8577\n",
      "Epoch 14/100\n",
      "48000/48000 [==============================] - 1s 27us/step - loss: 0.4754 - acc: 0.8583 - val_loss: 0.4785 - val_acc: 0.8592\n",
      "Epoch 15/100\n",
      "48000/48000 [==============================] - 1s 26us/step - loss: 0.4689 - acc: 0.8608 - val_loss: 0.4751 - val_acc: 0.8583\n",
      "Epoch 16/100\n",
      "48000/48000 [==============================] - 1s 27us/step - loss: 0.4683 - acc: 0.8615 - val_loss: 0.4704 - val_acc: 0.8601\n",
      "Epoch 17/100\n",
      "48000/48000 [==============================] - 1s 27us/step - loss: 0.4645 - acc: 0.8634 - val_loss: 0.4606 - val_acc: 0.8629\n",
      "Epoch 18/100\n",
      "48000/48000 [==============================] - 1s 27us/step - loss: 0.4601 - acc: 0.8631 - val_loss: 0.4806 - val_acc: 0.8568\n",
      "Epoch 19/100\n",
      "48000/48000 [==============================] - 2s 31us/step - loss: 0.4534 - acc: 0.8658 - val_loss: 0.5166 - val_acc: 0.8434\n",
      "Epoch 20/100\n",
      "48000/48000 [==============================] - 2s 32us/step - loss: 0.4584 - acc: 0.8639 - val_loss: 0.4658 - val_acc: 0.8605\n",
      "Epoch 21/100\n",
      "48000/48000 [==============================] - 2s 36us/step - loss: 0.4493 - acc: 0.8654 - val_loss: 0.4600 - val_acc: 0.8607\n",
      "Epoch 22/100\n",
      "48000/48000 [==============================] - 1s 28us/step - loss: 0.4517 - acc: 0.8655 - val_loss: 0.4593 - val_acc: 0.8655\n",
      "Epoch 23/100\n",
      "48000/48000 [==============================] - 1s 26us/step - loss: 0.4448 - acc: 0.8671 - val_loss: 0.4732 - val_acc: 0.8567\n",
      "Epoch 24/100\n",
      "48000/48000 [==============================] - 2s 32us/step - loss: 0.4472 - acc: 0.8665 - val_loss: 0.4465 - val_acc: 0.8686\n",
      "Epoch 25/100\n",
      "48000/48000 [==============================] - 1s 27us/step - loss: 0.4423 - acc: 0.8680 - val_loss: 0.4567 - val_acc: 0.8617\n",
      "Epoch 26/100\n",
      "48000/48000 [==============================] - 1s 27us/step - loss: 0.4401 - acc: 0.8698 - val_loss: 0.4615 - val_acc: 0.8614\n",
      "Epoch 27/100\n",
      "48000/48000 [==============================] - 1s 27us/step - loss: 0.4417 - acc: 0.8684 - val_loss: 0.4461 - val_acc: 0.8673\n",
      "Epoch 28/100\n",
      "48000/48000 [==============================] - 2s 36us/step - loss: 0.4362 - acc: 0.8712 - val_loss: 0.4446 - val_acc: 0.8706\n",
      "Epoch 29/100\n",
      "48000/48000 [==============================] - 2s 34us/step - loss: 0.4340 - acc: 0.8701 - val_loss: 0.4441 - val_acc: 0.8633\n",
      "Epoch 30/100\n",
      "48000/48000 [==============================] - 2s 39us/step - loss: 0.4306 - acc: 0.8720 - val_loss: 0.4473 - val_acc: 0.8666\n",
      "Epoch 31/100\n",
      "48000/48000 [==============================] - 2s 37us/step - loss: 0.4346 - acc: 0.8704 - val_loss: 0.4840 - val_acc: 0.8567\n",
      "Epoch 32/100\n",
      "48000/48000 [==============================] - 1s 30us/step - loss: 0.4291 - acc: 0.8730 - val_loss: 0.4570 - val_acc: 0.8652\n",
      "Epoch 33/100\n",
      "48000/48000 [==============================] - 2s 34us/step - loss: 0.4283 - acc: 0.8725 - val_loss: 0.4503 - val_acc: 0.8666\n",
      "Epoch 34/100\n",
      "48000/48000 [==============================] - 1s 30us/step - loss: 0.4256 - acc: 0.8732 - val_loss: 0.4600 - val_acc: 0.8609\n",
      "Epoch 35/100\n",
      "48000/48000 [==============================] - 1s 30us/step - loss: 0.4227 - acc: 0.8738 - val_loss: 0.4341 - val_acc: 0.8724\n",
      "Epoch 36/100\n",
      "48000/48000 [==============================] - 2s 33us/step - loss: 0.4204 - acc: 0.8742 - val_loss: 0.4646 - val_acc: 0.8559\n",
      "Epoch 37/100\n",
      "48000/48000 [==============================] - 1s 31us/step - loss: 0.4201 - acc: 0.8747 - val_loss: 0.4547 - val_acc: 0.8643\n",
      "Epoch 38/100\n",
      "48000/48000 [==============================] - 2s 36us/step - loss: 0.4221 - acc: 0.8720 - val_loss: 0.4851 - val_acc: 0.8478\n",
      "Epoch 39/100\n",
      "48000/48000 [==============================] - 2s 31us/step - loss: 0.4180 - acc: 0.8742 - val_loss: 0.4711 - val_acc: 0.8552\n",
      "Epoch 40/100\n",
      "48000/48000 [==============================] - 1s 30us/step - loss: 0.4228 - acc: 0.8739 - val_loss: 0.4428 - val_acc: 0.8666\n",
      "Epoch 41/100\n",
      "48000/48000 [==============================] - 1s 30us/step - loss: 0.4203 - acc: 0.8743 - val_loss: 0.4562 - val_acc: 0.8620\n",
      "Epoch 42/100\n",
      "48000/48000 [==============================] - 1s 30us/step - loss: 0.4224 - acc: 0.8742 - val_loss: 0.4302 - val_acc: 0.8727\n",
      "Epoch 43/100\n",
      "48000/48000 [==============================] - 2s 32us/step - loss: 0.4166 - acc: 0.8754 - val_loss: 0.4590 - val_acc: 0.8583\n",
      "Epoch 44/100\n",
      "48000/48000 [==============================] - 1s 31us/step - loss: 0.4140 - acc: 0.8740 - val_loss: 0.4314 - val_acc: 0.8732\n",
      "Epoch 45/100\n",
      "48000/48000 [==============================] - 1s 30us/step - loss: 0.4157 - acc: 0.8771 - val_loss: 0.4683 - val_acc: 0.8560\n",
      "Epoch 46/100\n",
      "48000/48000 [==============================] - 2s 31us/step - loss: 0.4102 - acc: 0.8764 - val_loss: 0.4524 - val_acc: 0.8638\n",
      "Epoch 47/100\n",
      "48000/48000 [==============================] - 1s 31us/step - loss: 0.4130 - acc: 0.8769 - val_loss: 0.4495 - val_acc: 0.8651\n",
      "Epoch 48/100\n",
      "48000/48000 [==============================] - 1s 30us/step - loss: 0.4120 - acc: 0.8759 - val_loss: 0.4223 - val_acc: 0.8748\n",
      "Epoch 49/100\n",
      "48000/48000 [==============================] - 1s 31us/step - loss: 0.4085 - acc: 0.8770 - val_loss: 0.4411 - val_acc: 0.8689\n",
      "Epoch 50/100\n",
      "48000/48000 [==============================] - 1s 30us/step - loss: 0.4109 - acc: 0.8768 - val_loss: 0.4564 - val_acc: 0.8578\n",
      "Epoch 51/100\n",
      "48000/48000 [==============================] - 1s 30us/step - loss: 0.4113 - acc: 0.8756 - val_loss: 0.4296 - val_acc: 0.8736\n",
      "Epoch 52/100\n",
      "48000/48000 [==============================] - 1s 30us/step - loss: 0.4105 - acc: 0.8772 - val_loss: 0.4368 - val_acc: 0.8655\n",
      "Epoch 53/100\n",
      "48000/48000 [==============================] - 1s 31us/step - loss: 0.4035 - acc: 0.8798 - val_loss: 0.4234 - val_acc: 0.8722\n",
      "Epoch 54/100\n",
      "48000/48000 [==============================] - 1s 31us/step - loss: 0.4068 - acc: 0.8775 - val_loss: 0.4826 - val_acc: 0.8479\n",
      "Epoch 55/100\n",
      "48000/48000 [==============================] - 2s 32us/step - loss: 0.4057 - acc: 0.8764 - val_loss: 0.4348 - val_acc: 0.8692\n",
      "Epoch 56/100\n",
      "48000/48000 [==============================] - 1s 31us/step - loss: 0.4110 - acc: 0.8753 - val_loss: 0.4389 - val_acc: 0.8722\n",
      "Epoch 57/100\n",
      "48000/48000 [==============================] - 1s 30us/step - loss: 0.4069 - acc: 0.8772 - val_loss: 0.4282 - val_acc: 0.8719\n",
      "Epoch 58/100\n",
      "48000/48000 [==============================] - 2s 32us/step - loss: 0.4050 - acc: 0.8776 - val_loss: 0.4204 - val_acc: 0.8748\n",
      "Epoch 59/100\n"
     ]
    },
    {
     "name": "stdout",
     "output_type": "stream",
     "text": [
      "48000/48000 [==============================] - 1s 28us/step - loss: 0.4067 - acc: 0.8768 - val_loss: 0.4597 - val_acc: 0.8634\n",
      "Epoch 60/100\n",
      "48000/48000 [==============================] - 1s 26us/step - loss: 0.4084 - acc: 0.8781 - val_loss: 0.4406 - val_acc: 0.8691\n",
      "Epoch 61/100\n",
      "48000/48000 [==============================] - 2s 31us/step - loss: 0.4110 - acc: 0.8743 - val_loss: 0.4428 - val_acc: 0.8630\n",
      "Epoch 62/100\n",
      "48000/48000 [==============================] - 1s 30us/step - loss: 0.3985 - acc: 0.8800 - val_loss: 0.4564 - val_acc: 0.8593\n",
      "Epoch 63/100\n",
      "48000/48000 [==============================] - 1s 29us/step - loss: 0.4118 - acc: 0.8742 - val_loss: 0.4261 - val_acc: 0.8737\n",
      "Epoch 64/100\n",
      "48000/48000 [==============================] - 1s 29us/step - loss: 0.4034 - acc: 0.8789 - val_loss: 0.4323 - val_acc: 0.8678\n",
      "Epoch 65/100\n",
      "48000/48000 [==============================] - 1s 31us/step - loss: 0.4025 - acc: 0.8798 - val_loss: 0.4302 - val_acc: 0.8702\n",
      "Epoch 66/100\n",
      "48000/48000 [==============================] - 1s 30us/step - loss: 0.4003 - acc: 0.8792 - val_loss: 0.4444 - val_acc: 0.8668\n",
      "Epoch 67/100\n",
      "48000/48000 [==============================] - 1s 30us/step - loss: 0.4028 - acc: 0.8793 - val_loss: 0.4615 - val_acc: 0.8564\n",
      "Epoch 68/100\n",
      "48000/48000 [==============================] - 1s 30us/step - loss: 0.4013 - acc: 0.8785 - val_loss: 0.4336 - val_acc: 0.8702\n",
      "Epoch 69/100\n",
      "48000/48000 [==============================] - 1s 29us/step - loss: 0.4003 - acc: 0.8802 - val_loss: 0.5393 - val_acc: 0.8305\n",
      "Epoch 70/100\n",
      "48000/48000 [==============================] - 1s 30us/step - loss: 0.4033 - acc: 0.8793 - val_loss: 0.4344 - val_acc: 0.8684\n",
      "Epoch 71/100\n",
      "48000/48000 [==============================] - 1s 30us/step - loss: 0.3984 - acc: 0.8805 - val_loss: 0.4354 - val_acc: 0.8717\n",
      "Epoch 72/100\n",
      "48000/48000 [==============================] - 1s 31us/step - loss: 0.3973 - acc: 0.8809 - val_loss: 0.4328 - val_acc: 0.8683\n",
      "Epoch 73/100\n",
      "48000/48000 [==============================] - 2s 31us/step - loss: 0.4007 - acc: 0.8796 - val_loss: 0.4532 - val_acc: 0.8623\n",
      "Epoch 74/100\n",
      "48000/48000 [==============================] - 1s 31us/step - loss: 0.4086 - acc: 0.8765 - val_loss: 0.4384 - val_acc: 0.8677\n",
      "Epoch 75/100\n",
      "48000/48000 [==============================] - 2s 33us/step - loss: 0.3993 - acc: 0.8789 - val_loss: 0.4520 - val_acc: 0.8663\n",
      "Epoch 76/100\n",
      "48000/48000 [==============================] - 2s 32us/step - loss: 0.3977 - acc: 0.8798 - val_loss: 0.4327 - val_acc: 0.8688\n",
      "Epoch 77/100\n",
      "48000/48000 [==============================] - 2s 33us/step - loss: 0.3949 - acc: 0.8824 - val_loss: 0.4248 - val_acc: 0.8717\n",
      "Epoch 78/100\n",
      "48000/48000 [==============================] - 2s 32us/step - loss: 0.3921 - acc: 0.8811 - val_loss: 0.4406 - val_acc: 0.8635\n",
      "Epoch 79/100\n",
      "48000/48000 [==============================] - 2s 34us/step - loss: 0.3998 - acc: 0.8796 - val_loss: 0.4197 - val_acc: 0.8758\n",
      "Epoch 80/100\n",
      "48000/48000 [==============================] - 2s 32us/step - loss: 0.3939 - acc: 0.8820 - val_loss: 0.4353 - val_acc: 0.8679\n",
      "Epoch 81/100\n",
      "48000/48000 [==============================] - 2s 36us/step - loss: 0.3979 - acc: 0.8809 - val_loss: 0.4391 - val_acc: 0.8658\n",
      "Epoch 82/100\n",
      "48000/48000 [==============================] - 2s 34us/step - loss: 0.3995 - acc: 0.8793 - val_loss: 0.4210 - val_acc: 0.8707\n",
      "Epoch 83/100\n",
      "48000/48000 [==============================] - 2s 32us/step - loss: 0.3987 - acc: 0.8788 - val_loss: 0.4197 - val_acc: 0.8743\n",
      "Epoch 84/100\n",
      "48000/48000 [==============================] - 2s 33us/step - loss: 0.3986 - acc: 0.8785 - val_loss: 0.4408 - val_acc: 0.8660\n",
      "Epoch 85/100\n",
      "48000/48000 [==============================] - 2s 36us/step - loss: 0.3958 - acc: 0.8809 - val_loss: 0.4514 - val_acc: 0.8666\n",
      "Epoch 86/100\n",
      "48000/48000 [==============================] - 2s 34us/step - loss: 0.3931 - acc: 0.8824 - val_loss: 0.4201 - val_acc: 0.8728\n",
      "Epoch 87/100\n",
      "48000/48000 [==============================] - 2s 33us/step - loss: 0.3934 - acc: 0.8812 - val_loss: 0.4495 - val_acc: 0.8603\n",
      "Epoch 88/100\n",
      "48000/48000 [==============================] - 2s 35us/step - loss: 0.3952 - acc: 0.8807 - val_loss: 0.4362 - val_acc: 0.8650\n",
      "Epoch 89/100\n",
      "48000/48000 [==============================] - 2s 34us/step - loss: 0.3930 - acc: 0.8804 - val_loss: 0.4240 - val_acc: 0.8750\n",
      "Epoch 90/100\n",
      "48000/48000 [==============================] - 2s 35us/step - loss: 0.3961 - acc: 0.8806 - val_loss: 0.4348 - val_acc: 0.8688\n",
      "Epoch 91/100\n",
      "48000/48000 [==============================] - 2s 33us/step - loss: 0.3941 - acc: 0.8801 - val_loss: 0.4247 - val_acc: 0.8744\n",
      "Epoch 92/100\n",
      "48000/48000 [==============================] - 2s 33us/step - loss: 0.3987 - acc: 0.8769 - val_loss: 0.4411 - val_acc: 0.8646\n",
      "Epoch 93/100\n",
      "48000/48000 [==============================] - 2s 33us/step - loss: 0.3956 - acc: 0.8805 - val_loss: 0.4097 - val_acc: 0.8770\n",
      "Epoch 94/100\n",
      "48000/48000 [==============================] - 2s 32us/step - loss: 0.3896 - acc: 0.8835 - val_loss: 0.4165 - val_acc: 0.8727\n",
      "Epoch 95/100\n",
      "48000/48000 [==============================] - 2s 39us/step - loss: 0.3919 - acc: 0.8814 - val_loss: 0.4616 - val_acc: 0.8605\n",
      "Epoch 96/100\n",
      "48000/48000 [==============================] - 1s 27us/step - loss: 0.3920 - acc: 0.8808 - val_loss: 0.4584 - val_acc: 0.8601\n",
      "Epoch 97/100\n",
      "48000/48000 [==============================] - 1s 26us/step - loss: 0.3973 - acc: 0.8784 - val_loss: 0.4350 - val_acc: 0.8668\n",
      "Epoch 98/100\n",
      "48000/48000 [==============================] - 1s 26us/step - loss: 0.3951 - acc: 0.8810 - val_loss: 0.4156 - val_acc: 0.8732\n",
      "Epoch 99/100\n",
      "48000/48000 [==============================] - 1s 25us/step - loss: 0.3926 - acc: 0.8814 - val_loss: 0.4323 - val_acc: 0.8708\n",
      "Epoch 100/100\n",
      "48000/48000 [==============================] - 1s 26us/step - loss: 0.3933 - acc: 0.8814 - val_loss: 0.4205 - val_acc: 0.8748\n"
     ]
    }
   ],
   "source": [
    "#L2 Normalization, better than L1, but not best\n",
    "\n",
    "model = Sequential()\n",
    "\n",
    "model.add(Dense(50, input_dim = 784, activation='relu', kernel_regularizer= regularizers.l2(0.005), bias_regularizer = regularizers.l2(0.005)))\n",
    "\n",
    "model.add(Dense(10, activation='softmax'))\n",
    "adam = optimizers.Adam(lr = 0.001)\n",
    "model.compile(optimizer = adam, loss = 'categorical_crossentropy', metrics = ['accuracy'])\n",
    "history = model.fit(x_fashion_train, y_fashion_train, batch_size = 128, epochs = 100, validation_split = 0.2, verbose=1)\n",
    "histories[\"L2-Norm\"] = history\n",
    "\n",
    "\n"
   ]
  },
  {
   "cell_type": "code",
   "execution_count": 42,
   "metadata": {
    "ExecuteTime": {
     "end_time": "2019-04-29T12:13:36.008574Z",
     "start_time": "2019-04-29T12:13:35.421411Z"
    }
   },
   "outputs": [
    {
     "data": {
      "image/png": "[encoded data removed]",
      "text/plain": [
       "<Figure size 864x432 with 2 Axes>"
      ]
     },
     "metadata": {
      "needs_background": "light"
     },
     "output_type": "display_data"
    }
   ],
   "source": [
    "#Comparison with Best Model : Dropout + Batch Normalization\n",
    "\n",
    "comparison_plot(histories[\"Dropout\"], histories[\"NoTrick\"], 'Dropout + Batch Normalization', 'Simple model', 'Comparison between simple and dropout models');"
   ]
  },
  {
   "cell_type": "markdown",
   "metadata": {},
   "source": [
    "Answer to question 2 (comments):"
   ]
  },
  {
   "cell_type": "markdown",
   "metadata": {},
   "source": [
    "We chose the Droput model with batch normalization layers that presents, after 100 epochs, a stable behaviour in terms of validation loss and accuracy being less prone to overfitting and obtaining the best scores obtained by the simple model within the 100 epochs. Other tricks like batch normalization could help improving the model, especially in the convergence speed of the training phase. "
   ]
  },
  {
   "cell_type": "code",
   "execution_count": 44,
   "metadata": {
    "ExecuteTime": {
     "end_time": "2019-04-29T12:17:21.934869Z",
     "start_time": "2019-04-29T12:14:08.313410Z"
    }
   },
   "outputs": [
    {
     "name": "stdout",
     "output_type": "stream",
     "text": [
      "Train on 48000 samples, validate on 12000 samples\n",
      "Epoch 1/100\n",
      "48000/48000 [==============================] - 4s 75us/step - loss: 0.9631 - acc: 0.7853 - val_loss: 0.4848 - val_acc: 0.9271\n",
      "Epoch 2/100\n",
      "48000/48000 [==============================] - 2s 36us/step - loss: 0.6144 - acc: 0.8742 - val_loss: 0.3678 - val_acc: 0.9398\n",
      "Epoch 3/100\n",
      "48000/48000 [==============================] - 2s 36us/step - loss: 0.5097 - acc: 0.8866 - val_loss: 0.2845 - val_acc: 0.9478\n",
      "Epoch 4/100\n",
      "48000/48000 [==============================] - 2s 38us/step - loss: 0.4528 - acc: 0.8947 - val_loss: 0.2390 - val_acc: 0.9502\n",
      "Epoch 5/100\n",
      "48000/48000 [==============================] - 2s 39us/step - loss: 0.4143 - acc: 0.8987 - val_loss: 0.2189 - val_acc: 0.9521\n",
      "Epoch 6/100\n",
      "48000/48000 [==============================] - 2s 39us/step - loss: 0.3817 - acc: 0.9030 - val_loss: 0.2119 - val_acc: 0.9530\n",
      "Epoch 7/100\n",
      "48000/48000 [==============================] - 2s 40us/step - loss: 0.3567 - acc: 0.9084 - val_loss: 0.1840 - val_acc: 0.9574\n",
      "Epoch 8/100\n",
      "48000/48000 [==============================] - 2s 39us/step - loss: 0.3371 - acc: 0.9115 - val_loss: 0.1697 - val_acc: 0.9572\n",
      "Epoch 9/100\n",
      "48000/48000 [==============================] - 2s 36us/step - loss: 0.3215 - acc: 0.9126 - val_loss: 0.1666 - val_acc: 0.9575\n",
      "Epoch 10/100\n",
      "48000/48000 [==============================] - 2s 35us/step - loss: 0.3131 - acc: 0.9134 - val_loss: 0.1545 - val_acc: 0.9598\n",
      "Epoch 11/100\n",
      "48000/48000 [==============================] - 2s 38us/step - loss: 0.3024 - acc: 0.9161 - val_loss: 0.1559 - val_acc: 0.9598\n",
      "Epoch 12/100\n",
      "48000/48000 [==============================] - 2s 40us/step - loss: 0.2945 - acc: 0.9189 - val_loss: 0.1468 - val_acc: 0.9624\n",
      "Epoch 13/100\n",
      "48000/48000 [==============================] - 2s 37us/step - loss: 0.2823 - acc: 0.9210 - val_loss: 0.1458 - val_acc: 0.9602\n",
      "Epoch 14/100\n",
      "48000/48000 [==============================] - 2s 32us/step - loss: 0.2793 - acc: 0.9203 - val_loss: 0.1424 - val_acc: 0.9613\n",
      "Epoch 15/100\n",
      "48000/48000 [==============================] - 2s 33us/step - loss: 0.2726 - acc: 0.9224 - val_loss: 0.1386 - val_acc: 0.9622\n",
      "Epoch 16/100\n",
      "48000/48000 [==============================] - 2s 36us/step - loss: 0.2710 - acc: 0.9214 - val_loss: 0.1374 - val_acc: 0.9632\n",
      "Epoch 17/100\n",
      "48000/48000 [==============================] - 2s 33us/step - loss: 0.2647 - acc: 0.9236 - val_loss: 0.1376 - val_acc: 0.9631\n",
      "Epoch 18/100\n",
      "48000/48000 [==============================] - 2s 34us/step - loss: 0.2618 - acc: 0.9228 - val_loss: 0.1363 - val_acc: 0.9629\n",
      "Epoch 19/100\n",
      "48000/48000 [==============================] - 2s 39us/step - loss: 0.2536 - acc: 0.9260 - val_loss: 0.1357 - val_acc: 0.9632\n",
      "Epoch 20/100\n",
      "48000/48000 [==============================] - 2s 37us/step - loss: 0.2524 - acc: 0.9256 - val_loss: 0.1335 - val_acc: 0.9629\n",
      "Epoch 21/100\n",
      "48000/48000 [==============================] - 2s 39us/step - loss: 0.2504 - acc: 0.9255 - val_loss: 0.1302 - val_acc: 0.9633\n",
      "Epoch 22/100\n",
      "48000/48000 [==============================] - 2s 38us/step - loss: 0.2474 - acc: 0.9275 - val_loss: 0.1299 - val_acc: 0.9642\n",
      "Epoch 23/100\n",
      "48000/48000 [==============================] - 2s 38us/step - loss: 0.2419 - acc: 0.9280 - val_loss: 0.1272 - val_acc: 0.9657\n",
      "Epoch 24/100\n",
      "48000/48000 [==============================] - 2s 42us/step - loss: 0.2377 - acc: 0.9285 - val_loss: 0.1243 - val_acc: 0.9650\n",
      "Epoch 25/100\n",
      "48000/48000 [==============================] - 2s 40us/step - loss: 0.2355 - acc: 0.9295 - val_loss: 0.1253 - val_acc: 0.9645\n",
      "Epoch 26/100\n",
      "48000/48000 [==============================] - 2s 39us/step - loss: 0.2329 - acc: 0.9291 - val_loss: 0.1234 - val_acc: 0.9648\n",
      "Epoch 27/100\n",
      "48000/48000 [==============================] - 2s 39us/step - loss: 0.2345 - acc: 0.9293 - val_loss: 0.1256 - val_acc: 0.9640\n",
      "Epoch 28/100\n",
      "48000/48000 [==============================] - 2s 39us/step - loss: 0.2304 - acc: 0.9314 - val_loss: 0.1261 - val_acc: 0.9657\n",
      "Epoch 29/100\n",
      "48000/48000 [==============================] - 2s 39us/step - loss: 0.2314 - acc: 0.9304 - val_loss: 0.1223 - val_acc: 0.9658\n",
      "Epoch 30/100\n",
      "48000/48000 [==============================] - 2s 39us/step - loss: 0.2262 - acc: 0.9315 - val_loss: 0.1258 - val_acc: 0.9648\n",
      "Epoch 31/100\n",
      "48000/48000 [==============================] - 2s 42us/step - loss: 0.2249 - acc: 0.9331 - val_loss: 0.1220 - val_acc: 0.9667\n",
      "Epoch 32/100\n",
      "48000/48000 [==============================] - 2s 41us/step - loss: 0.2225 - acc: 0.9333 - val_loss: 0.1212 - val_acc: 0.9667\n",
      "Epoch 33/100\n",
      "48000/48000 [==============================] - 2s 41us/step - loss: 0.2221 - acc: 0.9321 - val_loss: 0.1206 - val_acc: 0.9667\n",
      "Epoch 34/100\n",
      "48000/48000 [==============================] - 2s 41us/step - loss: 0.2188 - acc: 0.9348 - val_loss: 0.1242 - val_acc: 0.9642\n",
      "Epoch 35/100\n",
      "48000/48000 [==============================] - 2s 41us/step - loss: 0.2194 - acc: 0.9345 - val_loss: 0.1211 - val_acc: 0.9660\n",
      "Epoch 36/100\n",
      "48000/48000 [==============================] - 2s 41us/step - loss: 0.2173 - acc: 0.9343 - val_loss: 0.1198 - val_acc: 0.9667\n",
      "Epoch 37/100\n",
      "48000/48000 [==============================] - 2s 33us/step - loss: 0.2148 - acc: 0.9353 - val_loss: 0.1200 - val_acc: 0.9669\n",
      "Epoch 38/100\n",
      "48000/48000 [==============================] - 2s 32us/step - loss: 0.2157 - acc: 0.9336 - val_loss: 0.1201 - val_acc: 0.9662\n",
      "Epoch 39/100\n",
      "48000/48000 [==============================] - 2s 33us/step - loss: 0.2131 - acc: 0.9340 - val_loss: 0.1212 - val_acc: 0.9679\n",
      "Epoch 40/100\n",
      "48000/48000 [==============================] - 2s 33us/step - loss: 0.2166 - acc: 0.9324 - val_loss: 0.1184 - val_acc: 0.9668\n",
      "Epoch 41/100\n",
      "48000/48000 [==============================] - 2s 33us/step - loss: 0.2122 - acc: 0.9349 - val_loss: 0.1173 - val_acc: 0.9660\n",
      "Epoch 42/100\n",
      "48000/48000 [==============================] - 2s 32us/step - loss: 0.2104 - acc: 0.9346 - val_loss: 0.1185 - val_acc: 0.9670\n",
      "Epoch 43/100\n",
      "48000/48000 [==============================] - 2s 33us/step - loss: 0.2087 - acc: 0.9360 - val_loss: 0.1196 - val_acc: 0.9669\n",
      "Epoch 44/100\n",
      "48000/48000 [==============================] - 2s 43us/step - loss: 0.2103 - acc: 0.9350 - val_loss: 0.1195 - val_acc: 0.9672\n",
      "Epoch 45/100\n",
      "48000/48000 [==============================] - 2s 48us/step - loss: 0.2086 - acc: 0.9356 - val_loss: 0.1186 - val_acc: 0.9659\n",
      "Epoch 46/100\n",
      "48000/48000 [==============================] - 2s 49us/step - loss: 0.2081 - acc: 0.9353 - val_loss: 0.1193 - val_acc: 0.9659\n",
      "Epoch 47/100\n",
      "48000/48000 [==============================] - 2s 43us/step - loss: 0.2036 - acc: 0.9369 - val_loss: 0.1182 - val_acc: 0.9667\n",
      "Epoch 48/100\n",
      "48000/48000 [==============================] - 2s 41us/step - loss: 0.2038 - acc: 0.9372 - val_loss: 0.1173 - val_acc: 0.9667\n",
      "Epoch 49/100\n",
      "48000/48000 [==============================] - 2s 47us/step - loss: 0.2069 - acc: 0.9370 - val_loss: 0.1185 - val_acc: 0.9660\n",
      "Epoch 50/100\n",
      "48000/48000 [==============================] - 2s 51us/step - loss: 0.2061 - acc: 0.9361 - val_loss: 0.1150 - val_acc: 0.9683\n",
      "Epoch 51/100\n",
      "48000/48000 [==============================] - 2s 51us/step - loss: 0.1977 - acc: 0.9390 - val_loss: 0.1224 - val_acc: 0.9663\n",
      "Epoch 52/100\n",
      "48000/48000 [==============================] - 2s 39us/step - loss: 0.2024 - acc: 0.9374 - val_loss: 0.1197 - val_acc: 0.9666\n",
      "Epoch 53/100\n",
      "48000/48000 [==============================] - 2s 43us/step - loss: 0.2002 - acc: 0.9375 - val_loss: 0.1186 - val_acc: 0.9667\n",
      "Epoch 54/100\n",
      "48000/48000 [==============================] - 2s 47us/step - loss: 0.2008 - acc: 0.9376 - val_loss: 0.1198 - val_acc: 0.9658\n",
      "Epoch 55/100\n",
      "48000/48000 [==============================] - 2s 45us/step - loss: 0.2022 - acc: 0.9371 - val_loss: 0.1184 - val_acc: 0.9663\n",
      "Epoch 56/100\n",
      "48000/48000 [==============================] - 2s 47us/step - loss: 0.1972 - acc: 0.9381 - val_loss: 0.1194 - val_acc: 0.9670\n",
      "Epoch 57/100\n",
      "48000/48000 [==============================] - 2s 45us/step - loss: 0.2001 - acc: 0.9373 - val_loss: 0.1203 - val_acc: 0.9668\n",
      "Epoch 58/100\n",
      "48000/48000 [==============================] - 2s 49us/step - loss: 0.1920 - acc: 0.9395 - val_loss: 0.1211 - val_acc: 0.9663\n",
      "Epoch 59/100\n"
     ]
    },
    {
     "name": "stdout",
     "output_type": "stream",
     "text": [
      "48000/48000 [==============================] - 2s 51us/step - loss: 0.1976 - acc: 0.9380 - val_loss: 0.1201 - val_acc: 0.9662\n",
      "Epoch 60/100\n",
      "48000/48000 [==============================] - 3s 65us/step - loss: 0.1967 - acc: 0.9383 - val_loss: 0.1200 - val_acc: 0.9660\n",
      "Epoch 61/100\n",
      "48000/48000 [==============================] - 2s 52us/step - loss: 0.1964 - acc: 0.9380 - val_loss: 0.1153 - val_acc: 0.9682\n",
      "Epoch 62/100\n",
      "48000/48000 [==============================] - 2s 31us/step - loss: 0.1948 - acc: 0.9400 - val_loss: 0.1176 - val_acc: 0.9666\n",
      "Epoch 63/100\n",
      "48000/48000 [==============================] - 2s 32us/step - loss: 0.1913 - acc: 0.9395 - val_loss: 0.1185 - val_acc: 0.9662\n",
      "Epoch 64/100\n",
      "48000/48000 [==============================] - 1s 30us/step - loss: 0.1914 - acc: 0.9392 - val_loss: 0.1183 - val_acc: 0.9657\n",
      "Epoch 65/100\n",
      "48000/48000 [==============================] - 2s 41us/step - loss: 0.1935 - acc: 0.9386 - val_loss: 0.1193 - val_acc: 0.9663\n",
      "Epoch 66/100\n",
      "48000/48000 [==============================] - 2s 32us/step - loss: 0.1929 - acc: 0.9389 - val_loss: 0.1189 - val_acc: 0.9666\n",
      "Epoch 67/100\n",
      "48000/48000 [==============================] - 2s 33us/step - loss: 0.1885 - acc: 0.9410 - val_loss: 0.1180 - val_acc: 0.9663\n",
      "Epoch 68/100\n",
      "48000/48000 [==============================] - 2s 43us/step - loss: 0.1923 - acc: 0.9398 - val_loss: 0.1175 - val_acc: 0.9658\n",
      "Epoch 69/100\n",
      "48000/48000 [==============================] - 2s 34us/step - loss: 0.1883 - acc: 0.9408 - val_loss: 0.1209 - val_acc: 0.9665\n",
      "Epoch 70/100\n",
      "48000/48000 [==============================] - 2s 41us/step - loss: 0.1869 - acc: 0.9419 - val_loss: 0.1191 - val_acc: 0.9660\n",
      "Epoch 71/100\n",
      "48000/48000 [==============================] - 2s 35us/step - loss: 0.1837 - acc: 0.9411 - val_loss: 0.1190 - val_acc: 0.9667\n",
      "Epoch 72/100\n",
      "48000/48000 [==============================] - 2s 36us/step - loss: 0.1874 - acc: 0.9401 - val_loss: 0.1219 - val_acc: 0.9649\n",
      "Epoch 73/100\n",
      "48000/48000 [==============================] - 2s 37us/step - loss: 0.1902 - acc: 0.9404 - val_loss: 0.1153 - val_acc: 0.9687\n",
      "Epoch 74/100\n",
      "48000/48000 [==============================] - 2s 32us/step - loss: 0.1878 - acc: 0.9411 - val_loss: 0.1179 - val_acc: 0.9675\n",
      "Epoch 75/100\n",
      "48000/48000 [==============================] - 2s 41us/step - loss: 0.1874 - acc: 0.9412 - val_loss: 0.1196 - val_acc: 0.9672\n",
      "Epoch 76/100\n",
      "48000/48000 [==============================] - 2s 39us/step - loss: 0.1858 - acc: 0.9420 - val_loss: 0.1211 - val_acc: 0.9675\n",
      "Epoch 77/100\n",
      "48000/48000 [==============================] - 2s 42us/step - loss: 0.1853 - acc: 0.9427 - val_loss: 0.1206 - val_acc: 0.9654\n",
      "Epoch 78/100\n",
      "48000/48000 [==============================] - 2s 42us/step - loss: 0.1866 - acc: 0.9413 - val_loss: 0.1190 - val_acc: 0.9673\n",
      "Epoch 79/100\n",
      "48000/48000 [==============================] - 2s 40us/step - loss: 0.1844 - acc: 0.9412 - val_loss: 0.1199 - val_acc: 0.9671\n",
      "Epoch 80/100\n",
      "48000/48000 [==============================] - 2s 39us/step - loss: 0.1820 - acc: 0.9423 - val_loss: 0.1204 - val_acc: 0.9663\n",
      "Epoch 81/100\n",
      "48000/48000 [==============================] - 2s 40us/step - loss: 0.1815 - acc: 0.9435 - val_loss: 0.1197 - val_acc: 0.9654\n",
      "Epoch 82/100\n",
      "48000/48000 [==============================] - 2s 40us/step - loss: 0.1813 - acc: 0.9430 - val_loss: 0.1187 - val_acc: 0.9664\n",
      "Epoch 83/100\n",
      "48000/48000 [==============================] - 2s 42us/step - loss: 0.1838 - acc: 0.9418 - val_loss: 0.1225 - val_acc: 0.9663\n",
      "Epoch 84/100\n",
      "48000/48000 [==============================] - 2s 39us/step - loss: 0.1813 - acc: 0.9426 - val_loss: 0.1183 - val_acc: 0.9674\n",
      "Epoch 85/100\n",
      "48000/48000 [==============================] - 2s 39us/step - loss: 0.1820 - acc: 0.9422 - val_loss: 0.1186 - val_acc: 0.9668\n",
      "Epoch 86/100\n",
      "48000/48000 [==============================] - 2s 39us/step - loss: 0.1842 - acc: 0.9427 - val_loss: 0.1185 - val_acc: 0.9663\n",
      "Epoch 87/100\n",
      "48000/48000 [==============================] - 2s 40us/step - loss: 0.1834 - acc: 0.9410 - val_loss: 0.1184 - val_acc: 0.9668\n",
      "Epoch 88/100\n",
      "48000/48000 [==============================] - 2s 39us/step - loss: 0.1844 - acc: 0.9413 - val_loss: 0.1187 - val_acc: 0.9676\n",
      "Epoch 89/100\n",
      "48000/48000 [==============================] - 2s 41us/step - loss: 0.1789 - acc: 0.9440 - val_loss: 0.1186 - val_acc: 0.9667\n",
      "Epoch 90/100\n",
      "48000/48000 [==============================] - 2s 40us/step - loss: 0.1740 - acc: 0.9452 - val_loss: 0.1181 - val_acc: 0.9662\n",
      "Epoch 91/100\n",
      "48000/48000 [==============================] - 2s 41us/step - loss: 0.1804 - acc: 0.9435 - val_loss: 0.1208 - val_acc: 0.9653\n",
      "Epoch 92/100\n",
      "48000/48000 [==============================] - 2s 40us/step - loss: 0.1788 - acc: 0.9439 - val_loss: 0.1217 - val_acc: 0.9662\n",
      "Epoch 93/100\n",
      "48000/48000 [==============================] - 2s 40us/step - loss: 0.1778 - acc: 0.9424 - val_loss: 0.1229 - val_acc: 0.9664\n",
      "Epoch 94/100\n",
      "48000/48000 [==============================] - 2s 39us/step - loss: 0.1771 - acc: 0.9436 - val_loss: 0.1188 - val_acc: 0.9652\n",
      "Epoch 95/100\n",
      "48000/48000 [==============================] - 2s 45us/step - loss: 0.1789 - acc: 0.9438 - val_loss: 0.1220 - val_acc: 0.9656\n",
      "Epoch 96/100\n",
      "48000/48000 [==============================] - 2s 37us/step - loss: 0.1745 - acc: 0.9445 - val_loss: 0.1183 - val_acc: 0.9667\n",
      "Epoch 97/100\n",
      "48000/48000 [==============================] - 2s 44us/step - loss: 0.1795 - acc: 0.9437 - val_loss: 0.1192 - val_acc: 0.9668\n",
      "Epoch 98/100\n",
      "48000/48000 [==============================] - 2s 40us/step - loss: 0.1778 - acc: 0.9444 - val_loss: 0.1178 - val_acc: 0.9678\n",
      "Epoch 99/100\n",
      "48000/48000 [==============================] - 2s 51us/step - loss: 0.1745 - acc: 0.9442 - val_loss: 0.1192 - val_acc: 0.9658\n",
      "Epoch 100/100\n",
      "48000/48000 [==============================] - 2s 47us/step - loss: 0.1749 - acc: 0.9441 - val_loss: 0.1217 - val_acc: 0.9661\n"
     ]
    }
   ],
   "source": [
    "#Best Model applied to MNIST\n",
    "#Dropout + Batch Normalization\n",
    "\n",
    "model = Sequential()\n",
    "model.add(Dense(50, input_dim = 784, activation='relu'))\n",
    "model.add(BatchNormalization())\n",
    "model.add(Activation('relu'))\n",
    "model.add(Dropout(rate=0.45))\n",
    "\n",
    "\n",
    "\n",
    "model.add(Dense(10, activation='linear'))\n",
    "model.add(BatchNormalization())\n",
    "model.add(Activation('softmax'))\n",
    "adam = optimizers.Adam(lr = 0.001)\n",
    "model.compile(optimizer = adam, loss = 'categorical_crossentropy', metrics = ['accuracy'])\n",
    "history = model.fit(x_train, y_train, batch_size = 128, epochs = 100, validation_split = 0.2, verbose=1)\n",
    "\n",
    "\n",
    "\n",
    "histories[\"DropoutMNIST\"] = history\n",
    "\n",
    "\n"
   ]
  },
  {
   "cell_type": "code",
   "execution_count": 45,
   "metadata": {
    "ExecuteTime": {
     "end_time": "2019-04-29T12:17:22.622678Z",
     "start_time": "2019-04-29T12:17:21.976904Z"
    }
   },
   "outputs": [
    {
     "data": {
      "image/png": "[encoded data removed]",
      "text/plain": [
       "<Figure size 864x432 with 2 Axes>"
      ]
     },
     "metadata": {
      "needs_background": "light"
     },
     "output_type": "display_data"
    }
   ],
   "source": [
    "plot_history(histories[\"DropoutMNIST\"], \"Droput + early stopping MNIST\");\n",
    "#plot_history(history, \"Droput + early stopping MNIST\");"
   ]
  },
  {
   "cell_type": "markdown",
   "metadata": {},
   "source": [
    "## Exercise 6: Convolutional neural networks (CNNs) (10 points)\n",
    "\n",
    "### Description\n",
    "\n",
    "Convolutional neural networks have an inductive bias that is well adapted to image classification.\n",
    "\n",
    "1. Design a convolutional neural network, play with different architectures and parameters. Hint: You may get valuable inspiration from the keras [examples](https://github.com/keras-team/keras/tree/master/examples). (4 pts)\n",
    "2. Plot the learning curves of the convolutional neural network for MNIST and Fashion-MNIST. (4 pts)\n",
    "3. How does the CNN performance compare to the so far best performing (deep) neural network model for the two data sets? (2 sentences max.) (2 pts)\n",
    "\n",
    "### Solution"
   ]
  },
  {
   "cell_type": "code",
   "execution_count": 15,
   "metadata": {
    "ExecuteTime": {
     "end_time": "2019-04-29T15:14:10.968046Z",
     "start_time": "2019-04-29T15:14:10.950627Z"
    }
   },
   "outputs": [],
   "source": [
    "CNN_x_train = x_train.reshape(x_train.shape[0], 28, 28, 1)\n",
    "CNN_x_test = x_test.reshape(x_test.shape[0], 28, 28, 1)\n",
    "\n",
    "CNN_x_train_fashion = x_fashion_train.reshape(x_fashion_train.shape[0], 28, 28, 1)\n",
    "CNN_x_test_fashion = x_fashion_test.reshape(x_fashion_test.shape[0], 28, 28, 1)\n"
   ]
  },
  {
   "cell_type": "code",
   "execution_count": 52,
   "metadata": {
    "ExecuteTime": {
     "end_time": "2019-04-29T13:08:40.495120Z",
     "start_time": "2019-04-29T12:52:16.634294Z"
    }
   },
   "outputs": [
    {
     "name": "stdout",
     "output_type": "stream",
     "text": [
      "Train on 48000 samples, validate on 12000 samples\n",
      "Epoch 1/10\n",
      "48000/48000 [==============================] - 94s 2ms/step - loss: 0.3304 - acc: 0.8977 - val_loss: 0.0790 - val_acc: 0.9779\n",
      "Epoch 2/10\n",
      "48000/48000 [==============================] - 98s 2ms/step - loss: 0.1103 - acc: 0.9666 - val_loss: 0.0546 - val_acc: 0.9838\n",
      "Epoch 3/10\n",
      "48000/48000 [==============================] - 99s 2ms/step - loss: 0.0837 - acc: 0.9742 - val_loss: 0.0471 - val_acc: 0.9857\n",
      "Epoch 4/10\n",
      "48000/48000 [==============================] - 97s 2ms/step - loss: 0.0693 - acc: 0.9791 - val_loss: 0.0454 - val_acc: 0.9866\n",
      "Epoch 5/10\n",
      "48000/48000 [==============================] - 97s 2ms/step - loss: 0.0635 - acc: 0.9810 - val_loss: 0.0416 - val_acc: 0.9882\n",
      "Epoch 6/10\n",
      "48000/48000 [==============================] - 99s 2ms/step - loss: 0.0584 - acc: 0.9824 - val_loss: 0.0398 - val_acc: 0.9886\n",
      "Epoch 7/10\n",
      "48000/48000 [==============================] - 99s 2ms/step - loss: 0.0517 - acc: 0.9844 - val_loss: 0.0406 - val_acc: 0.9882\n",
      "Epoch 8/10\n",
      "48000/48000 [==============================] - 99s 2ms/step - loss: 0.0474 - acc: 0.9858 - val_loss: 0.0370 - val_acc: 0.9891\n",
      "Epoch 9/10\n",
      "48000/48000 [==============================] - 101s 2ms/step - loss: 0.0451 - acc: 0.9858 - val_loss: 0.0395 - val_acc: 0.9890\n",
      "Epoch 10/10\n",
      "48000/48000 [==============================] - 101s 2ms/step - loss: 0.0435 - acc: 0.9868 - val_loss: 0.0386 - val_acc: 0.9880\n"
     ]
    }
   ],
   "source": [
    "#MNIST\n",
    "\n",
    "model = Sequential()\n",
    "model.add(Conv2D(32, kernel_size=(3, 3),\n",
    "                 activation='relu',\n",
    "                 input_shape=(28,28,1)))\n",
    "model.add(Conv2D(64, (3, 3), activation='relu'))\n",
    "model.add(MaxPooling2D(pool_size=(2, 2)))\n",
    "model.add(Dropout(0.5))\n",
    "model.add(Flatten())\n",
    "model.add(Dense(128, activation='relu'))\n",
    "model.add(Dropout(0.5))\n",
    "model.add(Dense(10, activation='softmax'))\n",
    "\n",
    "model.compile(loss=keras.losses.categorical_crossentropy,\n",
    "              optimizer=keras.optimizers.Adadelta(),\n",
    "              metrics=['accuracy'])\n",
    "\n",
    "hist = model.fit(CNN_x_train, y_train,\n",
    "          batch_size=128,\n",
    "          epochs=10,\n",
    "          verbose=1,\n",
    "          validation_split = 0.2)\n",
    "    \n",
    "#plot_history(hist, 'CNN History');"
   ]
  },
  {
   "cell_type": "code",
   "execution_count": 65,
   "metadata": {
    "ExecuteTime": {
     "end_time": "2019-04-29T13:31:01.582094Z",
     "start_time": "2019-04-29T13:14:21.959200Z"
    }
   },
   "outputs": [
    {
     "name": "stdout",
     "output_type": "stream",
     "text": [
      "Train on 48000 samples, validate on 12000 samples\n",
      "Epoch 1/10\n",
      "48000/48000 [==============================] - 96s 2ms/step - loss: 0.6227 - acc: 0.7767 - val_loss: 0.3759 - val_acc: 0.8632\n",
      "Epoch 2/10\n",
      "48000/48000 [==============================] - 100s 2ms/step - loss: 0.3967 - acc: 0.8580 - val_loss: 0.3090 - val_acc: 0.8851\n",
      "Epoch 3/10\n",
      "48000/48000 [==============================] - 98s 2ms/step - loss: 0.3461 - acc: 0.8756 - val_loss: 0.2797 - val_acc: 0.8972\n",
      "Epoch 4/10\n",
      "48000/48000 [==============================] - 101s 2ms/step - loss: 0.3175 - acc: 0.8866 - val_loss: 0.2629 - val_acc: 0.9045\n",
      "Epoch 5/10\n",
      "48000/48000 [==============================] - 106s 2ms/step - loss: 0.2944 - acc: 0.8947 - val_loss: 0.2544 - val_acc: 0.9042\n",
      "Epoch 6/10\n",
      "48000/48000 [==============================] - 99s 2ms/step - loss: 0.2779 - acc: 0.9009 - val_loss: 0.2391 - val_acc: 0.9119\n",
      "Epoch 7/10\n",
      "48000/48000 [==============================] - 97s 2ms/step - loss: 0.2633 - acc: 0.9050 - val_loss: 0.2326 - val_acc: 0.9127\n",
      "Epoch 8/10\n",
      "48000/48000 [==============================] - 100s 2ms/step - loss: 0.2490 - acc: 0.9120 - val_loss: 0.2222 - val_acc: 0.9167\n",
      "Epoch 9/10\n",
      "48000/48000 [==============================] - 104s 2ms/step - loss: 0.2384 - acc: 0.9142 - val_loss: 0.2199 - val_acc: 0.9194\n",
      "Epoch 10/10\n",
      "48000/48000 [==============================] - 99s 2ms/step - loss: 0.2294 - acc: 0.9177 - val_loss: 0.2247 - val_acc: 0.9166\n"
     ]
    }
   ],
   "source": [
    "#MNIST Fashion\n",
    "\n",
    "model = Sequential()\n",
    "model.add(Conv2D(32, kernel_size=(3, 3),\n",
    "                 activation='relu',\n",
    "                 input_shape=(28,28,1)))\n",
    "model.add(Conv2D(64, (3, 3), activation='relu'))\n",
    "model.add(MaxPooling2D(pool_size=(2, 2)))\n",
    "model.add(Dropout(0.5))\n",
    "model.add(Flatten())\n",
    "model.add(Dense(128, activation='relu'))\n",
    "model.add(Dropout(0.5))\n",
    "model.add(Dense(10, activation='softmax'))\n",
    "\n",
    "model.compile(loss=keras.losses.categorical_crossentropy,\n",
    "              optimizer=keras.optimizers.Adadelta(),\n",
    "              metrics=['accuracy'])\n",
    "\n",
    "hist_fashion = model.fit(CNN_x_train_fashion, y_fashion_train,\n",
    "          batch_size=128,\n",
    "          epochs=10,\n",
    "          verbose=1,\n",
    "          validation_split = 0.2)\n",
    "    \n",
    "#plot_history(hist, 'CNN History');"
   ]
  },
  {
   "cell_type": "code",
   "execution_count": 66,
   "metadata": {
    "ExecuteTime": {
     "end_time": "2019-04-29T13:31:07.859611Z",
     "start_time": "2019-04-29T13:31:07.371161Z"
    }
   },
   "outputs": [
    {
     "data": {
      "image/png": "[encoded data removed]",
      "text/plain": [
       "<Figure size 864x432 with 2 Axes>"
      ]
     },
     "metadata": {
      "needs_background": "light"
     },
     "output_type": "display_data"
    }
   ],
   "source": [
    "plot_history(hist, 'CNN on MNIST dataset');"
   ]
  },
  {
   "cell_type": "code",
   "execution_count": 67,
   "metadata": {
    "ExecuteTime": {
     "end_time": "2019-04-29T13:31:15.366977Z",
     "start_time": "2019-04-29T13:31:14.553620Z"
    }
   },
   "outputs": [
    {
     "data": {
      "image/png": "[encoded data removed]",
      "text/plain": [
       "<Figure size 864x432 with 2 Axes>"
      ]
     },
     "metadata": {
      "needs_background": "light"
     },
     "output_type": "display_data"
    }
   ],
   "source": [
    "plot_history(hist_fashion, 'CNN on MNIST Fashion dataset');"
   ]
  },
  {
   "cell_type": "markdown",
   "metadata": {},
   "source": [
    "Answer to question 3:"
   ]
  },
  {
   "cell_type": "markdown",
   "metadata": {},
   "source": []
  },
  {
   "cell_type": "markdown",
   "metadata": {},
   "source": [
    "## Exercise 7: Sigmoidal activation function and batch-normalization (6 points)\n",
    "\n",
    "### Description:\n",
    "\n",
    "In the original publication of batch normalization [Ioffe and Szegedy, 2014](https://arxiv.org/pdf/1502.03167.pdf), the authors mention a particularly beneficial effect of their method on networks with sigmoidal activation functions. This is because such networks usually suffer from saturating activations/vanishing gradients. Here we want to reproduce this behaviour (Chose either MNIST or Fashion-MNIST for this exercise).\n",
    "\n",
    "1. Implement the same convolutional network as in the previous exercise, but using the sigmoid activation function instead of the standard choice ReLU. Train the network for a reasonable amount of time. What do you observe? (1 sentence max.) (3 pts)\n",
    "2. Add batch-normalization layers to all convolutional and fully-connected layers (i.e. before each layer with learnable parameters). How does the performance change? Can the network reach the ReLU-CNN performance of the previous exercise? (1 sentence max.) (3 pts)\n",
    "3. **BONUS (optional, not graded**): Investigate our initial guess that saturating activity/vanishing gradients might be the cause of this behaviour. For that, create histograms of the hidden activitions for different hidden layers for the sigmoid-CNN and the sigmoid-CNN with batch-normalization (counting over both, samples and neurons per layer). You may only chose layers with learnable parameters. What do you observe?\n",
    "Hint: You can use the [keract](https://github.com/philipperemy/keract) package to access neural activation values for all layers of your network model.\n",
    "\n",
    "\n",
    "\n",
    "### Solution:"
   ]
  },
  {
   "cell_type": "code",
   "execution_count": 17,
   "metadata": {
    "ExecuteTime": {
     "end_time": "2019-04-29T15:30:15.289577Z",
     "start_time": "2019-04-29T15:14:43.774865Z"
    }
   },
   "outputs": [
    {
     "name": "stdout",
     "output_type": "stream",
     "text": [
      "Train on 48000 samples, validate on 12000 samples\n",
      "Epoch 1/10\n",
      "48000/48000 [==============================] - 99s 2ms/step - loss: 2.3203 - acc: 0.1104 - val_loss: 2.3023 - val_acc: 0.1060\n",
      "Epoch 2/10\n",
      "48000/48000 [==============================] - 95s 2ms/step - loss: 2.3015 - acc: 0.1141 - val_loss: 2.3019 - val_acc: 0.1060\n",
      "Epoch 3/10\n",
      "48000/48000 [==============================] - 93s 2ms/step - loss: 2.3012 - acc: 0.1140 - val_loss: 2.3018 - val_acc: 0.1060\n",
      "Epoch 4/10\n",
      "48000/48000 [==============================] - 93s 2ms/step - loss: 2.3011 - acc: 0.1139 - val_loss: 2.3011 - val_acc: 0.1060\n",
      "Epoch 5/10\n",
      "48000/48000 [==============================] - 92s 2ms/step - loss: 1.3118 - acc: 0.5291 - val_loss: 0.3111 - val_acc: 0.9097\n",
      "Epoch 6/10\n",
      "48000/48000 [==============================] - 91s 2ms/step - loss: 0.3948 - acc: 0.8829 - val_loss: 0.2407 - val_acc: 0.9277\n",
      "Epoch 7/10\n",
      "48000/48000 [==============================] - 91s 2ms/step - loss: 0.3189 - acc: 0.9050 - val_loss: 0.1888 - val_acc: 0.9452\n",
      "Epoch 8/10\n",
      "48000/48000 [==============================] - 91s 2ms/step - loss: 0.2788 - acc: 0.9175 - val_loss: 0.1658 - val_acc: 0.9524\n",
      "Epoch 9/10\n",
      "48000/48000 [==============================] - 91s 2ms/step - loss: 0.2586 - acc: 0.9235 - val_loss: 0.1577 - val_acc: 0.9524\n",
      "Epoch 10/10\n",
      "48000/48000 [==============================] - 93s 2ms/step - loss: 0.2366 - acc: 0.9300 - val_loss: 0.1465 - val_acc: 0.9561\n",
      "Saved model to disk\n"
     ]
    }
   ],
   "source": [
    "model = Sequential()\n",
    "model.add(Conv2D(32, kernel_size=(3, 3),\n",
    "                 activation='sigmoid',\n",
    "                 input_shape=(28,28,1)))\n",
    "model.add(Conv2D(64, (3, 3), activation='sigmoid'))\n",
    "model.add(MaxPooling2D(pool_size=(2, 2)))\n",
    "model.add(Dropout(0.5))\n",
    "model.add(Flatten())\n",
    "model.add(Dense(128, activation='sigmoid'))\n",
    "model.add(Dropout(0.5))\n",
    "model.add(Dense(10, activation='softmax'))\n",
    "\n",
    "model.compile(loss=keras.losses.categorical_crossentropy,\n",
    "              optimizer=keras.optimizers.Adadelta(),\n",
    "              metrics=['accuracy'])\n",
    "\n",
    "hist_model = model.fit(CNN_x_train, y_train,\n",
    "          batch_size=128,\n",
    "          epochs=10,\n",
    "          verbose=1,\n",
    "          validation_split = 0.2)\n",
    "\n",
    "#Serialize model to JSON\n",
    "model_json = model.to_json()\n",
    "with open(\"model.json\", \"w\") as json_file:\n",
    "    json_file.write(model_json)\n",
    "# serialize weights to HDF5\n",
    "model.save_weights(\"model.h5\")\n",
    "print(\"Saved model to disk\")\n",
    " \n",
    "    \n"
   ]
  },
  {
   "cell_type": "markdown",
   "metadata": {},
   "source": [
    "Answer to question 1:"
   ]
  },
  {
   "cell_type": "markdown",
   "metadata": {},
   "source": [
    "We observe that for the network is much more difficult to learn the right parameters as the sigmoid outputs tend to saturate and the gradient vanishes for those neurons, making the convergence very slow."
   ]
  },
  {
   "cell_type": "code",
   "execution_count": 18,
   "metadata": {
    "ExecuteTime": {
     "end_time": "2019-04-29T16:07:02.539467Z",
     "start_time": "2019-04-29T15:30:15.379923Z"
    }
   },
   "outputs": [
    {
     "name": "stdout",
     "output_type": "stream",
     "text": [
      "Train on 48000 samples, validate on 12000 samples\n",
      "Epoch 1/10\n",
      "48000/48000 [==============================] - 228s 5ms/step - loss: 0.9465 - acc: 0.7740 - val_loss: 1.2653 - val_acc: 0.6220\n",
      "Epoch 2/10\n",
      "48000/48000 [==============================] - 227s 5ms/step - loss: 0.4659 - acc: 0.9129 - val_loss: 0.4893 - val_acc: 0.8630\n",
      "Epoch 3/10\n",
      "48000/48000 [==============================] - 219s 5ms/step - loss: 0.3082 - acc: 0.9395 - val_loss: 0.2456 - val_acc: 0.9461\n",
      "Epoch 4/10\n",
      "48000/48000 [==============================] - 219s 5ms/step - loss: 0.2327 - acc: 0.9515 - val_loss: 0.1189 - val_acc: 0.9772\n",
      "Epoch 5/10\n",
      "48000/48000 [==============================] - 217s 5ms/step - loss: 0.1871 - acc: 0.9579 - val_loss: 0.1342 - val_acc: 0.9667\n",
      "Epoch 6/10\n",
      "48000/48000 [==============================] - 218s 5ms/step - loss: 0.1611 - acc: 0.9624 - val_loss: 0.1014 - val_acc: 0.9752\n",
      "Epoch 7/10\n",
      "48000/48000 [==============================] - 224s 5ms/step - loss: 0.1402 - acc: 0.9652 - val_loss: 0.0743 - val_acc: 0.9817\n",
      "Epoch 8/10\n",
      "48000/48000 [==============================] - 223s 5ms/step - loss: 0.1303 - acc: 0.9672 - val_loss: 0.0689 - val_acc: 0.9828\n",
      "Epoch 9/10\n",
      "48000/48000 [==============================] - 216s 4ms/step - loss: 0.1162 - acc: 0.9705 - val_loss: 0.0541 - val_acc: 0.9853\n",
      "Epoch 10/10\n",
      "48000/48000 [==============================] - 216s 4ms/step - loss: 0.1098 - acc: 0.9713 - val_loss: 0.0565 - val_acc: 0.9844\n",
      "Saved model to disk\n"
     ]
    }
   ],
   "source": [
    "cnn_batch = Sequential()\n",
    "cnn_batch.add(Conv2D(32, kernel_size=(3, 3),\n",
    "                 activation='linear',\n",
    "                 input_shape=(28,28,1)))\n",
    "cnn_batch.add(BatchNormalization())\n",
    "cnn_batch.add(Activation('sigmoid'))\n",
    "cnn_batch.add(Conv2D(64, (3, 3), activation='linear'))\n",
    "cnn_batch.add(BatchNormalization())\n",
    "cnn_batch.add(Activation('sigmoid'))\n",
    "cnn_batch.add(MaxPooling2D(pool_size=(2, 2)))\n",
    "cnn_batch.add(Dropout(0.5))\n",
    "cnn_batch.add(Flatten())\n",
    "cnn_batch.add(Dense(128, activation='linear'))\n",
    "cnn_batch.add(BatchNormalization())\n",
    "cnn_batch.add(Activation('sigmoid'))\n",
    "cnn_batch.add(Dropout(0.5))\n",
    "cnn_batch.add(Dense(10, activation='linear'))\n",
    "cnn_batch.add(BatchNormalization())\n",
    "cnn_batch.add(Activation('softmax'))\n",
    "\n",
    "cnn_batch.compile(loss=keras.losses.categorical_crossentropy,\n",
    "              optimizer=keras.optimizers.Adadelta(),\n",
    "              metrics=['accuracy'])\n",
    "\n",
    "hist_cnn_batch = cnn_batch.fit(CNN_x_train, y_train,\n",
    "          batch_size=128,\n",
    "          epochs=10,\n",
    "          verbose=1,\n",
    "          validation_split = 0.2)\n",
    "\n",
    "#Serialize model to JSON\n",
    "model_json = cnn_batch.to_json()\n",
    "with open(\"model_batch.json\", \"w\") as json_file:\n",
    "    json_file.write(model_json)\n",
    "# serialize weights to HDF5\n",
    "cnn_batch.save_weights(\"model_batch.h5\")\n",
    "print(\"Saved model to disk\")\n",
    " \n",
    "    \n"
   ]
  },
  {
   "cell_type": "markdown",
   "metadata": {},
   "source": [
    "Answer to question 2:"
   ]
  },
  {
   "cell_type": "markdown",
   "metadata": {},
   "source": [
    "Using the batch normalization trick the network is able to learn the parameter faster having a huge gain in performance specially for the first epochs, reaching at the end similar validation performance to the ReLu-CNN model."
   ]
  },
  {
   "cell_type": "code",
   "execution_count": 19,
   "metadata": {
    "ExecuteTime": {
     "end_time": "2019-04-29T16:07:02.611302Z",
     "start_time": "2019-04-29T16:07:02.607680Z"
    }
   },
   "outputs": [],
   "source": [
    "from keract import get_activations"
   ]
  },
  {
   "cell_type": "code",
   "execution_count": 113,
   "metadata": {
    "ExecuteTime": {
     "end_time": "2019-04-29T16:50:51.113868Z",
     "start_time": "2019-04-29T16:50:48.808410Z"
    }
   },
   "outputs": [
    {
     "data": {
      "image/png": "[encoded data removed]",
      "text/plain": [
       "<Figure size 864x1296 with 3 Axes>"
      ]
     },
     "metadata": {
      "needs_background": "light"
     },
     "output_type": "display_data"
    }
   ],
   "source": [
    "#Plot histograms of activation values for the 3 hidden layers of both models\n",
    "#Taken values of all filters/channels related to the first 100 train samples \n",
    "\n",
    "fig, axs = plt.subplots(3, 1, figsize=(12,18));\n",
    "_ = axs[0].hist(np.ravel(get_activations(model, CNN_x_test_fashion[0:100])['conv2d_5/Sigmoid:0']), alpha=0.5, label='Sigmoid')\n",
    "_ = axs[0].hist(np.ravel(get_activations(cnn_batch, CNN_x_test_fashion[0:100])['activation_1/Sigmoid:0']), alpha=0.5, label='Sigmoid + Batch Normalization')\n",
    "axs[0].legend()\n",
    "_ = axs[0].set_title('FIRST LAYER ')\n",
    "\n",
    "_ = axs[1].hist(np.ravel(get_activations(model, CNN_x_test_fashion[0:100])['conv2d_6/Sigmoid:0']), alpha=0.5, label='Sigmoid')\n",
    "_ = axs[1].hist(np.ravel(get_activations(cnn_batch, CNN_x_test_fashion[0:100])['activation_2/Sigmoid:0']), alpha=0.5, label='Sigmoid + Batch Normalization')\n",
    "axs[1].legend()\n",
    "_ = axs[1].set_title('SECOND LAYER ')\n",
    "\n",
    "_ = axs[2].hist(np.ravel(get_activations(model, CNN_x_test_fashion[0:100])['dense_6/Sigmoid:0']), alpha=0.5, label='Sigmoid')\n",
    "_ = axs[2].hist(np.ravel(get_activations(cnn_batch, CNN_x_test_fashion[0:100])['activation_3/Sigmoid:0']), alpha=0.5, label='Sigmoid + Batch Normalization')\n",
    "axs[2].legend()\n",
    "_ = axs[2].set_title('THIRD LAYER ')"
   ]
  },
  {
   "cell_type": "markdown",
   "metadata": {},
   "source": [
    "We can observe that, a part from the first layer that receive input data in both models, the second and third hidden layers are quite different: on the one hand, in the simple model (without batch normalization), we can see that many activation values are cloes to zero/one, that means many input values are very high (in absolute values), leading activation values on the saturating zone. This implies that for the first model many values of the gradient were actually very small (as expected), leading to poor performance during learning phase. On the other hand instead, the values on the activations of the model with batch normalization layers seem more uniformly distributed between 0 and 1 even in the second and third layers. "
   ]
  },
  {
   "cell_type": "code",
   "execution_count": null,
   "metadata": {},
   "outputs": [],
   "source": []
  }
 ],
 "metadata": {
  "kernelspec": {
   "display_name": "Python [conda env:cs456]",
   "language": "python",
   "name": "conda-env-cs456-py"
  },
  "language_info": {
   "codemirror_mode": {
    "name": "ipython",
    "version": 3
   },
   "file_extension": ".py",
   "mimetype": "text/x-python",
   "name": "python",
   "nbconvert_exporter": "python",
   "pygments_lexer": "ipython3",
   "version": "3.6.7"
  },
  "toc": {
   "base_numbering": 1,
   "nav_menu": {},
   "number_sections": true,
   "sideBar": true,
   "skip_h1_title": false,
   "title_cell": "Table of Contents",
   "title_sidebar": "Contents",
   "toc_cell": false,
   "toc_position": {},
   "toc_section_display": true,
   "toc_window_display": false
  },
  "varInspector": {
   "cols": {
    "lenName": 16,
    "lenType": 16,
    "lenVar": 40
   },
   "kernels_config": {
    "python": {
     "delete_cmd_postfix": "",
     "delete_cmd_prefix": "del ",
     "library": "var_list.py",
     "varRefreshCmd": "print(var_dic_list())"
    },
    "r": {
     "delete_cmd_postfix": ") ",
     "delete_cmd_prefix": "rm(",
     "library": "var_list.r",
     "varRefreshCmd": "cat(var_dic_list()) "
    }
   },
   "types_to_exclude": [
    "module",
    "function",
    "builtin_function_or_method",
    "instance",
    "_Feature"
   ],
   "window_display": false
  }
 },
 "nbformat": 4,
 "nbformat_minor": 2
}
