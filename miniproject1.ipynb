{
 "cells": [
  {
   "cell_type": "markdown",
   "metadata": {},
   "source": [
    "# Miniproject 1: Image Classification\n",
    "\n",
    "## Introduction\n",
    "\n",
    "### Important dates:\n",
    "\n",
    "- Project release: Friday, 15th March 2019\n",
    "- **Submission deadline**: Monday, 29th April 2019, 11:59 pm\n",
    "\n",
    "### Description\n",
    "\n",
    "One of the deepest traditions in learning about deep learning is to first [tackle the exciting problem of MNIST classification](http://yann.lecun.com/exdb/mnist/). [The MNIST database](https://en.wikipedia.org/wiki/MNIST_database) (Modified National Institute of Standards and Technology database) is a large database of handwritten digits that is commonly used as a first test for new classification algorithms. \n",
    "We follow this tradition to investigate the performance of artificial neural networks of different complexity on MNIST. However, since MNIST is too easy for accessing the full power of modern machine learning algorithms (see e.g. [this post](https://twitter.com/goodfellow_ian/status/852591106655043584)) we will extend our analysis to the recently introduced, harder [Fashion-MNIST dataset](https://github.com/zalandoresearch/fashion-mnist).\n",
    "\n",
    "\n",
    "### Prerequisites\n",
    "\n",
    "- You should have a running installation of [tensorflow](https://www.tensorflow.org/install/) and [keras](https://keras.io/). Feel free to gain inspiration from the [Keras example directory](https://github.com/keras-team/keras/tree/master/examples) for your implementations.\n",
    "- You should know the concepts \"multilayer perceptron\", \"stochastic gradient descent with minibatches\", \"convolutional neural network\", \"training and validation data\", \"overfitting\" and \"early stopping\".\n",
    "\n",
    "### What you will learn\n",
    "\n",
    "- You will learn how to define feedforward neural networks in keras and fit them to data.\n",
    "- You will be guided through a prototyping procedure for the application of deep learning to a specific domain.\n",
    "- You will get in contact with concepts discussed later in the lecture, like \"regularization\", \"batch normalization\" and \"convolutional networks\".\n",
    "- You will gain some experience on the influence of network architecture, optimizer and regularization choices on the goodness of fit.\n",
    "- You will learn to be more patient :) Some fits may take your computer quite a bit of time; run them over night (or on an external server).\n",
    "\n",
    "### Evaluation criteria\n",
    "\n",
    "The evaluation is (mostly) based on the figures you submit and your answer sentences. Provide clear and concise answers respecting the indicated maximum length (answers to the questions should be below the line that says \"Answer to question ...\").\n",
    "\n",
    "**The submitted notebook must be run by you!** We will only do random tests of your code and not re-run the full notebook. There will be fraud detection sessions at the end of the semester.\n",
    "\n",
    "### Your names\n",
    "\n",
    "**Before you start**: please enter your full name(s) in the field below."
   ]
  },
  {
   "cell_type": "code",
   "execution_count": null,
   "metadata": {
    "ExecuteTime": {
     "end_time": "2019-04-24T07:06:23.806038Z",
     "start_time": "2019-04-24T07:06:23.794103Z"
    }
   },
   "outputs": [],
   "source": [
    "student1 = \"Francesco Pase\"\n",
    "student2 = \"Murat  Topak\""
   ]
  },
  {
   "cell_type": "markdown",
   "metadata": {
    "ExecuteTime": {
     "end_time": "2018-02-22T21:52:59.697375Z",
     "start_time": "2018-02-22T21:52:59.689443Z"
    }
   },
   "source": [
    "## Some helper functions\n",
    "\n",
    "For your convenience we provide here some functions to preprocess the data and plot the results later. Simply run the following cells with `Shift-Enter`.\n",
    "\n",
    "### Dependencies and constants"
   ]
  },
  {
   "cell_type": "code",
   "execution_count": 1,
   "metadata": {
    "ExecuteTime": {
     "end_time": "2019-04-26T12:38:13.227097Z",
     "start_time": "2019-04-26T12:38:12.392311Z"
    }
   },
   "outputs": [
    {
     "name": "stderr",
     "output_type": "stream",
     "text": [
      "Using TensorFlow backend.\n"
     ]
    }
   ],
   "source": [
    "%matplotlib inline\n",
    "\n",
    "import numpy as np\n",
    "import time\n",
    "import matplotlib.pyplot as plt\n",
    "import scipy.io\n",
    "\n",
    "import keras\n",
    "from keras import regularizers\n",
    "from keras.models import Sequential\n",
    "from keras.layers import Dense, Conv2D, MaxPooling2D, Dropout, Flatten, BatchNormalization\n",
    "from keras.optimizers import SGD, Adam"
   ]
  },
  {
   "cell_type": "markdown",
   "metadata": {},
   "source": [
    "### Plotting"
   ]
  },
  {
   "cell_type": "code",
   "execution_count": 2,
   "metadata": {
    "ExecuteTime": {
     "end_time": "2019-04-26T14:24:19.655005Z",
     "start_time": "2019-04-26T14:24:19.627186Z"
    }
   },
   "outputs": [],
   "source": [
    "def plot_some_samples(x, y = [], yhat = [], select_from = [], \n",
    "                      ncols = 6, nrows = 4, xdim = 28, ydim = 28,\n",
    "                      label_mapping = range(10)):\n",
    "    \"\"\"plot some input vectors as grayscale images (optionally together with their assigned or predicted labels).\n",
    "    \n",
    "    x is an NxD - dimensional array, where D is the length of an input vector and N is the number of samples.\n",
    "    Out of the N samples, ncols x nrows indices are randomly selected from the list select_from (if it is empty, select_from becomes range(N)).\n",
    "    \n",
    "    Keyword arguments:\n",
    "    y             -- corresponding labels to plot in green below each image.\n",
    "    yhat          -- corresponding predicted labels to plot in red below each image.\n",
    "    select_from   -- list of indices from which to select the images.\n",
    "    ncols, nrows  -- number of columns and rows to plot.\n",
    "    xdim, ydim    -- number of pixels of the images in x- and y-direction.\n",
    "    label_mapping -- map labels to digits.\n",
    "    \n",
    "    \"\"\"\n",
    "    fig, ax = plt.subplots(nrows, ncols)\n",
    "    if len(select_from) == 0:\n",
    "        select_from = range(x.shape[0])\n",
    "    indices = np.random.choice(select_from, size = min(ncols * nrows, len(select_from)), replace = False)\n",
    "    for i, ind in enumerate(indices):\n",
    "        thisax = ax[i//ncols,i%ncols]\n",
    "        thisax.matshow(x[ind].reshape(xdim, ydim), cmap='gray')\n",
    "        thisax.set_axis_off()\n",
    "        if len(y) != 0:\n",
    "            j = y[ind] if type(y[ind]) != np.ndarray else y[ind].argmax()\n",
    "            thisax.text(0, 0, (label_mapping[j]+1)%10, color='green', \n",
    "                                                       verticalalignment='top',\n",
    "                                                       transform=thisax.transAxes)\n",
    "        if len(yhat) != 0:\n",
    "            k = yhat[ind] if type(yhat[ind]) != np.ndarray else yhat[ind].argmax()\n",
    "            thisax.text(1, 0, (label_mapping[k]+1)%10, color='red',\n",
    "                                             verticalalignment='top',\n",
    "                                             horizontalalignment='right',\n",
    "                                             transform=thisax.transAxes)\n",
    "    return fig\n",
    "\n",
    "def prepare_standardplot(title, xlabel):\n",
    "    fig, (ax1, ax2) = plt.subplots(1, 2, figsize=(12,6))\n",
    "    fig.suptitle(title)\n",
    "    ax1.set_ylabel('categorical cross entropy')\n",
    "    ax1.set_xlabel(xlabel)\n",
    "    ax1.set_yscale('log')\n",
    "    ax2.set_ylabel('accuracy [% correct]')\n",
    "    ax2.set_xlabel(xlabel)\n",
    "    return fig, ax1, ax2\n",
    "\n",
    "def finalize_standardplot(fig, ax1, ax2):\n",
    "    ax1handles, ax1labels = ax1.get_legend_handles_labels()\n",
    "    if len(ax1labels) > 0:\n",
    "        ax1.legend(ax1handles, ax1labels)\n",
    "    ax2handles, ax2labels = ax2.get_legend_handles_labels()\n",
    "    if len(ax2labels) > 0:\n",
    "        ax2.legend(ax2handles, ax2labels)\n",
    "    fig.tight_layout()\n",
    "    plt.subplots_adjust(top=0.9)\n",
    "\n",
    "def plot_history(history, title):\n",
    "    fig, ax1, ax2 = prepare_standardplot(title, 'epoch')\n",
    "    ax1.plot(history.history['loss'], label = \"training\")\n",
    "    ax1.plot(history.history['val_loss'], label = \"validation\")\n",
    "    ax2.plot(history.history['acc'], label = \"training\")\n",
    "    ax2.plot(history.history['val_acc'], label = \"validation\")\n",
    "    finalize_standardplot(fig, ax1, ax2)\n",
    "    \n",
    "    return fig\n"
   ]
  },
  {
   "cell_type": "markdown",
   "metadata": {},
   "source": [
    "## Exercise 1: Data import and visualization (4 points)\n",
    "\n",
    "### Description\n",
    "\n",
    "### Loading the data\n",
    "\n",
    "The datasets we use in this project (MNIST, Fashion-MNIST) consists of grayscale images with 28x28 pixels. Keras comes with a convenient in-built [data importer](https://keras.io/datasets/) for common datasets.\n",
    "\n",
    "1. As a warm-up exercise, use this importer to (down-)load the MNIST and Fashion-MNIST dataset. Assign useful variables to test & train images and labels for both datasets respectively. (2 pts)\n",
    "2. Use the corresponding plotting function defined above to plot some samples of the two datasets. What do the green digits at the bottom left of each image indicate? (1 sentence max.) (2 pts)\n",
    "\n",
    "The low resolution (and grayscale) of the images certainly misses some information that could be helpful for classifying the images. However, since the data has lower dimensionality due to the low resolution, the fitting procedures converge faster. This is an advantage in situations like here (or generally when prototyping), were we want to try many different things without having to wait too long for computations to finish.\n",
    "\n"
   ]
  },
  {
   "cell_type": "markdown",
   "metadata": {},
   "source": [
    "### Solution"
   ]
  },
  {
   "cell_type": "code",
   "execution_count": 3,
   "metadata": {
    "ExecuteTime": {
     "end_time": "2019-04-26T12:38:21.893271Z",
     "start_time": "2019-04-26T12:38:19.473975Z"
    }
   },
   "outputs": [
    {
     "data": {
      "image/png": "[encoded data removed]",
      "text/plain": [
       "<Figure size 432x288 with 24 Axes>"
      ]
     },
     "metadata": {
      "needs_background": "light"
     },
     "output_type": "display_data"
    },
    {
     "data": {
      "image/png": "[encoded data removed]",
      "text/plain": [
       "<Figure size 432x288 with 24 Axes>"
      ]
     },
     "metadata": {
      "needs_background": "light"
     },
     "output_type": "display_data"
    }
   ],
   "source": [
    "from keras.datasets import mnist\n",
    "from keras.datasets import fashion_mnist\n",
    "\n",
    "(x_train, y_train), (x_test, y_test) =  mnist.load_data()\n",
    "(x_fashion_train, y_fashion_train), (x_fashion_test, y_fashion_test) = fashion_mnist.load_data()\n",
    "\n",
    "plot_some_samples(x_train, y_train)\n",
    "plot_some_samples(x_fashion_train, y_fashion_train);"
   ]
  },
  {
   "cell_type": "markdown",
   "metadata": {},
   "source": [
    "Answer to question 2:"
   ]
  },
  {
   "cell_type": "markdown",
   "metadata": {},
   "source": [
    "The green digits are the labels of the plotted input vectors."
   ]
  },
  {
   "cell_type": "markdown",
   "metadata": {},
   "source": [
    "**Data pre-processing**: To prepare for fitting we transform the labels to one hot coding, i.e. for 5 classes, label 2 becomes the vector [0, 0, 1, 0, 0] (python uses 0-indexing). Furthermore we reshape (flatten) the input images to input vectors and rescale the data into the range [0,1]."
   ]
  },
  {
   "cell_type": "code",
   "execution_count": 4,
   "metadata": {
    "ExecuteTime": {
     "end_time": "2019-04-26T12:38:24.285188Z",
     "start_time": "2019-04-26T12:38:24.257564Z"
    }
   },
   "outputs": [],
   "source": [
    "y_train = keras.utils.to_categorical(y_train)\n",
    "y_test = keras.utils.to_categorical(y_test)\n",
    "\n",
    "y_fashion_train = keras.utils.to_categorical(y_fashion_train)\n",
    "y_fashion_test = keras.utils.to_categorical(y_fashion_test)"
   ]
  },
  {
   "cell_type": "code",
   "execution_count": 5,
   "metadata": {
    "ExecuteTime": {
     "end_time": "2019-04-26T12:38:24.909187Z",
     "start_time": "2019-04-26T12:38:24.435810Z"
    }
   },
   "outputs": [],
   "source": [
    "x_train = x_train.reshape(x_train.shape[0], x_train.shape[1]*x_train.shape[2])/np.max(x_train)\n",
    "x_test = x_test.reshape(x_test.shape[0], x_test.shape[1]*x_test.shape[2])/np.max(x_test)\n",
    "\n",
    "x_fashion_train = x_fashion_train.reshape(x_fashion_train.shape[0], x_fashion_train.shape[1]*x_fashion_train.shape[2])/np.max(x_fashion_train)\n",
    "x_fashion_test = x_fashion_test.reshape(x_fashion_test.shape[0], x_fashion_test.shape[1]*x_fashion_test.shape[2])/np.max(x_fashion_test)"
   ]
  },
  {
   "cell_type": "markdown",
   "metadata": {},
   "source": [
    "## Exercise 2: No hidden layer (10 points)\n",
    "\n",
    "### Description\n",
    "\n",
    "Define and fit a model without a hidden layer (since we will use multi-layer models later in this project, you can define a general constructor function for models with an arbitrary number of hidden layers already at this point). (1 pt for each step)\n",
    "\n",
    "1. Use the softmax activation for the output layer.\n",
    "2. Use the categorical_crossentropy loss.\n",
    "3. Add the accuracy metric to the metrics.\n",
    "4. Choose stochastic gradient descent for the optimizer.\n",
    "5. Choose a minibatch size of 128.\n",
    "6. Fit for as many epochs as needed to see no further decrease in the validation loss.\n",
    "7. Plot the output of the fitting procedure (a history object) using the function plot_history defined above.\n",
    "8. Determine the indices of all test images that are misclassified by the fitted model and plot some of them using the function \n",
    "   `plot_some_samples(x_test, y_test, yhat_test, error_indices)`. Explain the green and red digits at the bottom of each image.\n",
    "9. Repeat the above steps for fitting the network to the Fashion-MNIST dataset.\n",
    "\n",
    "\n",
    "Hints:\n",
    "* Read the keras docs, in particular [Getting started with the Keras Sequential model](https://keras.io/getting-started/sequential-model-guide/).\n",
    "* Have a look at the keras [examples](https://github.com/keras-team/keras/tree/master/examples), e.g. [mnist_mlp](https://github.com/keras-team/keras/blob/master/examples/mnist_mlp.py)."
   ]
  },
  {
   "cell_type": "markdown",
   "metadata": {},
   "source": [
    "### Solution"
   ]
  },
  {
   "cell_type": "code",
   "execution_count": 6,
   "metadata": {
    "ExecuteTime": {
     "end_time": "2019-04-26T12:39:41.677739Z",
     "start_time": "2019-04-26T12:39:00.626764Z"
    }
   },
   "outputs": [
    {
     "name": "stdout",
     "output_type": "stream",
     "text": [
      "Train on 48000 samples, validate on 12000 samples\n",
      "Epoch 1/50\n",
      "48000/48000 [==============================] - 1s 27us/step - loss: 1.4105 - acc: 0.6609 - val_loss: 0.9003 - val_acc: 0.8261\n",
      "Epoch 2/50\n",
      "48000/48000 [==============================] - 1s 11us/step - loss: 0.7945 - acc: 0.8287 - val_loss: 0.6576 - val_acc: 0.8587\n",
      "Epoch 3/50\n",
      "48000/48000 [==============================] - 0s 10us/step - loss: 0.6428 - acc: 0.8504 - val_loss: 0.5613 - val_acc: 0.8703\n",
      "Epoch 4/50\n",
      "48000/48000 [==============================] - 0s 10us/step - loss: 0.5699 - acc: 0.8611 - val_loss: 0.5083 - val_acc: 0.8777\n",
      "Epoch 5/50\n",
      "48000/48000 [==============================] - 1s 11us/step - loss: 0.5256 - acc: 0.8688 - val_loss: 0.4742 - val_acc: 0.8834\n",
      "Epoch 6/50\n",
      "48000/48000 [==============================] - 0s 9us/step - loss: 0.4953 - acc: 0.8735 - val_loss: 0.4498 - val_acc: 0.8873\n",
      "Epoch 7/50\n",
      "48000/48000 [==============================] - 0s 9us/step - loss: 0.4730 - acc: 0.8775 - val_loss: 0.4315 - val_acc: 0.8905\n",
      "Epoch 8/50\n",
      "48000/48000 [==============================] - 0s 10us/step - loss: 0.4557 - acc: 0.8815 - val_loss: 0.4174 - val_acc: 0.8925\n",
      "Epoch 9/50\n",
      "48000/48000 [==============================] - 0s 10us/step - loss: 0.4418 - acc: 0.8844 - val_loss: 0.4059 - val_acc: 0.8943\n",
      "Epoch 10/50\n",
      "48000/48000 [==============================] - 0s 9us/step - loss: 0.4302 - acc: 0.8865 - val_loss: 0.3962 - val_acc: 0.8968\n",
      "Epoch 11/50\n",
      "48000/48000 [==============================] - 0s 10us/step - loss: 0.4205 - acc: 0.8881 - val_loss: 0.3884 - val_acc: 0.8978\n",
      "Epoch 12/50\n",
      "48000/48000 [==============================] - 1s 11us/step - loss: 0.4122 - acc: 0.8894 - val_loss: 0.3812 - val_acc: 0.8995\n",
      "Epoch 13/50\n",
      "48000/48000 [==============================] - 1s 11us/step - loss: 0.4048 - acc: 0.8911 - val_loss: 0.3752 - val_acc: 0.9010\n",
      "Epoch 14/50\n",
      "48000/48000 [==============================] - 1s 12us/step - loss: 0.3985 - acc: 0.8921 - val_loss: 0.3698 - val_acc: 0.9015\n",
      "Epoch 15/50\n",
      "48000/48000 [==============================] - 1s 12us/step - loss: 0.3927 - acc: 0.8931 - val_loss: 0.3650 - val_acc: 0.9025\n",
      "Epoch 16/50\n",
      "48000/48000 [==============================] - 1s 11us/step - loss: 0.3876 - acc: 0.8946 - val_loss: 0.3608 - val_acc: 0.9029\n",
      "Epoch 17/50\n",
      "48000/48000 [==============================] - 0s 10us/step - loss: 0.3829 - acc: 0.8952 - val_loss: 0.3568 - val_acc: 0.9050\n",
      "Epoch 18/50\n",
      "48000/48000 [==============================] - 0s 10us/step - loss: 0.3787 - acc: 0.8963 - val_loss: 0.3535 - val_acc: 0.9054\n",
      "Epoch 19/50\n",
      "48000/48000 [==============================] - 0s 10us/step - loss: 0.3749 - acc: 0.8972 - val_loss: 0.3502 - val_acc: 0.9053\n",
      "Epoch 20/50\n",
      "48000/48000 [==============================] - 0s 10us/step - loss: 0.3712 - acc: 0.8978 - val_loss: 0.3473 - val_acc: 0.9061\n",
      "Epoch 21/50\n",
      "48000/48000 [==============================] - 0s 10us/step - loss: 0.3680 - acc: 0.8985 - val_loss: 0.3445 - val_acc: 0.9068\n",
      "Epoch 22/50\n",
      "48000/48000 [==============================] - 0s 10us/step - loss: 0.3649 - acc: 0.8989 - val_loss: 0.3420 - val_acc: 0.9077\n",
      "Epoch 23/50\n",
      "48000/48000 [==============================] - 0s 10us/step - loss: 0.3620 - acc: 0.9002 - val_loss: 0.3397 - val_acc: 0.9083\n",
      "Epoch 24/50\n",
      "48000/48000 [==============================] - 0s 10us/step - loss: 0.3593 - acc: 0.9001 - val_loss: 0.3374 - val_acc: 0.9087\n",
      "Epoch 25/50\n",
      "48000/48000 [==============================] - 0s 10us/step - loss: 0.3568 - acc: 0.9008 - val_loss: 0.3353 - val_acc: 0.9090\n",
      "Epoch 26/50\n",
      "48000/48000 [==============================] - 1s 11us/step - loss: 0.3545 - acc: 0.9016 - val_loss: 0.3335 - val_acc: 0.9096\n",
      "Epoch 27/50\n",
      "48000/48000 [==============================] - 1s 11us/step - loss: 0.3523 - acc: 0.9018 - val_loss: 0.3317 - val_acc: 0.9102\n",
      "Epoch 28/50\n",
      "48000/48000 [==============================] - 1s 12us/step - loss: 0.3501 - acc: 0.9024 - val_loss: 0.3300 - val_acc: 0.9107\n",
      "Epoch 29/50\n",
      "48000/48000 [==============================] - 1s 11us/step - loss: 0.3481 - acc: 0.9031 - val_loss: 0.3283 - val_acc: 0.9110\n",
      "Epoch 30/50\n",
      "48000/48000 [==============================] - 1s 14us/step - loss: 0.3463 - acc: 0.9035 - val_loss: 0.3268 - val_acc: 0.9112\n",
      "Epoch 31/50\n",
      "48000/48000 [==============================] - 0s 10us/step - loss: 0.3444 - acc: 0.9042 - val_loss: 0.3254 - val_acc: 0.9117\n",
      "Epoch 32/50\n",
      "48000/48000 [==============================] - 0s 10us/step - loss: 0.3428 - acc: 0.9046 - val_loss: 0.3239 - val_acc: 0.9120\n",
      "Epoch 33/50\n",
      "48000/48000 [==============================] - 0s 10us/step - loss: 0.3411 - acc: 0.9052 - val_loss: 0.3226 - val_acc: 0.9114\n",
      "Epoch 34/50\n",
      "48000/48000 [==============================] - 0s 10us/step - loss: 0.3395 - acc: 0.9056 - val_loss: 0.3214 - val_acc: 0.9120\n",
      "Epoch 35/50\n",
      "48000/48000 [==============================] - 0s 10us/step - loss: 0.3381 - acc: 0.9059 - val_loss: 0.3202 - val_acc: 0.9125\n",
      "Epoch 36/50\n",
      "48000/48000 [==============================] - 0s 10us/step - loss: 0.3366 - acc: 0.9064 - val_loss: 0.3190 - val_acc: 0.9123\n",
      "Epoch 37/50\n",
      "48000/48000 [==============================] - 0s 10us/step - loss: 0.3352 - acc: 0.9066 - val_loss: 0.3179 - val_acc: 0.9132\n",
      "Epoch 38/50\n",
      "48000/48000 [==============================] - 0s 10us/step - loss: 0.3339 - acc: 0.9071 - val_loss: 0.3169 - val_acc: 0.9134\n",
      "Epoch 39/50\n",
      "48000/48000 [==============================] - 0s 9us/step - loss: 0.3326 - acc: 0.9075 - val_loss: 0.3159 - val_acc: 0.9137\n",
      "Epoch 40/50\n",
      "48000/48000 [==============================] - 0s 10us/step - loss: 0.3314 - acc: 0.9080 - val_loss: 0.3148 - val_acc: 0.9137\n",
      "Epoch 41/50\n",
      "48000/48000 [==============================] - 0s 10us/step - loss: 0.3302 - acc: 0.9082 - val_loss: 0.3138 - val_acc: 0.9146\n",
      "Epoch 42/50\n",
      "48000/48000 [==============================] - 0s 10us/step - loss: 0.3291 - acc: 0.9083 - val_loss: 0.3130 - val_acc: 0.9143\n",
      "Epoch 43/50\n",
      "48000/48000 [==============================] - 0s 10us/step - loss: 0.3280 - acc: 0.9089 - val_loss: 0.3121 - val_acc: 0.9146\n",
      "Epoch 44/50\n",
      "48000/48000 [==============================] - 0s 10us/step - loss: 0.3269 - acc: 0.9090 - val_loss: 0.3113 - val_acc: 0.9147\n",
      "Epoch 45/50\n",
      "48000/48000 [==============================] - 0s 10us/step - loss: 0.3259 - acc: 0.9094 - val_loss: 0.3107 - val_acc: 0.9149\n",
      "Epoch 46/50\n",
      "48000/48000 [==============================] - 0s 10us/step - loss: 0.3249 - acc: 0.9097 - val_loss: 0.3097 - val_acc: 0.9147\n",
      "Epoch 47/50\n",
      "48000/48000 [==============================] - 1s 11us/step - loss: 0.3240 - acc: 0.9101 - val_loss: 0.3089 - val_acc: 0.9151\n",
      "Epoch 48/50\n",
      "48000/48000 [==============================] - 0s 10us/step - loss: 0.3230 - acc: 0.9103 - val_loss: 0.3082 - val_acc: 0.9154\n",
      "Epoch 49/50\n",
      "48000/48000 [==============================] - 0s 10us/step - loss: 0.3220 - acc: 0.9103 - val_loss: 0.3076 - val_acc: 0.9149\n",
      "Epoch 50/50\n",
      "48000/48000 [==============================] - 0s 10us/step - loss: 0.3212 - acc: 0.9106 - val_loss: 0.3068 - val_acc: 0.9152\n"
     ]
    },
    {
     "data": {
      "image/png": "[encoded data removed]",
      "text/plain": [
       "<Figure size 864x432 with 2 Axes>"
      ]
     },
     "metadata": {
      "needs_background": "light"
     },
     "output_type": "display_data"
    },
    {
     "data": {
      "image/png": "[encoded data removed]",
      "text/plain": [
       "<Figure size 432x288 with 24 Axes>"
      ]
     },
     "metadata": {
      "needs_background": "light"
     },
     "output_type": "display_data"
    }
   ],
   "source": [
    "#MNIST\n",
    "\n",
    "from keras.models import Sequential\n",
    "from keras.layers import Dense, Activation\n",
    "\n",
    "model = Sequential()\n",
    "model.add(Dense(10, input_dim = 784, activation='softmax'))\n",
    "\n",
    "\n",
    "model.compile(optimizer='sgd', loss='categorical_crossentropy', metrics=['accuracy'])\n",
    "history = model.fit(x_train, y_train, batch_size=128, epochs=50, validation_split=0.2, verbose=1)\n",
    "\n",
    "\n",
    "pred = model.predict(x_test)\n",
    "y_hat_test = np.argmax(pred, axis=1)\n",
    "y_truth = np.argmax(y_test, axis=1)\n",
    "err_indices = (y_hat_test != y_truth).nonzero()\n",
    "\n",
    "plot_history(history, 'MNIST');\n",
    "plot_some_samples(x_test, y_test, y_hat_test, err_indices[0]);\n",
    "\n"
   ]
  },
  {
   "cell_type": "code",
   "execution_count": null,
   "metadata": {
    "ExecuteTime": {
     "end_time": "2019-04-26T12:40:38.828757Z",
     "start_time": "2019-04-26T12:40:01.246233Z"
    }
   },
   "outputs": [],
   "source": [
    "#MNIST FASHION\n",
    "model = Sequential()\n",
    "model.add(Dense(10, input_dim = 784, activation='softmax'))\n",
    "\n",
    "\n",
    "model.compile(optimizer='sgd', loss='categorical_crossentropy', metrics=['accuracy'])\n",
    "history = model.fit(x_fashion_train, y_fashion_train, batch_size=128, epochs=50, validation_split=0.2, verbose=1)\n",
    "\n",
    "\n",
    "pred = model.predict(x_fashion_test)\n",
    "y_hat_fashion_test = np.argmax(pred, axis=1)\n",
    "y_fashion_truth = np.argmax(y_fashion_test, axis=1)\n",
    "err_indices = (y_hat_fashion_test != y_fashion_truth).nonzero()\n",
    "\n",
    "plot_history(history, 'Fashion-MNIST');\n",
    "plot_some_samples(x_fashion_test, y_fashion_test, y_hat_fashion_test, err_indices[0]);"
   ]
  },
  {
   "cell_type": "markdown",
   "metadata": {},
   "source": [
    "Answer to question 8:"
   ]
  },
  {
   "cell_type": "markdown",
   "metadata": {},
   "source": [
    "They are both labels, the green being the true label, and the red being the predicted label. For example, in the MNIST dataset, we see a lot of 8,9,0 are misclassified. This makes sense since those 3 numbers highly resemble each other in terms of their shape and drawing. Of course, we can try to fine-tune the model or simply retrieve more data to reduce these mispredictions."
   ]
  },
  {
   "cell_type": "markdown",
   "metadata": {},
   "source": [
    "## Exercise 3: One hidden layer, different optizimizers & overfitting (10 points)\n",
    "\n",
    "### Description\n",
    "\n",
    "Train a network with one hidden layer and compare different optimizers.\n",
    "\n",
    "1. Use one hidden layer with 128 units and the 'relu' activation. Use the [summary method](https://keras.io/models/about-keras-models/) to display your model in a compact way. (1 pt)\n",
    "2. Fit the model for 50 epochs with different learning rates of stochastic gradient descent (SGD). (1pt)\n",
    "3. Replace the stochastic gradient descent optimizer with the [Adam optimizer](https://keras.io/optimizers/#adam). (1pt)\n",
    "4. Plot the learning curves of SGD with a reasonable learning rate (i.e. in the range [0.01,0.1]) together with the learning curves of Adam in the same figure. Take care of a reasonable labeling of the curves in the plot. (2pts)\n",
    "5. Answer the questions below. (4pts)\n",
    "6. Run the network (using the Adam optimizer) on the Fashion-MNIST dataset and plot the learning curves using the plot_history function defined above. (1pt)"
   ]
  },
  {
   "cell_type": "markdown",
   "metadata": {},
   "source": [
    "### Solution"
   ]
  },
  {
   "cell_type": "code",
   "execution_count": null,
   "metadata": {
    "ExecuteTime": {
     "end_time": "2019-04-26T12:41:03.796592Z",
     "start_time": "2019-04-26T12:41:03.783454Z"
    }
   },
   "outputs": [],
   "source": [
    "from keras import optimizers\n"
   ]
  },
  {
   "cell_type": "code",
   "execution_count": null,
   "metadata": {
    "ExecuteTime": {
     "end_time": "2019-04-24T07:23:58.007357Z",
     "start_time": "2019-04-24T07:20:24.100240Z"
    }
   },
   "outputs": [],
   "source": [
    "from keras import optimizers\n",
    "\n",
    "model = Sequential()\n",
    "model.add(Dense(128, input_dim = 784, activation='relu'))\n",
    "model.add(Dense(10, activation='softmax'))\n",
    "\n",
    "model.summary()\n",
    "\n",
    "\n",
    "available_lr = [0.05, 0.9,  0.0001]\n",
    "histories = []\n",
    "for alr in available_lr:\n",
    "    sgd = optimizers.SGD(lr = alr)\n",
    "    model.compile(optimizer = sgd, loss = 'categorical_crossentropy', metrics = ['accuracy'])\n",
    "    history = model.fit(x_fashion_train, y_fashion_train, batch_size = 128, epochs = 50, validation_split = 0.2, verbose=1)\n",
    "    histories.append(history)\n"
   ]
  },
  {
   "cell_type": "code",
   "execution_count": null,
   "metadata": {
    "ExecuteTime": {
     "end_time": "2019-04-26T14:11:48.172299Z",
     "start_time": "2019-04-26T14:11:48.140985Z"
    },
    "scrolled": true
   },
   "outputs": [],
   "source": [
    "def comparisonSGD_plot(histories, labels, title):\n",
    "    fig, ax1, ax2 = prepare_standardplot(title, \"epochs\")\n",
    "    linestyles = [':', '--', '-', ':']\n",
    "    for (history,lbl, lstyle) in zip(histories, labels, linestyles):\n",
    "        ax1.plot(history.history['loss'], label= str(lbl) + ' training', linestyle=lstyle)\n",
    "        ax1.plot(history.history['val_loss'], label= str(lbl) + ' validation', linestyle=lstyle)\n",
    "        ax2.plot(history.history['acc'], label= str(lbl) + ' training', linestyle=lstyle)\n",
    "        ax2.plot(history.history['val_acc'], label= str(lbl) + ' validation', linestyle=lstyle)\n",
    "\n",
    "    fig.suptitle(title, x=0.8)\n",
    "    ax2handles, ax2labels = ax2.get_legend_handles_labels()\n",
    "    if len(ax2labels) > 0:\n",
    "        ax2.legend(ax2handles, ax2labels, loc='upper right', bbox_to_anchor=(0.5, -0.2), ncol=3)\n",
    "    plt.subplots_adjust(right=1.5)\n",
    "    #fig.tight_layout()\n",
    "    return fig\n",
    "comparisonSGD_plot(histories, available_lr, 'VARIOUS LRs');"
   ]
  },
  {
   "cell_type": "code",
   "execution_count": null,
   "metadata": {
    "ExecuteTime": {
     "end_time": "2019-04-26T14:23:37.872562Z",
     "start_time": "2019-04-26T14:23:37.851784Z"
    }
   },
   "outputs": [],
   "source": [
    "# This plotting routine might help you ...\n",
    "from keras import optimizers\n",
    "def comparison_plot(history_sgd, history_adam, label1, label2, title):\n",
    "    fig, ax1, ax2 = prepare_standardplot(title, \"epochs\")\n",
    "    ax1.plot(history_sgd.history['loss'], label=label1 + ' training')\n",
    "    ax1.plot(history_sgd.history['val_loss'], label=label1 + ' validation')\n",
    "    ax1.plot(history_adam.history['loss'], label=label2 + ' training')\n",
    "    ax1.plot(history_adam.history['val_loss'], label=label2 + ' validation')\n",
    "    ax2.plot(history_sgd.history['acc'], label=label1 + ' training')\n",
    "    ax2.plot(history_sgd.history['val_acc'], label=label1 + ' validation')\n",
    "    ax2.plot(history_adam.history['acc'], label=label2 + ' training')\n",
    "    ax2.plot(history_adam.history['val_acc'], label=label2 + ' validation')\n",
    "    finalize_standardplot(fig, ax1, ax2)\n",
    "    return fig\n",
    "\n",
    "\n"
   ]
  },
  {
   "cell_type": "code",
   "execution_count": null,
   "metadata": {},
   "outputs": [],
   "source": [
    "model = Sequential()\n",
    "model.add(Dense(128, input_dim = 784, activation='relu'))\n",
    "model.add(Dense(10, activation='softmax'))\n",
    "\n",
    "#model.summary()\n",
    "\n",
    "sgd = optimizers.SGD(lr = 0.01)\n",
    "model.compile(optimizer = sgd, loss = 'categorical_crossentropy', metrics = ['accuracy'])\n",
    "historySGD = model.fit(x_train, y_train, batch_size = 128, epochs = 50, validation_split = 0.2, verbose=1)\n",
    "\n",
    "adam = optimizers.Adam(lr = 0.01)\n",
    "model.compile(optimizer=adam, loss = 'categorical_crossentropy', metrics = ['accuracy'])\n",
    "historyAdam = model.fit(x_train, y_train, batch_size = 128, epochs = 50, validation_split = 0.2, verbose=1)\n",
    "\n",
    "\n",
    "_ = comparison_plot(historySGD, historyAdam, 'SGD', 'Adam', 'SGD vs Adam with lr=0.01');"
   ]
  },
  {
   "cell_type": "code",
   "execution_count": null,
   "metadata": {
    "ExecuteTime": {
     "end_time": "2019-04-24T07:28:58.951423Z",
     "start_time": "2019-04-24T07:27:34.912705Z"
    }
   },
   "outputs": [],
   "source": [
    "model = Sequential()\n",
    "model.add(Dense(128, input_dim = 784, activation='relu'))\n",
    "model.add(Dense(10, activation='softmax'))\n",
    "\n",
    "\n",
    "adam = optimizers.Adam(lr = 0.01)\n",
    "model.compile(optimizer=adam, loss = 'categorical_crossentropy', metrics = ['accuracy'])\n",
    "historyAdam = model.fit(x_fashion_train, y_fashion_train, batch_size = 128, epochs = 50, validation_split = 0.2, verbose=1)\n",
    "plot_history(historyAdam, 'Adam on Fashion-MNIST');"
   ]
  },
  {
   "cell_type": "markdown",
   "metadata": {},
   "source": [
    "**Question**: What happens if the learning rate of SGD is A) very large B) very small? Please answer A) and B) with one full sentence each (double click this markdown cell to edit).\n",
    "\n",
    "**Answer**:\n",
    "\n",
    "A) In the first figure, we see that the model follows a fluctuated learning curve as opposed to the optimal learning rate as at each step it is likely to end up missing the local optimum due to high learning rate.\n",
    "\n",
    "B) Again from the first figure we conclude that the model tends to underperform, meaning that it does not achieve the best it can due to low learning rate as at each step the weights tend to stay the same because of the low learning rate\n",
    "\n",
    "**Question**: At which epoch (approximately) does the Adam optimizer start to overfit (on MNIST)? Please answer with one full sentence.\n",
    "\n",
    "**Answer**: From the red curve in the last figure, we see the loss on validation set starts to increase at around epoch 5-10, indicating a possible overfit.\n",
    "\n",
    "**Question**: Explain the qualitative difference between the loss curves and the accuracy curves with respect to signs of overfitting. Please answer with at most 3 full sentences.\n",
    "\n",
    "TOOOOOOOOOOOOOOOOOOOOOOOOOOOO DOOOOOOOOOOOOOOOOOOO\n",
    "\n",
    "**Answer**: We decided to analyze Adam experiment. The first difference is that validation Loss and Accuracy curves present different behaviours , so while the Loss one goes up above the training Loss, the Accuracy curve doesn't change much over time. This is most likely the case because while overfitting, the errors in the misclassified validation samples icrease but the prectentage of right and wrong predictions remained the same."
   ]
  },
  {
   "cell_type": "code",
   "execution_count": null,
   "metadata": {},
   "outputs": [],
   "source": []
  },
  {
   "cell_type": "markdown",
   "metadata": {},
   "source": [
    "## Exercise 4: Model performance as a function of number of hidden neurons (8 points)\n",
    "\n",
    "### Description\n",
    "\n",
    "Investigate how the best validation loss and accuracy depends on the number of hidden neurons in a single layer.\n",
    "\n",
    "1. Fit a reasonable number of models (e.g. 5) with different hidden layer sizes (between 10 and 1000 hidden neurons) to the MNIST dataset. You may use the Adam optimizer and a meaningful number of epochs (overfitting!). (3 pts)\n",
    "2. Plot the best validation loss and accuracy versus the number of hidden neurons. Is the observed trend in accordance with the [general approximation theorem](https://en.wikipedia.org/wiki/Universal_approximation_theorem)? If not, what might be practical reasons for the deviation? (2 sentences max.) (3 pts)\n",
    "3. Repeat steps 1. & 2. for the Fashion-MNIST dataset. (2 pts)\n",
    "\n",
    "In this exercise we fit each model only for one initialization and random seed. In practice one would collect some statistics (e.g. 25-, 50-, 75-percentiles) for each layer size by fitting each model several times with different initializations and the random seeds. You may also want to do this here. It is a good exercise, but not mandatory as it takes quite a bit of computation time.\n",
    "\n",
    "### Solution"
   ]
  },
  {
   "cell_type": "code",
   "execution_count": null,
   "metadata": {
    "ExecuteTime": {
     "end_time": "2019-04-26T14:12:10.798366Z",
     "start_time": "2019-04-26T14:12:10.763094Z"
    }
   },
   "outputs": [],
   "source": [
    "from keras import optimizers\n",
    "def comparison_layer(histories,num_units, title):\n",
    "    fig, ax1, ax2 = prepare_standardplot(title, \"# of units\")\n",
    "    best_val_losses = [min(history.history['val_loss']) for history in histories]\n",
    "    best_val_accs = [max(history.history['val_acc']) for history in histories]\n",
    "\n",
    "    ax1.plot(num_units, best_val_losses, marker='o', linestyle='--')\n",
    "\n",
    "    ax2.plot(num_units, best_val_accs, marker='o', linestyle='--')\n",
    "\n",
    "    finalize_standardplot(fig, ax1, ax2)\n",
    "    ax2.set_ylim([0.9,1])\n",
    "    ax1.set_ylim([0.1,0.3])\n",
    "    return fig\n"
   ]
  },
  {
   "cell_type": "code",
   "execution_count": null,
   "metadata": {
    "ExecuteTime": {
     "end_time": "2019-04-24T07:33:41.835242Z",
     "start_time": "2019-04-24T07:30:11.552857Z"
    }
   },
   "outputs": [],
   "source": [
    "\n",
    "\n",
    "\n",
    "\n",
    "num_units = [10, 20, 40, 80, 160, 320, 640, 1000]\n",
    "histories = []\n",
    "for u in num_units:\n",
    "    model = Sequential()\n",
    "    model.add(Dense(u, input_dim = 784, activation='relu'))\n",
    "    model.add(Dense(10, activation='softmax'))\n",
    "    adam = optimizers.Adam(lr = 0.01)\n",
    "    model.compile(optimizer = adam, loss = 'categorical_crossentropy', metrics = ['accuracy'])\n",
    "    history = model.fit(x_train, y_train, batch_size = 128, epochs = 10, validation_split = 0.2, verbose=1)\n",
    "    histories.append(history)\n",
    "\n",
    "\n"
   ]
  },
  {
   "cell_type": "code",
   "execution_count": null,
   "metadata": {
    "ExecuteTime": {
     "end_time": "2019-04-24T07:33:42.280177Z",
     "start_time": "2019-04-24T07:33:41.850938Z"
    }
   },
   "outputs": [],
   "source": [
    "comparison_layer(histories, num_units, 'Loss and Accuracy vs. # of Units');\n"
   ]
  },
  {
   "cell_type": "markdown",
   "metadata": {},
   "source": [
    "Answer to question 2:"
   ]
  },
  {
   "cell_type": "markdown",
   "metadata": {},
   "source": [
    "Indeed, the figures are in accordance with the general approximation theorem although through the end we see an upward trend in the loss plot. This is also expected since the data is 784-d but we even tried 1000 units, so it is most likely we overfitted in that area."
   ]
  },
  {
   "cell_type": "markdown",
   "metadata": {},
   "source": [
    "## Exercise 5: Going deeper: tricks and regularization (8 points)\n",
    "\n",
    "### Description\n",
    "\n",
    "Adding hidden layers to a deep network does not necessarily lead to a straight-forward improvement of performance. Overfitting can be counteracted with regularization and dropout. Batch normalization is supposed to mainly speed up convergence. Since the MNIST dataset is almost perfectly solved already by a one-hidden-layer network we use the Fashion-MNIST dataset in this exercise.\n",
    "\n",
    "1. Add one or two hidden layers with 50 hidden neurons (each) and train the network for a sufficiently long time (at least 100 epochs). Since deep models are very expressive you will most probably encounter overfitting. Try to improve the best validation scores of the model (even if it is only a minor improvement) by experimenting with batch_normalization layers, dropout layers and l1- and l2-regularization on weights (kernels) and biases. (4 pts)\n",
    "2. After you have found good settings, plot the learning curves for both models, naive (=no tricks/regularization) and tuned (=tricks + regularized), preferably together in a comparison plot. Discuss your results; refer to the model performance with only 1 hidden layer. (2 sentences max.) (2pts)\n",
    "3. Fit your best performing (probably regularized deep) model also to MNIST for having a reference for the next exercise. Plot the resulting learning curves. (2 pts)\n",
    "\n",
    "### Solution"
   ]
  },
  {
   "cell_type": "code",
   "execution_count": null,
   "metadata": {
    "ExecuteTime": {
     "end_time": "2019-04-26T12:44:29.441069Z",
     "start_time": "2019-04-26T12:42:34.689766Z"
    }
   },
   "outputs": [],
   "source": [
    "#Standard Model - No Tricks\n",
    "histories = dict()\n",
    "model = Sequential()\n",
    "model.add(Dense(50, input_dim = 784, activation='relu'))\n",
    "\n",
    "#model.add(Dense(50, input_dim = 50, activation='relu'))\n",
    "\n",
    "model.add(Dense(10, activation='softmax'))\n",
    "adam = optimizers.Adam(lr = 0.001)\n",
    "model.compile(optimizer = adam, loss = 'categorical_crossentropy', metrics = ['accuracy'])\n",
    "history = model.fit(x_fashion_train, y_fashion_train, batch_size = 128, epochs = 100, validation_split = 0.2, verbose=1)\n",
    "histories[\"NoTrick\"] = history\n"
   ]
  },
  {
   "cell_type": "code",
   "execution_count": null,
   "metadata": {
    "ExecuteTime": {
     "end_time": "2019-04-26T14:24:24.626522Z",
     "start_time": "2019-04-26T14:24:24.109830Z"
    }
   },
   "outputs": [],
   "source": [
    "plot_history(histories[\"NoTrick\"], \"Simple Deep Model\");"
   ]
  },
  {
   "cell_type": "code",
   "execution_count": null,
   "metadata": {
    "ExecuteTime": {
     "end_time": "2019-04-26T12:46:59.009614Z",
     "start_time": "2019-04-26T12:44:44.531471Z"
    }
   },
   "outputs": [],
   "source": [
    "#Batch Normalization\n",
    "\n",
    "model = Sequential()\n",
    "model.add(Dense(50, input_dim = 784, activation='linear'))\n",
    "model.add(BatchNormalization(axis=-1, momentum=0.99, epsilon=0.00001))\n",
    "model.add(Activation('relu'))\n",
    "\n",
    "model.add(Dense(10, activation='linear'))\n",
    "model.add(BatchNormalization(axis=-1, momentum=0.99, epsilon=0.00001))\n",
    "model.add(Activation('softmax'))\n",
    "adam = optimizers.Adam(lr = 0.001)\n",
    "model.compile(optimizer = adam, loss = 'categorical_crossentropy', metrics = ['accuracy'])\n",
    "history = model.fit(x_fashion_train, y_fashion_train, batch_size = 128, epochs = 100, validation_split = 0.2, verbose=1)\n",
    "histories[\"BatchNorm\"] = history\n",
    "\n",
    "\n"
   ]
  },
  {
   "cell_type": "code",
   "execution_count": null,
   "metadata": {
    "ExecuteTime": {
     "end_time": "2019-04-26T14:24:36.745933Z",
     "start_time": "2019-04-26T14:24:36.258706Z"
    }
   },
   "outputs": [],
   "source": [
    "plot_history(histories[\"BatchNorm\"], \"Batch Normalization\");"
   ]
  },
  {
   "cell_type": "code",
   "execution_count": null,
   "metadata": {
    "ExecuteTime": {
     "end_time": "2019-04-26T13:36:35.589274Z",
     "start_time": "2019-04-26T13:34:25.577329Z"
    }
   },
   "outputs": [],
   "source": [
    "#Dropout\n",
    "\n",
    "model = Sequential()\n",
    "model.add(Dense(50, input_dim = 784, activation='relu'))\n",
    "#model.add(BatchNormalization())\n",
    "#model.add(Activation('relu'))\n",
    "model.add(Dropout(rate=0.45))\n",
    "\n",
    "\n",
    "\n",
    "model.add(Dense(10, activation='softmax'))\n",
    "adam = optimizers.Adam(lr = 0.001)\n",
    "model.compile(optimizer = adam, loss = 'categorical_crossentropy', metrics = ['accuracy'])\n",
    "history = model.fit(x_fashion_train, y_fashion_train, batch_size = 128, epochs = 100, validation_split = 0.2, verbose=1)\n",
    "\n",
    "\n",
    "\n",
    "histories[\"Dropout\"] = history\n",
    "\n",
    "\n"
   ]
  },
  {
   "cell_type": "code",
   "execution_count": null,
   "metadata": {
    "ExecuteTime": {
     "end_time": "2019-04-26T14:25:08.658604Z",
     "start_time": "2019-04-26T14:25:08.143649Z"
    }
   },
   "outputs": [],
   "source": [
    "plot_history(histories[\"Dropout\"], \"Dropout\");"
   ]
  },
  {
   "cell_type": "code",
   "execution_count": null,
   "metadata": {
    "ExecuteTime": {
     "end_time": "2019-04-26T14:03:23.249360Z",
     "start_time": "2019-04-26T14:00:48.883754Z"
    }
   },
   "outputs": [],
   "source": [
    "#L1 Normalization\n",
    "model = Sequential()\n",
    "\n",
    "model.add(Dense(50, input_dim = 784, activation='relu', kernel_regularizer= regularizers.l1(0.0002), bias_regularizer = regularizers.l1(0.0002)))\n",
    "\n",
    "model.add(Dense(10, activation='softmax'))\n",
    "adam = optimizers.Adam(lr = 0.001)\n",
    "model.compile(optimizer = adam, loss = 'categorical_crossentropy', metrics = ['accuracy'])\n",
    "history = model.fit(x_fashion_train, y_fashion_train, batch_size = 128, epochs = 100, validation_split = 0.2, verbose=1)\n",
    "histories[\"L1-Norm\"] = history\n",
    "\n",
    "\n"
   ]
  },
  {
   "cell_type": "code",
   "execution_count": null,
   "metadata": {
    "ExecuteTime": {
     "end_time": "2019-04-26T14:25:34.809240Z",
     "start_time": "2019-04-26T14:25:34.399017Z"
    }
   },
   "outputs": [],
   "source": [
    "plot_history(histories[\"L1-Norm\"], \"L1 Normalization lambda = 0.0002\");"
   ]
  },
  {
   "cell_type": "markdown",
   "metadata": {},
   "source": [
    "Answer to question 2 (comments):"
   ]
  },
  {
   "cell_type": "markdown",
   "metadata": {},
   "source": []
  },
  {
   "cell_type": "code",
   "execution_count": null,
   "metadata": {
    "ExecuteTime": {
     "end_time": "2019-04-26T14:09:46.736006Z",
     "start_time": "2019-04-26T14:07:15.579742Z"
    }
   },
   "outputs": [],
   "source": [
    "#L2 Normalization\n",
    "\n",
    "model = Sequential()\n",
    "\n",
    "model.add(Dense(50, input_dim = 784, activation='relu', kernel_regularizer= regularizers.l2(0.0008), bias_regularizer = regularizers.l2(0.0008)))\n",
    "\n",
    "#model.add(Dense(50, input_dim = 50, activation='relu',  kernel_regularizer= regularizers.l2(0.001), bias_regularizer = regularizers.l2(0.001)))\n",
    "\n",
    "model.add(Dense(10, activation='softmax'))\n",
    "adam = optimizers.Adam(lr = 0.001)\n",
    "model.compile(optimizer = adam, loss = 'categorical_crossentropy', metrics = ['accuracy'])\n",
    "history = model.fit(x_fashion_train, y_fashion_train, batch_size = 128, epochs = 100, validation_split = 0.2, verbose=1)\n",
    "histories[\"L2-Norm\"] = history\n",
    "\n",
    "\n"
   ]
  },
  {
   "cell_type": "code",
   "execution_count": null,
   "metadata": {
    "ExecuteTime": {
     "end_time": "2019-04-26T14:25:45.414282Z",
     "start_time": "2019-04-26T14:25:44.900730Z"
    }
   },
   "outputs": [],
   "source": [
    "plot_history(histories[\"L2-Norm\"], \"L2 Normalization lambda = 0.0008\");"
   ]
  },
  {
   "cell_type": "code",
   "execution_count": null,
   "metadata": {
    "ExecuteTime": {
     "end_time": "2019-04-26T14:26:30.173201Z",
     "start_time": "2019-04-26T14:26:29.650001Z"
    }
   },
   "outputs": [],
   "source": [
    "#Comparison\n",
    "\n",
    "comparison_plot(histories[\"Dropout\"], histories[\"NoTrick\"], 'Dropout', 'No Tricks', 'Comparison between simple and dropout models');"
   ]
  },
  {
   "cell_type": "markdown",
   "metadata": {},
   "source": [
    "## Exercise 6: Convolutional neural networks (CNNs) (10 points)\n",
    "\n",
    "### Description\n",
    "\n",
    "Convolutional neural networks have an inductive bias that is well adapted to image classification.\n",
    "\n",
    "1. Design a convolutional neural network, play with different architectures and parameters. Hint: You may get valuable inspiration from the keras [examples](https://github.com/keras-team/keras/tree/master/examples). (4 pts)\n",
    "2. Plot the learning curves of the convolutional neural network for MNIST and Fashion-MNIST. (4 pts)\n",
    "3. How does the CNN performance compare to the so far best performing (deep) neural network model for the two data sets? (2 sentences max.) (2 pts)\n",
    "\n",
    "### Solution"
   ]
  },
  {
   "cell_type": "code",
   "execution_count": 11,
   "metadata": {
    "ExecuteTime": {
     "end_time": "2018-02-23T16:05:21.840299Z",
     "start_time": "2018-02-23T15:51:11.993053Z"
    }
   },
   "outputs": [
    {
     "name": "stdout",
     "output_type": "stream",
     "text": [
      "Train on 48000 samples, validate on 12000 samples\n",
      "Epoch 1/5\n",
      "48000/48000 [==============================] - 1317s 27ms/step - loss: 0.3040 - acc: 0.9067 - val_loss: 0.0776 - val_acc: 0.9772\n",
      "Epoch 2/5\n",
      "48000/48000 [==============================] - 1316s 27ms/step - loss: 0.0995 - acc: 0.9700 - val_loss: 0.0513 - val_acc: 0.9856\n",
      "Epoch 3/5\n",
      "48000/48000 [==============================] - 1316s 27ms/step - loss: 0.0745 - acc: 0.9776 - val_loss: 0.0495 - val_acc: 0.9862\n",
      "Epoch 4/5\n",
      "48000/48000 [==============================] - 1319s 27ms/step - loss: 0.0606 - acc: 0.9812 - val_loss: 0.0452 - val_acc: 0.9874\n",
      "Epoch 5/5\n",
      "48000/48000 [==============================] - 1321s 28ms/step - loss: 0.0521 - acc: 0.9846 - val_loss: 0.0414 - val_acc: 0.9884\n"
     ]
    }
   ],
   "source": [
    "x_train = x_train.reshape(x_train.shape[0], 28, 28, 1)\n",
    "x_test = x_test.reshape(x_test.shape[0], 28, 28, 1)\n",
    "\n",
    "modelCNN = Sequential()\n",
    "modelCNN.add(Conv2D(32, kernel_size=(3, 3),\n",
    "                 activation='relu',\n",
    "                 input_shape=(28,28,1)))\n",
    "modelCNN.add(Conv2D(64, (3, 3), activation='relu'))\n",
    "modelCNN.add(MaxPooling2D(pool_size=(2, 2)))\n",
    "modelCNN.add(Dropout(0.25))\n",
    "modelCNN.add(Flatten())\n",
    "modelCNN.add(Dense(128, activation='relu'))\n",
    "modelCNN.add(Dropout(0.5))\n",
    "modelCNN.add(Dense(10, activation='softmax'))\n",
    "\n",
    "modelCNN.compile(loss=keras.losses.categorical_crossentropy,\n",
    "              optimizer=keras.optimizers.Adadelta(),\n",
    "              metrics=['accuracy'])\n",
    "\n",
    "histCNN = modelCNN.fit(x_train, y_train,\n",
    "          batch_size=128,\n",
    "          epochs=5,\n",
    "          verbose=1,\n",
    "          validation_split = 0.2)\n",
    "    \n",
    "#plot_history(hist, 'CNN History');"
   ]
  },
  {
   "cell_type": "code",
   "execution_count": 6,
   "metadata": {},
   "outputs": [
    {
     "name": "stdout",
     "output_type": "stream",
     "text": [
      "Train on 48000 samples, validate on 12000 samples\n",
      "Epoch 1/5\n",
      "48000/48000 [==============================] - 1353s 28ms/step - loss: 0.6039 - acc: 0.7864 - val_loss: 0.3602 - val_acc: 0.8680\n",
      "Epoch 2/5\n",
      "48000/48000 [==============================] - 1323s 28ms/step - loss: 0.3870 - acc: 0.8635 - val_loss: 0.3214 - val_acc: 0.8811\n",
      "Epoch 3/5\n",
      "48000/48000 [==============================] - 1323s 28ms/step - loss: 0.3377 - acc: 0.8773 - val_loss: 0.2950 - val_acc: 0.8913\n",
      "Epoch 4/5\n",
      "48000/48000 [==============================] - 1319s 27ms/step - loss: 0.3138 - acc: 0.8877 - val_loss: 0.2771 - val_acc: 0.8958\n",
      "Epoch 5/5\n",
      "48000/48000 [==============================] - 1318s 27ms/step - loss: 0.2877 - acc: 0.8959 - val_loss: 0.2700 - val_acc: 0.9024\n"
     ]
    }
   ],
   "source": [
    "x_fashion_train = x_fashion_train.reshape(x_train.shape[0], 28, 28, 1)\n",
    "x_fashion_test = x_fashion_test.reshape(x_test.shape[0], 28, 28, 1)\n",
    "\n",
    "model = Sequential()\n",
    "model.add(Conv2D(32, kernel_size=(3, 3),\n",
    "                 activation='relu',\n",
    "                 input_shape=(28,28,1)))\n",
    "model.add(Conv2D(64, (3, 3), activation='relu'))\n",
    "model.add(MaxPooling2D(pool_size=(2, 2)))\n",
    "model.add(Dropout(0.25))\n",
    "model.add(Flatten())\n",
    "model.add(Dense(128, activation='relu'))\n",
    "model.add(Dropout(0.5))\n",
    "model.add(Dense(10, activation='softmax'))\n",
    "\n",
    "model.compile(loss=keras.losses.categorical_crossentropy,\n",
    "              optimizer=keras.optimizers.Adadelta(),\n",
    "              metrics=['accuracy'])\n",
    "\n",
    "hist = model.fit(x_fashion_train, y_fashion_train,\n",
    "          batch_size=128,\n",
    "          epochs=5,\n",
    "          verbose=1,\n",
    "          validation_split = 0.2)\n",
    "    \n",
    "#plot_history(hist, 'CNN History');"
   ]
  },
  {
   "cell_type": "code",
   "execution_count": 12,
   "metadata": {},
   "outputs": [
    {
     "data": {
      "image/png": "[encoded data removed]",
      "text/plain": [
       "<Figure size 864x432 with 2 Axes>"
      ]
     },
     "metadata": {
      "needs_background": "light"
     },
     "output_type": "display_data"
    },
    {
     "data": {
      "image/png": "[encoded data removed]",
      "text/plain": [
       "<Figure size 864x432 with 2 Axes>"
      ]
     },
     "metadata": {
      "needs_background": "light"
     },
     "output_type": "display_data"
    }
   ],
   "source": [
    "plot_history(histCNN, 'MNIST trained on CNN');\n",
    "plot_history(hist, 'Fashion-MNIST trained on CNN');"
   ]
  },
  {
   "cell_type": "markdown",
   "metadata": {},
   "source": [
    "Answer to question 3:"
   ]
  },
  {
   "cell_type": "markdown",
   "metadata": {},
   "source": []
  },
  {
   "cell_type": "markdown",
   "metadata": {},
   "source": [
    "## Exercise 7: Sigmoidal activation function and batch-normalization (6 points)\n",
    "\n",
    "### Description:\n",
    "\n",
    "In the original publication of batch normalization [Ioffe and Szegedy, 2014](https://arxiv.org/pdf/1502.03167.pdf), the authors mention a particularly beneficial effect of their method on networks with sigmoidal activation functions. This is because such networks usually suffer from saturating activations/vanishing gradients. Here we want to reproduce this behaviour (Chose either MNIST or Fashion-MNIST for this exercise).\n",
    "\n",
    "1. Implement the same convolutional network as in the previous exercise, but using the sigmoid activation function instead of the standard choice ReLU. Train the network for a reasonable amount of time. What do you observe? (1 sentence max.) (3 pts)\n",
    "2. Add batch-normalization layers to all convolutional and fully-connected layers (i.e. before each layer with learnable parameters). How does the performance change? Can the network reach the ReLU-CNN performance of the previous exercise? (1 sentence max.) (3 pts)\n",
    "3. **BONUS (optional, not graded**): Investigate our initial guess that saturating activity/vanishing gradients might be the cause of this behaviour. For that, create histograms of the hidden activitions for different hidden layers for the sigmoid-CNN and the sigmoid-CNN with batch-normalization (counting over both, samples and neurons per layer). You may only chose layers with learnable parameters. What do you observe?\n",
    "Hint: You can use the [keract](https://github.com/philipperemy/keract) package to access neural activation values for all layers of your network model.\n",
    "\n",
    "\n",
    "\n",
    "### Solution:"
   ]
  },
  {
   "cell_type": "code",
   "execution_count": null,
   "metadata": {},
   "outputs": [],
   "source": []
  },
  {
   "cell_type": "markdown",
   "metadata": {},
   "source": [
    "Answer to question 1:"
   ]
  },
  {
   "cell_type": "markdown",
   "metadata": {},
   "source": []
  },
  {
   "cell_type": "markdown",
   "metadata": {},
   "source": [
    "Answer to question 2:"
   ]
  },
  {
   "cell_type": "markdown",
   "metadata": {},
   "source": []
  }
 ],
 "metadata": {
  "kernelspec": {
   "display_name": "Python 3",
   "language": "python",
   "name": "python3"
  },
  "language_info": {
   "codemirror_mode": {
    "name": "ipython",
    "version": 3
   },
   "file_extension": ".py",
   "mimetype": "text/x-python",
   "name": "python",
   "nbconvert_exporter": "python",
   "pygments_lexer": "ipython3",
   "version": "3.6.8"
  },
  "toc": {
   "base_numbering": 1,
   "nav_menu": {},
   "number_sections": true,
   "sideBar": true,
   "skip_h1_title": false,
   "title_cell": "Table of Contents",
   "title_sidebar": "Contents",
   "toc_cell": false,
   "toc_position": {},
   "toc_section_display": true,
   "toc_window_display": false
  },
  "varInspector": {
   "cols": {
    "lenName": 16,
    "lenType": 16,
    "lenVar": 40
   },
   "kernels_config": {
    "python": {
     "delete_cmd_postfix": "",
     "delete_cmd_prefix": "del ",
     "library": "var_list.py",
     "varRefreshCmd": "print(var_dic_list())"
    },
    "r": {
     "delete_cmd_postfix": ") ",
     "delete_cmd_prefix": "rm(",
     "library": "var_list.r",
     "varRefreshCmd": "cat(var_dic_list()) "
    }
   },
   "types_to_exclude": [
    "module",
    "function",
    "builtin_function_or_method",
    "instance",
    "_Feature"
   ],
   "window_display": false
  }
 },
 "nbformat": 4,
 "nbformat_minor": 2
}
